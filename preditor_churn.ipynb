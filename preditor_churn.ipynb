{
  "nbformat": 4,
  "nbformat_minor": 0,
  "metadata": {
    "colab": {
      "provenance": []
    },
    "kernelspec": {
      "name": "python3",
      "display_name": "Python 3"
    },
    "language_info": {
      "name": "python"
    }
  },
  "cells": [
    {
      "cell_type": "markdown",
      "source": [
        "# Preparação do ambiente Spark"
      ],
      "metadata": {
        "id": "e1NOtcz0om4Y"
      }
    },
    {
      "cell_type": "code",
      "execution_count": null,
      "metadata": {
        "id": "TnOkzYLFRtiJ"
      },
      "outputs": [],
      "source": [
        "!pip -qq install pyspark"
      ]
    },
    {
      "cell_type": "code",
      "execution_count": 2,
      "metadata": {
        "id": "UP7fr4vAvU1G"
      },
      "outputs": [],
      "source": [
        "from pyspark.sql import SparkSession"
      ]
    },
    {
      "cell_type": "code",
      "execution_count": 3,
      "metadata": {
        "id": "vAE2fUVxrGhn"
      },
      "outputs": [],
      "source": [
        "spark = SparkSession.builder\\\n",
        "    .master('local[*]')\\\n",
        "    .appName(\"Classificação com Spark\")\\\n",
        "    .getOrCreate()"
      ]
    },
    {
      "cell_type": "markdown",
      "source": [
        "# Importação dos dados"
      ],
      "metadata": {
        "id": "holVZd71oyRF"
      }
    },
    {
      "cell_type": "code",
      "source": [
        "!mkdir assets\n",
        "! wget -qq -O ./assets/dataset.csv https://github.com/kamillafsilva/preditor_churn/blob/main/assets/dataset.csv?raw=true"
      ],
      "metadata": {
        "id": "jgZKr6iwo0rc"
      },
      "execution_count": 4,
      "outputs": []
    },
    {
      "cell_type": "code",
      "execution_count": 5,
      "metadata": {
        "id": "a8bGatX5vnIN"
      },
      "outputs": [],
      "source": [
        "raw = spark.read.csv('./assets/dataset.csv', sep=',', header = True, inferSchema = True)"
      ]
    },
    {
      "cell_type": "code",
      "execution_count": 6,
      "metadata": {
        "colab": {
          "base_uri": "https://localhost:8080/"
        },
        "id": "Wyv_nf83Rs5j",
        "outputId": "e26690a5-7efa-4137-8d50-8cde7af2902b"
      },
      "outputs": [
        {
          "output_type": "stream",
          "name": "stdout",
          "text": [
            "+---+-----+----------+-------+-----------+---------------+------------+------------------------+-----------+---------------+------------+-----------------+--------------+-------+---------------+------------+------------+----------------+-------------+\n",
            "|id |Churn|Mais65anos|Conjuge|Dependentes|MesesDeContrato|TelefoneFixo|MaisDeUmaLinhaTelefonica|Internet   |SegurancaOnline|BackupOnline|SeguroDispositivo|SuporteTecnico|TVaCabo|StreamingFilmes|TipoContrato|ContaCorreio|MetodoPagamento |MesesCobrados|\n",
            "+---+-----+----------+-------+-----------+---------------+------------+------------------------+-----------+---------------+------------+-----------------+--------------+-------+---------------+------------+------------+----------------+-------------+\n",
            "|0  |Nao  |0         |Sim    |Nao        |1              |Nao         |SemServicoTelefonico    |DSL        |Nao            |Sim         |Nao              |Nao           |Nao    |Nao            |Mensalmente |Sim         |BoletoEletronico|29.85        |\n",
            "|1  |Nao  |0         |Nao    |Nao        |34             |Sim         |Nao                     |DSL        |Sim            |Nao         |Sim              |Nao           |Nao    |Nao            |UmAno       |Nao         |Boleto          |56.95        |\n",
            "|2  |Sim  |0         |Nao    |Nao        |2              |Sim         |Nao                     |DSL        |Sim            |Sim         |Nao              |Nao           |Nao    |Nao            |Mensalmente |Sim         |Boleto          |53.85        |\n",
            "|3  |Nao  |0         |Nao    |Nao        |45             |Nao         |SemServicoTelefonico    |DSL        |Sim            |Nao         |Sim              |Sim           |Nao    |Nao            |UmAno       |Nao         |DebitoEmConta   |42.3         |\n",
            "|4  |Sim  |0         |Nao    |Nao        |2              |Sim         |Nao                     |FibraOptica|Nao            |Nao         |Nao              |Nao           |Nao    |Nao            |Mensalmente |Sim         |BoletoEletronico|70.7         |\n",
            "+---+-----+----------+-------+-----------+---------------+------------+------------------------+-----------+---------------+------------+-----------------+--------------+-------+---------------+------------+------------+----------------+-------------+\n",
            "only showing top 5 rows\n",
            "\n"
          ]
        }
      ],
      "source": [
        "raw.show(5, truncate = False)"
      ]
    },
    {
      "cell_type": "code",
      "source": [
        "raw.printSchema()"
      ],
      "metadata": {
        "colab": {
          "base_uri": "https://localhost:8080/"
        },
        "id": "qQhNblmorSZw",
        "outputId": "e5146dcb-5294-4c2c-9a47-1b86206e8356"
      },
      "execution_count": 7,
      "outputs": [
        {
          "output_type": "stream",
          "name": "stdout",
          "text": [
            "root\n",
            " |-- id: integer (nullable = true)\n",
            " |-- Churn: string (nullable = true)\n",
            " |-- Mais65anos: integer (nullable = true)\n",
            " |-- Conjuge: string (nullable = true)\n",
            " |-- Dependentes: string (nullable = true)\n",
            " |-- MesesDeContrato: integer (nullable = true)\n",
            " |-- TelefoneFixo: string (nullable = true)\n",
            " |-- MaisDeUmaLinhaTelefonica: string (nullable = true)\n",
            " |-- Internet: string (nullable = true)\n",
            " |-- SegurancaOnline: string (nullable = true)\n",
            " |-- BackupOnline: string (nullable = true)\n",
            " |-- SeguroDispositivo: string (nullable = true)\n",
            " |-- SuporteTecnico: string (nullable = true)\n",
            " |-- TVaCabo: string (nullable = true)\n",
            " |-- StreamingFilmes: string (nullable = true)\n",
            " |-- TipoContrato: string (nullable = true)\n",
            " |-- ContaCorreio: string (nullable = true)\n",
            " |-- MetodoPagamento: string (nullable = true)\n",
            " |-- MesesCobrados: double (nullable = true)\n",
            "\n"
          ]
        }
      ]
    },
    {
      "cell_type": "markdown",
      "source": [
        "# Preparando os dados"
      ],
      "metadata": {
        "id": "ZQDr-z36si8R"
      }
    },
    {
      "cell_type": "markdown",
      "source": [
        "## Dados faltantes"
      ],
      "metadata": {
        "id": "ZpceX1-ntSOm"
      }
    },
    {
      "cell_type": "code",
      "source": [
        "from pyspark.sql.types import IntegerType, DoubleType, StringType\n",
        "from pyspark.sql import functions as f"
      ],
      "metadata": {
        "id": "ww7KoQ3wsyXx"
      },
      "execution_count": 8,
      "outputs": []
    },
    {
      "cell_type": "code",
      "execution_count": 9,
      "metadata": {
        "id": "33fG2E7ntvtN"
      },
      "outputs": [],
      "source": [
        "num = [f.name for f in raw.schema.fields if not isinstance(f.dataType, StringType)] #campos numéricos\n",
        "num.remove('id')\n",
        "num.remove('Mais65anos')"
      ]
    },
    {
      "cell_type": "code",
      "execution_count": 10,
      "metadata": {
        "colab": {
          "base_uri": "https://localhost:8080/"
        },
        "id": "dpc3IEHHScop",
        "outputId": "f455d0fb-ac58-484f-ae81-8120a0490c7b"
      },
      "outputs": [
        {
          "output_type": "stream",
          "name": "stdout",
          "text": [
            "+---------------+-------------+\n",
            "|MesesDeContrato|MesesCobrados|\n",
            "+---------------+-------------+\n",
            "|              0|            0|\n",
            "+---------------+-------------+\n",
            "\n"
          ]
        }
      ],
      "source": [
        "raw\\\n",
        "  .select([f.count(f.when(f.isnull(c) | f.isnan(c), 1)).alias(c) for c in num])\\\n",
        "  .show()"
      ]
    },
    {
      "cell_type": "code",
      "execution_count": 11,
      "metadata": {
        "id": "jsuRKpvounIx"
      },
      "outputs": [],
      "source": [
        "cat = [f.name for f in raw.schema.fields if isinstance(f.dataType, StringType)] #campos categóricos"
      ]
    },
    {
      "cell_type": "code",
      "execution_count": 12,
      "metadata": {
        "colab": {
          "base_uri": "https://localhost:8080/"
        },
        "id": "6LLVFBNTvtWY",
        "outputId": "d35ec016-88af-4b9a-daf7-dafa7b16f3d2"
      },
      "outputs": [
        {
          "output_type": "stream",
          "name": "stdout",
          "text": [
            "+-----+-------+-----------+------------+------------------------+--------+---------------+------------+-----------------+--------------+-------+---------------+------------+------------+---------------+\n",
            "|Churn|Conjuge|Dependentes|TelefoneFixo|MaisDeUmaLinhaTelefonica|Internet|SegurancaOnline|BackupOnline|SeguroDispositivo|SuporteTecnico|TVaCabo|StreamingFilmes|TipoContrato|ContaCorreio|MetodoPagamento|\n",
            "+-----+-------+-----------+------------+------------------------+--------+---------------+------------+-----------------+--------------+-------+---------------+------------+------------+---------------+\n",
            "|    0|      0|          0|           0|                       0|       0|              0|           0|                0|             0|      0|              0|           0|           0|              0|\n",
            "+-----+-------+-----------+------------+------------------------+--------+---------------+------------+-----------------+--------------+-------+---------------+------------+------------+---------------+\n",
            "\n"
          ]
        }
      ],
      "source": [
        "raw\\\n",
        "  .select([f.count(f.when(f.isnull(c) | (f.col(c) == ''), 1)).alias(c) for c in cat])\\\n",
        "  .show()"
      ]
    },
    {
      "cell_type": "markdown",
      "source": [
        "# Medidas de resumo"
      ],
      "metadata": {
        "id": "0PWZmd6fvBBB"
      }
    },
    {
      "cell_type": "code",
      "source": [
        "raw.select(num).summary().show()"
      ],
      "metadata": {
        "colab": {
          "base_uri": "https://localhost:8080/"
        },
        "id": "JMWZ6GTntXct",
        "outputId": "69971a2a-5c33-4428-e39e-0137c5d90d7a"
      },
      "execution_count": 13,
      "outputs": [
        {
          "output_type": "stream",
          "name": "stdout",
          "text": [
            "+-------+------------------+------------------+\n",
            "|summary|   MesesDeContrato|     MesesCobrados|\n",
            "+-------+------------------+------------------+\n",
            "|  count|             10348|             10348|\n",
            "|   mean|27.518554310011595| 67.72477324116379|\n",
            "| stddev| 24.09778298180764|28.859250112596182|\n",
            "|    min|                 0|             18.25|\n",
            "|    25%|                 5|             45.35|\n",
            "|    50%|                21| 74.57758818204512|\n",
            "|    75%|                49|              90.8|\n",
            "|    max|                72|            118.75|\n",
            "+-------+------------------+------------------+\n",
            "\n"
          ]
        }
      ]
    },
    {
      "cell_type": "code",
      "source": [
        "raw\\\n",
        "  .select([f.countDistinct(f.col(c)).alias(c) for c in cat])\\\n",
        "  .show()"
      ],
      "metadata": {
        "colab": {
          "base_uri": "https://localhost:8080/"
        },
        "id": "1iExdA3fusVh",
        "outputId": "8ac52f84-3c5c-41d5-b00b-38d7ae547e77"
      },
      "execution_count": 14,
      "outputs": [
        {
          "output_type": "stream",
          "name": "stdout",
          "text": [
            "+-----+-------+-----------+------------+------------------------+--------+---------------+------------+-----------------+--------------+-------+---------------+------------+------------+---------------+\n",
            "|Churn|Conjuge|Dependentes|TelefoneFixo|MaisDeUmaLinhaTelefonica|Internet|SegurancaOnline|BackupOnline|SeguroDispositivo|SuporteTecnico|TVaCabo|StreamingFilmes|TipoContrato|ContaCorreio|MetodoPagamento|\n",
            "+-----+-------+-----------+------------+------------------------+--------+---------------+------------+-----------------+--------------+-------+---------------+------------+------------+---------------+\n",
            "|    2|      2|          2|           2|                       3|       3|              3|           3|                3|             3|      3|              3|           3|           2|              4|\n",
            "+-----+-------+-----------+------------+------------------------+--------+---------------+------------+-----------------+--------------+-------+---------------+------------+------------+---------------+\n",
            "\n"
          ]
        }
      ]
    },
    {
      "cell_type": "code",
      "source": [
        "raw \\\n",
        "  .select('Churn')\\\n",
        "  .groupBy('Churn')\\\n",
        "  .count()\\\n",
        "  .show()"
      ],
      "metadata": {
        "colab": {
          "base_uri": "https://localhost:8080/"
        },
        "id": "E1ThGv4vrwrR",
        "outputId": "08fe9e34-86d6-4f83-8920-6606159b81aa"
      },
      "execution_count": 15,
      "outputs": [
        {
          "output_type": "stream",
          "name": "stdout",
          "text": [
            "+-----+-----+\n",
            "|Churn|count|\n",
            "+-----+-----+\n",
            "|  Sim| 5174|\n",
            "|  Nao| 5174|\n",
            "+-----+-----+\n",
            "\n"
          ]
        }
      ]
    },
    {
      "cell_type": "code",
      "execution_count": 16,
      "metadata": {
        "id": "gzlPhhDQduos"
      },
      "outputs": [],
      "source": [
        "raw = raw.withColumnRenamed('Churn', 'target')"
      ]
    },
    {
      "cell_type": "code",
      "source": [
        "raw = raw.withColumn('target', f.when(f.lower(raw.target) == \"sim\", 1).otherwise(0).alias('target'))"
      ],
      "metadata": {
        "id": "e3OC-92eDrhQ"
      },
      "execution_count": 17,
      "outputs": []
    },
    {
      "cell_type": "code",
      "source": [
        "raw \\\n",
        "  .groupBy('target')\\\n",
        "  .count()\\\n",
        "  .show()"
      ],
      "metadata": {
        "colab": {
          "base_uri": "https://localhost:8080/"
        },
        "id": "PwEkJ57zEzqw",
        "outputId": "5e842278-e7c0-42ec-c3c2-97c59857d69f"
      },
      "execution_count": 18,
      "outputs": [
        {
          "output_type": "stream",
          "name": "stdout",
          "text": [
            "+------+-----+\n",
            "|target|count|\n",
            "+------+-----+\n",
            "|     1| 5174|\n",
            "|     0| 5174|\n",
            "+------+-----+\n",
            "\n"
          ]
        }
      ]
    },
    {
      "cell_type": "code",
      "execution_count": 19,
      "metadata": {
        "id": "tfgGOe3ra6dj"
      },
      "outputs": [],
      "source": [
        "raw.write.parquet(path = './assets/processed')"
      ]
    },
    {
      "cell_type": "markdown",
      "source": [
        "# Construção do modelo"
      ],
      "metadata": {
        "id": "Tq0Re57CAAo3"
      }
    },
    {
      "cell_type": "markdown",
      "source": [
        "## Pré-processamento dos dados"
      ],
      "metadata": {
        "id": "qzGOoBONAB2o"
      }
    },
    {
      "cell_type": "code",
      "execution_count": 20,
      "metadata": {
        "id": "3G_VtQWmc5Np"
      },
      "outputs": [],
      "source": [
        "processed = spark.read.parquet('./assets/processed')"
      ]
    },
    {
      "cell_type": "code",
      "execution_count": 21,
      "metadata": {
        "colab": {
          "base_uri": "https://localhost:8080/"
        },
        "id": "JsHobQyAdQ6s",
        "outputId": "82ca7309-b99c-451d-866a-2e04cbd355c7"
      },
      "outputs": [
        {
          "output_type": "stream",
          "name": "stdout",
          "text": [
            "+---+------+----------+-------+-----------+---------------+------------+------------------------+-----------+---------------+------------+-----------------+--------------+-------+---------------+------------+------------+----------------+-------------+\n",
            "| id|target|Mais65anos|Conjuge|Dependentes|MesesDeContrato|TelefoneFixo|MaisDeUmaLinhaTelefonica|   Internet|SegurancaOnline|BackupOnline|SeguroDispositivo|SuporteTecnico|TVaCabo|StreamingFilmes|TipoContrato|ContaCorreio| MetodoPagamento|MesesCobrados|\n",
            "+---+------+----------+-------+-----------+---------------+------------+------------------------+-----------+---------------+------------+-----------------+--------------+-------+---------------+------------+------------+----------------+-------------+\n",
            "|  0|     0|         0|    Sim|        Nao|              1|         Nao|    SemServicoTelefonico|        DSL|            Nao|         Sim|              Nao|           Nao|    Nao|            Nao| Mensalmente|         Sim|BoletoEletronico|        29.85|\n",
            "|  1|     0|         0|    Nao|        Nao|             34|         Sim|                     Nao|        DSL|            Sim|         Nao|              Sim|           Nao|    Nao|            Nao|       UmAno|         Nao|          Boleto|        56.95|\n",
            "|  2|     1|         0|    Nao|        Nao|              2|         Sim|                     Nao|        DSL|            Sim|         Sim|              Nao|           Nao|    Nao|            Nao| Mensalmente|         Sim|          Boleto|        53.85|\n",
            "|  3|     0|         0|    Nao|        Nao|             45|         Nao|    SemServicoTelefonico|        DSL|            Sim|         Nao|              Sim|           Sim|    Nao|            Nao|       UmAno|         Nao|   DebitoEmConta|         42.3|\n",
            "|  4|     1|         0|    Nao|        Nao|              2|         Sim|                     Nao|FibraOptica|            Nao|         Nao|              Nao|           Nao|    Nao|            Nao| Mensalmente|         Sim|BoletoEletronico|         70.7|\n",
            "+---+------+----------+-------+-----------+---------------+------------+------------------------+-----------+---------------+------------+-----------------+--------------+-------+---------------+------------+------------+----------------+-------------+\n",
            "only showing top 5 rows\n",
            "\n"
          ]
        }
      ],
      "source": [
        "processed.show(5)"
      ]
    },
    {
      "cell_type": "code",
      "execution_count": 22,
      "metadata": {
        "colab": {
          "base_uri": "https://localhost:8080/"
        },
        "id": "yItrek1ko3Up",
        "outputId": "9d05b320-28cb-48a4-c44d-0403a70ce5de"
      },
      "outputs": [
        {
          "output_type": "stream",
          "name": "stdout",
          "text": [
            "root\n",
            " |-- id: integer (nullable = true)\n",
            " |-- target: integer (nullable = true)\n",
            " |-- Mais65anos: integer (nullable = true)\n",
            " |-- Conjuge: string (nullable = true)\n",
            " |-- Dependentes: string (nullable = true)\n",
            " |-- MesesDeContrato: integer (nullable = true)\n",
            " |-- TelefoneFixo: string (nullable = true)\n",
            " |-- MaisDeUmaLinhaTelefonica: string (nullable = true)\n",
            " |-- Internet: string (nullable = true)\n",
            " |-- SegurancaOnline: string (nullable = true)\n",
            " |-- BackupOnline: string (nullable = true)\n",
            " |-- SeguroDispositivo: string (nullable = true)\n",
            " |-- SuporteTecnico: string (nullable = true)\n",
            " |-- TVaCabo: string (nullable = true)\n",
            " |-- StreamingFilmes: string (nullable = true)\n",
            " |-- TipoContrato: string (nullable = true)\n",
            " |-- ContaCorreio: string (nullable = true)\n",
            " |-- MetodoPagamento: string (nullable = true)\n",
            " |-- MesesCobrados: double (nullable = true)\n",
            "\n"
          ]
        }
      ],
      "source": [
        "processed.printSchema()"
      ]
    },
    {
      "cell_type": "code",
      "source": [
        "num = [f.name for f in raw.schema.fields if not isinstance(f.dataType, StringType)] #campos numéricos\n",
        "num.remove('id')\n",
        "\n",
        "cat = [f.name for f in raw.schema.fields if isinstance(f.dataType, StringType)] #campos categóricos"
      ],
      "metadata": {
        "id": "BNycStrIAaAo"
      },
      "execution_count": 23,
      "outputs": []
    },
    {
      "cell_type": "code",
      "source": [
        "treino, teste = processed.randomSplit([0.7, 0.3], seed = 42)"
      ],
      "metadata": {
        "id": "d4XEn-mZB4Ln"
      },
      "execution_count": 24,
      "outputs": []
    },
    {
      "cell_type": "markdown",
      "source": [
        "### OneHot Encoding, Vetorização e Escalonamento"
      ],
      "metadata": {
        "id": "MWh0MQoMxJtX"
      }
    },
    {
      "cell_type": "code",
      "execution_count": 25,
      "metadata": {
        "id": "TiIx9FWG60y2"
      },
      "outputs": [],
      "source": [
        "from pyspark.ml.feature import StringIndexer, OneHotEncoder, VectorAssembler, StandardScaler\n",
        "from pyspark.ml import Pipeline"
      ]
    },
    {
      "cell_type": "code",
      "execution_count": 26,
      "metadata": {
        "id": "k8TRgVGIyIWj"
      },
      "outputs": [],
      "source": [
        "features = num.copy()\n",
        "features.remove('target')"
      ]
    },
    {
      "cell_type": "code",
      "execution_count": 27,
      "metadata": {
        "id": "UvA-wS8Sv3uc"
      },
      "outputs": [],
      "source": [
        "indexer = StringIndexer(inputCols=cat, outputCols=['{}_indexed'.format(a) for a in cat])\n",
        "encoder = OneHotEncoder(inputCols=indexer.getOutputCols(), outputCols=['{}_onehot'.format(a) for a in cat])\n",
        "assembler = VectorAssembler(inputCols = features + encoder.getOutputCols(), outputCol = 'features')\n",
        "scaler = StandardScaler(inputCol='features', outputCol='features_scaled')"
      ]
    },
    {
      "cell_type": "code",
      "execution_count": 28,
      "metadata": {
        "id": "rJirw0Yu0Otb"
      },
      "outputs": [],
      "source": [
        "pipeline = Pipeline(stages=[indexer, encoder, assembler, scaler])\n",
        "pipeline_fitted = pipeline.fit(treino)"
      ]
    },
    {
      "cell_type": "code",
      "source": [
        "treino_scaled = pipeline_fitted.transform(treino).select('features_scaled', 'target')"
      ],
      "metadata": {
        "id": "yN4eYppuFTN9"
      },
      "execution_count": 29,
      "outputs": []
    },
    {
      "cell_type": "code",
      "source": [
        "treino_scaled.printSchema()"
      ],
      "metadata": {
        "colab": {
          "base_uri": "https://localhost:8080/"
        },
        "id": "WFzBntO7FXxX",
        "outputId": "8adf958a-f1d5-4fad-dad2-61008efc837a"
      },
      "execution_count": 30,
      "outputs": [
        {
          "output_type": "stream",
          "name": "stdout",
          "text": [
            "root\n",
            " |-- features_scaled: vector (nullable = true)\n",
            " |-- target: integer (nullable = true)\n",
            "\n"
          ]
        }
      ]
    },
    {
      "cell_type": "markdown",
      "source": [
        "## Treinando modelos de Classificação"
      ],
      "metadata": {
        "id": "uO2D993ZFf11"
      }
    },
    {
      "cell_type": "markdown",
      "source": [
        "## Regressão Logística"
      ],
      "metadata": {
        "id": "pxGLcBqEDYUG"
      }
    },
    {
      "cell_type": "code",
      "source": [
        "from pyspark.ml.classification import LogisticRegression"
      ],
      "metadata": {
        "id": "Z3MErS7fDXob"
      },
      "execution_count": 31,
      "outputs": []
    },
    {
      "cell_type": "code",
      "source": [
        "logReg = LogisticRegression(featuresCol = 'features_scaled', labelCol='target')\n",
        "logReg_fitted = logReg.fit(treino_scaled)"
      ],
      "metadata": {
        "id": "gJtCbt07y-Rn"
      },
      "execution_count": 32,
      "outputs": []
    },
    {
      "cell_type": "markdown",
      "source": [
        "## Árvore de Decisão"
      ],
      "metadata": {
        "id": "1MQqLw68DevS"
      }
    },
    {
      "cell_type": "code",
      "source": [
        "from pyspark.ml.classification import DecisionTreeClassifier"
      ],
      "metadata": {
        "id": "bsqL4IrsDjgc"
      },
      "execution_count": 33,
      "outputs": []
    },
    {
      "cell_type": "code",
      "source": [
        "tree = DecisionTreeClassifier(featuresCol = 'features_scaled', labelCol='target', seed = 42)\n",
        "tree_fitted = tree.fit(treino_scaled)"
      ],
      "metadata": {
        "id": "bOu0lgzjEC7Z"
      },
      "execution_count": 34,
      "outputs": []
    },
    {
      "cell_type": "markdown",
      "source": [
        "## XGBoost"
      ],
      "metadata": {
        "id": "6GtOQ2PsGaoW"
      }
    },
    {
      "cell_type": "code",
      "source": [
        "from xgboost.spark import SparkXGBClassifier"
      ],
      "metadata": {
        "id": "_ojY48JvGeID"
      },
      "execution_count": 35,
      "outputs": []
    },
    {
      "cell_type": "code",
      "source": [
        "xgb_params = {'max_depth': 6, 'min_child_weight': 1, 'gamma': 0}"
      ],
      "metadata": {
        "id": "3U0xxywgMdwl"
      },
      "execution_count": 36,
      "outputs": []
    },
    {
      "cell_type": "code",
      "source": [
        "xgb = SparkXGBClassifier(features_col = 'features_scaled', label_col='target', seed = 42, verbosity = 0, **xgb_params)\n",
        "xgb_fitted = xgb.fit(treino_scaled)"
      ],
      "metadata": {
        "colab": {
          "base_uri": "https://localhost:8080/"
        },
        "outputId": "265d14a2-1284-4da0-d891-ef94a55c6b69",
        "id": "puVpQZsbk3IH"
      },
      "execution_count": 37,
      "outputs": [
        {
          "output_type": "stream",
          "name": "stderr",
          "text": [
            "INFO:XGBoost-PySpark:Running xgboost-2.0.3 on 1 workers with\n",
            "\tbooster params: {'objective': 'binary:logistic', 'device': 'cpu', 'gamma': 0, 'max_depth': 6, 'min_child_weight': 1, 'verbosity': 0, 'seed': 42, 'nthread': 1}\n",
            "\ttrain_call_kwargs_params: {'verbose_eval': True, 'num_boost_round': 100}\n",
            "\tdmatrix_kwargs: {'nthread': 1, 'missing': nan}\n",
            "INFO:XGBoost-PySpark:Finished xgboost training!\n"
          ]
        }
      ]
    },
    {
      "cell_type": "markdown",
      "source": [
        "## Avaliação dos modelos"
      ],
      "metadata": {
        "id": "lKULh7t5lQF4"
      }
    },
    {
      "cell_type": "code",
      "source": [
        "from pyspark.ml.evaluation import MulticlassClassificationEvaluator\n",
        "from pyspark.mllib.evaluation import MulticlassMetrics\n",
        "from pyspark.sql.types import FloatType\n",
        "import pandas as pd"
      ],
      "metadata": {
        "id": "qVySuacaFe8w"
      },
      "execution_count": 38,
      "outputs": []
    },
    {
      "cell_type": "code",
      "source": [
        "def classification_report(model, data):\n",
        "  label = model.getLabelCol()\n",
        "\n",
        "  acc_evaluator = MulticlassClassificationEvaluator(labelCol = label, predictionCol=\"prediction\",metricName=  'accuracy')\n",
        "  f1_evaluator = MulticlassClassificationEvaluator(labelCol = label, predictionCol=\"prediction\",metricName=  'f1')\n",
        "  prec_evaluator = MulticlassClassificationEvaluator(labelCol = label, predictionCol=\"prediction\",metricName=  'precisionByLabel')\n",
        "  rec_evaluator = MulticlassClassificationEvaluator(labelCol = label, predictionCol=\"prediction\",metricName=  'recallByLabel')\n",
        "\n",
        "  preds = model.transform(data)\n",
        "\n",
        "  return [preds, {'acc':acc_evaluator.evaluate(preds), 'f1':f1_evaluator.evaluate(preds), 'prec':prec_evaluator.evaluate(preds), 'rec':rec_evaluator.evaluate(preds)}]"
      ],
      "metadata": {
        "id": "jm5Gk22F3RyC"
      },
      "execution_count": 39,
      "outputs": []
    },
    {
      "cell_type": "code",
      "source": [
        "def getConfusionMatrix(model, data):\n",
        "  label = model.getLabelCol()\n",
        "  preds = model.transform(data)\n",
        "  preds_and_labels =preds.select(['prediction',label]).withColumn('label', f.col(label).cast(FloatType())).orderBy('prediction')\n",
        "  preds_and_labels = preds_and_labels.select(['prediction', 'label'])\n",
        "  metrics = MulticlassMetrics(preds_and_labels.rdd.map(tuple))\n",
        "  return metrics.confusionMatrix().toArray()"
      ],
      "metadata": {
        "id": "hRjG8rFHCikm"
      },
      "execution_count": 40,
      "outputs": []
    },
    {
      "cell_type": "code",
      "source": [
        "models = [logReg_fitted, tree_fitted, xgb_fitted]\n",
        "results_treino = []\n",
        "\n",
        "for model in models:\n",
        "  model_report = classification_report(model, treino_scaled)[1]\n",
        "  results_treino.append(model_report)"
      ],
      "metadata": {
        "id": "942zmhgklJX_"
      },
      "execution_count": 41,
      "outputs": []
    },
    {
      "cell_type": "code",
      "source": [
        "pd.DataFrame(results_treino, index = ['logReg', 'tree', 'xgb'])"
      ],
      "metadata": {
        "colab": {
          "base_uri": "https://localhost:8080/",
          "height": 143
        },
        "id": "91LIU1Lq67Zi",
        "outputId": "46d712b2-9915-4bf1-be66-4ac41f7ac349"
      },
      "execution_count": 42,
      "outputs": [
        {
          "output_type": "execute_result",
          "data": {
            "text/plain": [
              "             acc        f1      prec       rec\n",
              "logReg  0.786609  0.786450  0.807316  0.757158\n",
              "tree    0.790147  0.790074  0.805603  0.769044\n",
              "xgb     0.935901  0.935850  0.966234  0.904376"
            ],
            "text/html": [
              "\n",
              "  <div id=\"df-d6f70683-0b83-44cb-8247-44223e7d5d4c\" class=\"colab-df-container\">\n",
              "    <div>\n",
              "<style scoped>\n",
              "    .dataframe tbody tr th:only-of-type {\n",
              "        vertical-align: middle;\n",
              "    }\n",
              "\n",
              "    .dataframe tbody tr th {\n",
              "        vertical-align: top;\n",
              "    }\n",
              "\n",
              "    .dataframe thead th {\n",
              "        text-align: right;\n",
              "    }\n",
              "</style>\n",
              "<table border=\"1\" class=\"dataframe\">\n",
              "  <thead>\n",
              "    <tr style=\"text-align: right;\">\n",
              "      <th></th>\n",
              "      <th>acc</th>\n",
              "      <th>f1</th>\n",
              "      <th>prec</th>\n",
              "      <th>rec</th>\n",
              "    </tr>\n",
              "  </thead>\n",
              "  <tbody>\n",
              "    <tr>\n",
              "      <th>logReg</th>\n",
              "      <td>0.786609</td>\n",
              "      <td>0.786450</td>\n",
              "      <td>0.807316</td>\n",
              "      <td>0.757158</td>\n",
              "    </tr>\n",
              "    <tr>\n",
              "      <th>tree</th>\n",
              "      <td>0.790147</td>\n",
              "      <td>0.790074</td>\n",
              "      <td>0.805603</td>\n",
              "      <td>0.769044</td>\n",
              "    </tr>\n",
              "    <tr>\n",
              "      <th>xgb</th>\n",
              "      <td>0.935901</td>\n",
              "      <td>0.935850</td>\n",
              "      <td>0.966234</td>\n",
              "      <td>0.904376</td>\n",
              "    </tr>\n",
              "  </tbody>\n",
              "</table>\n",
              "</div>\n",
              "    <div class=\"colab-df-buttons\">\n",
              "\n",
              "  <div class=\"colab-df-container\">\n",
              "    <button class=\"colab-df-convert\" onclick=\"convertToInteractive('df-d6f70683-0b83-44cb-8247-44223e7d5d4c')\"\n",
              "            title=\"Convert this dataframe to an interactive table.\"\n",
              "            style=\"display:none;\">\n",
              "\n",
              "  <svg xmlns=\"http://www.w3.org/2000/svg\" height=\"24px\" viewBox=\"0 -960 960 960\">\n",
              "    <path d=\"M120-120v-720h720v720H120Zm60-500h600v-160H180v160Zm220 220h160v-160H400v160Zm0 220h160v-160H400v160ZM180-400h160v-160H180v160Zm440 0h160v-160H620v160ZM180-180h160v-160H180v160Zm440 0h160v-160H620v160Z\"/>\n",
              "  </svg>\n",
              "    </button>\n",
              "\n",
              "  <style>\n",
              "    .colab-df-container {\n",
              "      display:flex;\n",
              "      gap: 12px;\n",
              "    }\n",
              "\n",
              "    .colab-df-convert {\n",
              "      background-color: #E8F0FE;\n",
              "      border: none;\n",
              "      border-radius: 50%;\n",
              "      cursor: pointer;\n",
              "      display: none;\n",
              "      fill: #1967D2;\n",
              "      height: 32px;\n",
              "      padding: 0 0 0 0;\n",
              "      width: 32px;\n",
              "    }\n",
              "\n",
              "    .colab-df-convert:hover {\n",
              "      background-color: #E2EBFA;\n",
              "      box-shadow: 0px 1px 2px rgba(60, 64, 67, 0.3), 0px 1px 3px 1px rgba(60, 64, 67, 0.15);\n",
              "      fill: #174EA6;\n",
              "    }\n",
              "\n",
              "    .colab-df-buttons div {\n",
              "      margin-bottom: 4px;\n",
              "    }\n",
              "\n",
              "    [theme=dark] .colab-df-convert {\n",
              "      background-color: #3B4455;\n",
              "      fill: #D2E3FC;\n",
              "    }\n",
              "\n",
              "    [theme=dark] .colab-df-convert:hover {\n",
              "      background-color: #434B5C;\n",
              "      box-shadow: 0px 1px 3px 1px rgba(0, 0, 0, 0.15);\n",
              "      filter: drop-shadow(0px 1px 2px rgba(0, 0, 0, 0.3));\n",
              "      fill: #FFFFFF;\n",
              "    }\n",
              "  </style>\n",
              "\n",
              "    <script>\n",
              "      const buttonEl =\n",
              "        document.querySelector('#df-d6f70683-0b83-44cb-8247-44223e7d5d4c button.colab-df-convert');\n",
              "      buttonEl.style.display =\n",
              "        google.colab.kernel.accessAllowed ? 'block' : 'none';\n",
              "\n",
              "      async function convertToInteractive(key) {\n",
              "        const element = document.querySelector('#df-d6f70683-0b83-44cb-8247-44223e7d5d4c');\n",
              "        const dataTable =\n",
              "          await google.colab.kernel.invokeFunction('convertToInteractive',\n",
              "                                                    [key], {});\n",
              "        if (!dataTable) return;\n",
              "\n",
              "        const docLinkHtml = 'Like what you see? Visit the ' +\n",
              "          '<a target=\"_blank\" href=https://colab.research.google.com/notebooks/data_table.ipynb>data table notebook</a>'\n",
              "          + ' to learn more about interactive tables.';\n",
              "        element.innerHTML = '';\n",
              "        dataTable['output_type'] = 'display_data';\n",
              "        await google.colab.output.renderOutput(dataTable, element);\n",
              "        const docLink = document.createElement('div');\n",
              "        docLink.innerHTML = docLinkHtml;\n",
              "        element.appendChild(docLink);\n",
              "      }\n",
              "    </script>\n",
              "  </div>\n",
              "\n",
              "\n",
              "<div id=\"df-82927f9f-1321-47cb-9ed4-23a2090a4345\">\n",
              "  <button class=\"colab-df-quickchart\" onclick=\"quickchart('df-82927f9f-1321-47cb-9ed4-23a2090a4345')\"\n",
              "            title=\"Suggest charts\"\n",
              "            style=\"display:none;\">\n",
              "\n",
              "<svg xmlns=\"http://www.w3.org/2000/svg\" height=\"24px\"viewBox=\"0 0 24 24\"\n",
              "     width=\"24px\">\n",
              "    <g>\n",
              "        <path d=\"M19 3H5c-1.1 0-2 .9-2 2v14c0 1.1.9 2 2 2h14c1.1 0 2-.9 2-2V5c0-1.1-.9-2-2-2zM9 17H7v-7h2v7zm4 0h-2V7h2v10zm4 0h-2v-4h2v4z\"/>\n",
              "    </g>\n",
              "</svg>\n",
              "  </button>\n",
              "\n",
              "<style>\n",
              "  .colab-df-quickchart {\n",
              "      --bg-color: #E8F0FE;\n",
              "      --fill-color: #1967D2;\n",
              "      --hover-bg-color: #E2EBFA;\n",
              "      --hover-fill-color: #174EA6;\n",
              "      --disabled-fill-color: #AAA;\n",
              "      --disabled-bg-color: #DDD;\n",
              "  }\n",
              "\n",
              "  [theme=dark] .colab-df-quickchart {\n",
              "      --bg-color: #3B4455;\n",
              "      --fill-color: #D2E3FC;\n",
              "      --hover-bg-color: #434B5C;\n",
              "      --hover-fill-color: #FFFFFF;\n",
              "      --disabled-bg-color: #3B4455;\n",
              "      --disabled-fill-color: #666;\n",
              "  }\n",
              "\n",
              "  .colab-df-quickchart {\n",
              "    background-color: var(--bg-color);\n",
              "    border: none;\n",
              "    border-radius: 50%;\n",
              "    cursor: pointer;\n",
              "    display: none;\n",
              "    fill: var(--fill-color);\n",
              "    height: 32px;\n",
              "    padding: 0;\n",
              "    width: 32px;\n",
              "  }\n",
              "\n",
              "  .colab-df-quickchart:hover {\n",
              "    background-color: var(--hover-bg-color);\n",
              "    box-shadow: 0 1px 2px rgba(60, 64, 67, 0.3), 0 1px 3px 1px rgba(60, 64, 67, 0.15);\n",
              "    fill: var(--button-hover-fill-color);\n",
              "  }\n",
              "\n",
              "  .colab-df-quickchart-complete:disabled,\n",
              "  .colab-df-quickchart-complete:disabled:hover {\n",
              "    background-color: var(--disabled-bg-color);\n",
              "    fill: var(--disabled-fill-color);\n",
              "    box-shadow: none;\n",
              "  }\n",
              "\n",
              "  .colab-df-spinner {\n",
              "    border: 2px solid var(--fill-color);\n",
              "    border-color: transparent;\n",
              "    border-bottom-color: var(--fill-color);\n",
              "    animation:\n",
              "      spin 1s steps(1) infinite;\n",
              "  }\n",
              "\n",
              "  @keyframes spin {\n",
              "    0% {\n",
              "      border-color: transparent;\n",
              "      border-bottom-color: var(--fill-color);\n",
              "      border-left-color: var(--fill-color);\n",
              "    }\n",
              "    20% {\n",
              "      border-color: transparent;\n",
              "      border-left-color: var(--fill-color);\n",
              "      border-top-color: var(--fill-color);\n",
              "    }\n",
              "    30% {\n",
              "      border-color: transparent;\n",
              "      border-left-color: var(--fill-color);\n",
              "      border-top-color: var(--fill-color);\n",
              "      border-right-color: var(--fill-color);\n",
              "    }\n",
              "    40% {\n",
              "      border-color: transparent;\n",
              "      border-right-color: var(--fill-color);\n",
              "      border-top-color: var(--fill-color);\n",
              "    }\n",
              "    60% {\n",
              "      border-color: transparent;\n",
              "      border-right-color: var(--fill-color);\n",
              "    }\n",
              "    80% {\n",
              "      border-color: transparent;\n",
              "      border-right-color: var(--fill-color);\n",
              "      border-bottom-color: var(--fill-color);\n",
              "    }\n",
              "    90% {\n",
              "      border-color: transparent;\n",
              "      border-bottom-color: var(--fill-color);\n",
              "    }\n",
              "  }\n",
              "</style>\n",
              "\n",
              "  <script>\n",
              "    async function quickchart(key) {\n",
              "      const quickchartButtonEl =\n",
              "        document.querySelector('#' + key + ' button');\n",
              "      quickchartButtonEl.disabled = true;  // To prevent multiple clicks.\n",
              "      quickchartButtonEl.classList.add('colab-df-spinner');\n",
              "      try {\n",
              "        const charts = await google.colab.kernel.invokeFunction(\n",
              "            'suggestCharts', [key], {});\n",
              "      } catch (error) {\n",
              "        console.error('Error during call to suggestCharts:', error);\n",
              "      }\n",
              "      quickchartButtonEl.classList.remove('colab-df-spinner');\n",
              "      quickchartButtonEl.classList.add('colab-df-quickchart-complete');\n",
              "    }\n",
              "    (() => {\n",
              "      let quickchartButtonEl =\n",
              "        document.querySelector('#df-82927f9f-1321-47cb-9ed4-23a2090a4345 button');\n",
              "      quickchartButtonEl.style.display =\n",
              "        google.colab.kernel.accessAllowed ? 'block' : 'none';\n",
              "    })();\n",
              "  </script>\n",
              "</div>\n",
              "\n",
              "    </div>\n",
              "  </div>\n"
            ],
            "application/vnd.google.colaboratory.intrinsic+json": {
              "type": "dataframe",
              "summary": "{\n  \"name\": \"pd\",\n  \"rows\": 3,\n  \"fields\": [\n    {\n      \"column\": \"acc\",\n      \"properties\": {\n        \"dtype\": \"number\",\n        \"std\": 0.08519089468106768,\n        \"min\": 0.7866086009798585,\n        \"max\": 0.9359009254218835,\n        \"num_unique_values\": 3,\n        \"samples\": [\n          0.7866086009798585,\n          0.7901469787697333,\n          0.9359009254218835\n        ],\n        \"semantic_type\": \"\",\n        \"description\": \"\"\n      }\n    },\n    {\n      \"column\": \"f1\",\n      \"properties\": {\n        \"dtype\": \"number\",\n        \"std\": 0.08522916115123383,\n        \"min\": 0.7864503453045113,\n        \"max\": 0.9358499684069852,\n        \"num_unique_values\": 3,\n        \"samples\": [\n          0.7864503453045113,\n          0.7900738303168927,\n          0.9358499684069852\n        ],\n        \"semantic_type\": \"\",\n        \"description\": \"\"\n      }\n    },\n    {\n      \"column\": \"prec\",\n      \"properties\": {\n        \"dtype\": \"number\",\n        \"std\": 0.09224986922673366,\n        \"min\": 0.8056027164685908,\n        \"max\": 0.9662337662337662,\n        \"num_unique_values\": 3,\n        \"samples\": [\n          0.807315668202765,\n          0.8056027164685908,\n          0.9662337662337662\n        ],\n        \"semantic_type\": \"\",\n        \"description\": \"\"\n      }\n    },\n    {\n      \"column\": \"rec\",\n      \"properties\": {\n        \"dtype\": \"number\",\n        \"std\": 0.08178135496307837,\n        \"min\": 0.7571582928146947,\n        \"max\": 0.9043760129659644,\n        \"num_unique_values\": 3,\n        \"samples\": [\n          0.7571582928146947,\n          0.7690437601296597,\n          0.9043760129659644\n        ],\n        \"semantic_type\": \"\",\n        \"description\": \"\"\n      }\n    }\n  ]\n}"
            }
          },
          "metadata": {},
          "execution_count": 42
        }
      ]
    },
    {
      "cell_type": "markdown",
      "source": [
        "## Avaliando o modelo no teste"
      ],
      "metadata": {
        "id": "zgS88rZq7pW6"
      }
    },
    {
      "cell_type": "code",
      "source": [
        "teste_scaled = pipeline_fitted.transform(teste)"
      ],
      "metadata": {
        "id": "GSU2DBQt7VpT"
      },
      "execution_count": 45,
      "outputs": []
    },
    {
      "cell_type": "code",
      "source": [
        "results_teste = []\n",
        "\n",
        "for model in models:\n",
        "  model_report = classification_report(model, teste_scaled)[1]\n",
        "  results_teste.append(model_report)"
      ],
      "metadata": {
        "id": "2Z4hjvzP7VpV"
      },
      "execution_count": 46,
      "outputs": []
    },
    {
      "cell_type": "code",
      "source": [
        "pd.DataFrame(results_teste, index = ['logReg', 'tree', 'xgb'])"
      ],
      "metadata": {
        "colab": {
          "base_uri": "https://localhost:8080/",
          "height": 143
        },
        "outputId": "756f3b02-7a09-42b0-a3a9-e625481cef2d",
        "id": "ldLdLVQc7VpW"
      },
      "execution_count": 47,
      "outputs": [
        {
          "output_type": "execute_result",
          "data": {
            "text/plain": [
              "             acc        f1      prec       rec\n",
              "logReg  0.788333  0.788197  0.794926  0.766304\n",
              "tree    0.792000  0.791940  0.794036  0.777853\n",
              "xgb     0.817000  0.816945  0.820264  0.802989"
            ],
            "text/html": [
              "\n",
              "  <div id=\"df-c3b31cc7-2b6c-4f6d-80cd-66b6f5d20cb0\" class=\"colab-df-container\">\n",
              "    <div>\n",
              "<style scoped>\n",
              "    .dataframe tbody tr th:only-of-type {\n",
              "        vertical-align: middle;\n",
              "    }\n",
              "\n",
              "    .dataframe tbody tr th {\n",
              "        vertical-align: top;\n",
              "    }\n",
              "\n",
              "    .dataframe thead th {\n",
              "        text-align: right;\n",
              "    }\n",
              "</style>\n",
              "<table border=\"1\" class=\"dataframe\">\n",
              "  <thead>\n",
              "    <tr style=\"text-align: right;\">\n",
              "      <th></th>\n",
              "      <th>acc</th>\n",
              "      <th>f1</th>\n",
              "      <th>prec</th>\n",
              "      <th>rec</th>\n",
              "    </tr>\n",
              "  </thead>\n",
              "  <tbody>\n",
              "    <tr>\n",
              "      <th>logReg</th>\n",
              "      <td>0.788333</td>\n",
              "      <td>0.788197</td>\n",
              "      <td>0.794926</td>\n",
              "      <td>0.766304</td>\n",
              "    </tr>\n",
              "    <tr>\n",
              "      <th>tree</th>\n",
              "      <td>0.792000</td>\n",
              "      <td>0.791940</td>\n",
              "      <td>0.794036</td>\n",
              "      <td>0.777853</td>\n",
              "    </tr>\n",
              "    <tr>\n",
              "      <th>xgb</th>\n",
              "      <td>0.817000</td>\n",
              "      <td>0.816945</td>\n",
              "      <td>0.820264</td>\n",
              "      <td>0.802989</td>\n",
              "    </tr>\n",
              "  </tbody>\n",
              "</table>\n",
              "</div>\n",
              "    <div class=\"colab-df-buttons\">\n",
              "\n",
              "  <div class=\"colab-df-container\">\n",
              "    <button class=\"colab-df-convert\" onclick=\"convertToInteractive('df-c3b31cc7-2b6c-4f6d-80cd-66b6f5d20cb0')\"\n",
              "            title=\"Convert this dataframe to an interactive table.\"\n",
              "            style=\"display:none;\">\n",
              "\n",
              "  <svg xmlns=\"http://www.w3.org/2000/svg\" height=\"24px\" viewBox=\"0 -960 960 960\">\n",
              "    <path d=\"M120-120v-720h720v720H120Zm60-500h600v-160H180v160Zm220 220h160v-160H400v160Zm0 220h160v-160H400v160ZM180-400h160v-160H180v160Zm440 0h160v-160H620v160ZM180-180h160v-160H180v160Zm440 0h160v-160H620v160Z\"/>\n",
              "  </svg>\n",
              "    </button>\n",
              "\n",
              "  <style>\n",
              "    .colab-df-container {\n",
              "      display:flex;\n",
              "      gap: 12px;\n",
              "    }\n",
              "\n",
              "    .colab-df-convert {\n",
              "      background-color: #E8F0FE;\n",
              "      border: none;\n",
              "      border-radius: 50%;\n",
              "      cursor: pointer;\n",
              "      display: none;\n",
              "      fill: #1967D2;\n",
              "      height: 32px;\n",
              "      padding: 0 0 0 0;\n",
              "      width: 32px;\n",
              "    }\n",
              "\n",
              "    .colab-df-convert:hover {\n",
              "      background-color: #E2EBFA;\n",
              "      box-shadow: 0px 1px 2px rgba(60, 64, 67, 0.3), 0px 1px 3px 1px rgba(60, 64, 67, 0.15);\n",
              "      fill: #174EA6;\n",
              "    }\n",
              "\n",
              "    .colab-df-buttons div {\n",
              "      margin-bottom: 4px;\n",
              "    }\n",
              "\n",
              "    [theme=dark] .colab-df-convert {\n",
              "      background-color: #3B4455;\n",
              "      fill: #D2E3FC;\n",
              "    }\n",
              "\n",
              "    [theme=dark] .colab-df-convert:hover {\n",
              "      background-color: #434B5C;\n",
              "      box-shadow: 0px 1px 3px 1px rgba(0, 0, 0, 0.15);\n",
              "      filter: drop-shadow(0px 1px 2px rgba(0, 0, 0, 0.3));\n",
              "      fill: #FFFFFF;\n",
              "    }\n",
              "  </style>\n",
              "\n",
              "    <script>\n",
              "      const buttonEl =\n",
              "        document.querySelector('#df-c3b31cc7-2b6c-4f6d-80cd-66b6f5d20cb0 button.colab-df-convert');\n",
              "      buttonEl.style.display =\n",
              "        google.colab.kernel.accessAllowed ? 'block' : 'none';\n",
              "\n",
              "      async function convertToInteractive(key) {\n",
              "        const element = document.querySelector('#df-c3b31cc7-2b6c-4f6d-80cd-66b6f5d20cb0');\n",
              "        const dataTable =\n",
              "          await google.colab.kernel.invokeFunction('convertToInteractive',\n",
              "                                                    [key], {});\n",
              "        if (!dataTable) return;\n",
              "\n",
              "        const docLinkHtml = 'Like what you see? Visit the ' +\n",
              "          '<a target=\"_blank\" href=https://colab.research.google.com/notebooks/data_table.ipynb>data table notebook</a>'\n",
              "          + ' to learn more about interactive tables.';\n",
              "        element.innerHTML = '';\n",
              "        dataTable['output_type'] = 'display_data';\n",
              "        await google.colab.output.renderOutput(dataTable, element);\n",
              "        const docLink = document.createElement('div');\n",
              "        docLink.innerHTML = docLinkHtml;\n",
              "        element.appendChild(docLink);\n",
              "      }\n",
              "    </script>\n",
              "  </div>\n",
              "\n",
              "\n",
              "<div id=\"df-7b6baf44-2417-401e-b1ae-7d4b05dc8cbc\">\n",
              "  <button class=\"colab-df-quickchart\" onclick=\"quickchart('df-7b6baf44-2417-401e-b1ae-7d4b05dc8cbc')\"\n",
              "            title=\"Suggest charts\"\n",
              "            style=\"display:none;\">\n",
              "\n",
              "<svg xmlns=\"http://www.w3.org/2000/svg\" height=\"24px\"viewBox=\"0 0 24 24\"\n",
              "     width=\"24px\">\n",
              "    <g>\n",
              "        <path d=\"M19 3H5c-1.1 0-2 .9-2 2v14c0 1.1.9 2 2 2h14c1.1 0 2-.9 2-2V5c0-1.1-.9-2-2-2zM9 17H7v-7h2v7zm4 0h-2V7h2v10zm4 0h-2v-4h2v4z\"/>\n",
              "    </g>\n",
              "</svg>\n",
              "  </button>\n",
              "\n",
              "<style>\n",
              "  .colab-df-quickchart {\n",
              "      --bg-color: #E8F0FE;\n",
              "      --fill-color: #1967D2;\n",
              "      --hover-bg-color: #E2EBFA;\n",
              "      --hover-fill-color: #174EA6;\n",
              "      --disabled-fill-color: #AAA;\n",
              "      --disabled-bg-color: #DDD;\n",
              "  }\n",
              "\n",
              "  [theme=dark] .colab-df-quickchart {\n",
              "      --bg-color: #3B4455;\n",
              "      --fill-color: #D2E3FC;\n",
              "      --hover-bg-color: #434B5C;\n",
              "      --hover-fill-color: #FFFFFF;\n",
              "      --disabled-bg-color: #3B4455;\n",
              "      --disabled-fill-color: #666;\n",
              "  }\n",
              "\n",
              "  .colab-df-quickchart {\n",
              "    background-color: var(--bg-color);\n",
              "    border: none;\n",
              "    border-radius: 50%;\n",
              "    cursor: pointer;\n",
              "    display: none;\n",
              "    fill: var(--fill-color);\n",
              "    height: 32px;\n",
              "    padding: 0;\n",
              "    width: 32px;\n",
              "  }\n",
              "\n",
              "  .colab-df-quickchart:hover {\n",
              "    background-color: var(--hover-bg-color);\n",
              "    box-shadow: 0 1px 2px rgba(60, 64, 67, 0.3), 0 1px 3px 1px rgba(60, 64, 67, 0.15);\n",
              "    fill: var(--button-hover-fill-color);\n",
              "  }\n",
              "\n",
              "  .colab-df-quickchart-complete:disabled,\n",
              "  .colab-df-quickchart-complete:disabled:hover {\n",
              "    background-color: var(--disabled-bg-color);\n",
              "    fill: var(--disabled-fill-color);\n",
              "    box-shadow: none;\n",
              "  }\n",
              "\n",
              "  .colab-df-spinner {\n",
              "    border: 2px solid var(--fill-color);\n",
              "    border-color: transparent;\n",
              "    border-bottom-color: var(--fill-color);\n",
              "    animation:\n",
              "      spin 1s steps(1) infinite;\n",
              "  }\n",
              "\n",
              "  @keyframes spin {\n",
              "    0% {\n",
              "      border-color: transparent;\n",
              "      border-bottom-color: var(--fill-color);\n",
              "      border-left-color: var(--fill-color);\n",
              "    }\n",
              "    20% {\n",
              "      border-color: transparent;\n",
              "      border-left-color: var(--fill-color);\n",
              "      border-top-color: var(--fill-color);\n",
              "    }\n",
              "    30% {\n",
              "      border-color: transparent;\n",
              "      border-left-color: var(--fill-color);\n",
              "      border-top-color: var(--fill-color);\n",
              "      border-right-color: var(--fill-color);\n",
              "    }\n",
              "    40% {\n",
              "      border-color: transparent;\n",
              "      border-right-color: var(--fill-color);\n",
              "      border-top-color: var(--fill-color);\n",
              "    }\n",
              "    60% {\n",
              "      border-color: transparent;\n",
              "      border-right-color: var(--fill-color);\n",
              "    }\n",
              "    80% {\n",
              "      border-color: transparent;\n",
              "      border-right-color: var(--fill-color);\n",
              "      border-bottom-color: var(--fill-color);\n",
              "    }\n",
              "    90% {\n",
              "      border-color: transparent;\n",
              "      border-bottom-color: var(--fill-color);\n",
              "    }\n",
              "  }\n",
              "</style>\n",
              "\n",
              "  <script>\n",
              "    async function quickchart(key) {\n",
              "      const quickchartButtonEl =\n",
              "        document.querySelector('#' + key + ' button');\n",
              "      quickchartButtonEl.disabled = true;  // To prevent multiple clicks.\n",
              "      quickchartButtonEl.classList.add('colab-df-spinner');\n",
              "      try {\n",
              "        const charts = await google.colab.kernel.invokeFunction(\n",
              "            'suggestCharts', [key], {});\n",
              "      } catch (error) {\n",
              "        console.error('Error during call to suggestCharts:', error);\n",
              "      }\n",
              "      quickchartButtonEl.classList.remove('colab-df-spinner');\n",
              "      quickchartButtonEl.classList.add('colab-df-quickchart-complete');\n",
              "    }\n",
              "    (() => {\n",
              "      let quickchartButtonEl =\n",
              "        document.querySelector('#df-7b6baf44-2417-401e-b1ae-7d4b05dc8cbc button');\n",
              "      quickchartButtonEl.style.display =\n",
              "        google.colab.kernel.accessAllowed ? 'block' : 'none';\n",
              "    })();\n",
              "  </script>\n",
              "</div>\n",
              "\n",
              "    </div>\n",
              "  </div>\n"
            ],
            "application/vnd.google.colaboratory.intrinsic+json": {
              "type": "dataframe",
              "summary": "{\n  \"name\": \"pd\",\n  \"rows\": 3,\n  \"fields\": [\n    {\n      \"column\": \"acc\",\n      \"properties\": {\n        \"dtype\": \"number\",\n        \"std\": 0.015600332380124765,\n        \"min\": 0.7883333333333333,\n        \"max\": 0.817,\n        \"num_unique_values\": 3,\n        \"samples\": [\n          0.7883333333333333,\n          0.792,\n          0.817\n        ],\n        \"semantic_type\": \"\",\n        \"description\": \"\"\n      }\n    },\n    {\n      \"column\": \"f1\",\n      \"properties\": {\n        \"dtype\": \"number\",\n        \"std\": 0.01562949917905139,\n        \"min\": 0.7881972872559133,\n        \"max\": 0.8169451148415817,\n        \"num_unique_values\": 3,\n        \"samples\": [\n          0.7881972872559133,\n          0.7919403242931635,\n          0.8169451148415817\n        ],\n        \"semantic_type\": \"\",\n        \"description\": \"\"\n      }\n    },\n    {\n      \"column\": \"prec\",\n      \"properties\": {\n        \"dtype\": \"number\",\n        \"std\": 0.014892282487213152,\n        \"min\": 0.7940360610263523,\n        \"max\": 0.8202637057598889,\n        \"num_unique_values\": 3,\n        \"samples\": [\n          0.7949260042283298,\n          0.7940360610263523,\n          0.8202637057598889\n        ],\n        \"semantic_type\": \"\",\n        \"description\": \"\"\n      }\n    },\n    {\n      \"column\": \"rec\",\n      \"properties\": {\n        \"dtype\": \"number\",\n        \"std\": 0.018757054700977202,\n        \"min\": 0.7663043478260869,\n        \"max\": 0.8029891304347826,\n        \"num_unique_values\": 3,\n        \"samples\": [\n          0.7663043478260869,\n          0.7778532608695652,\n          0.8029891304347826\n        ],\n        \"semantic_type\": \"\",\n        \"description\": \"\"\n      }\n    }\n  ]\n}"
            }
          },
          "metadata": {},
          "execution_count": 47
        }
      ]
    },
    {
      "cell_type": "markdown",
      "source": [
        "## Ajuste de hiperparâmetro com `hyperopt`"
      ],
      "metadata": {
        "id": "6Mqgl0SdJXxa"
      }
    },
    {
      "cell_type": "code",
      "source": [
        "from hyperopt import tpe, hp, fmin, STATUS_OK,Trials\n",
        "from hyperopt.early_stop import no_progress_loss\n",
        "\n",
        "from pyspark.ml.tuning import CrossValidator, ParamGridBuilder\n",
        "from pyspark.ml.evaluation import BinaryClassificationEvaluator"
      ],
      "metadata": {
        "id": "ltW5qudDJbsC"
      },
      "execution_count": 52,
      "outputs": []
    },
    {
      "cell_type": "code",
      "source": [
        "def prCrossValidator(params):\n",
        "  estimator = SparkXGBClassifier(features_col = 'features_scaled', label_col='target', seed = 42, verbosity = 0)\n",
        "  evaluator = BinaryClassificationEvaluator(labelCol = 'target', metricName = 'areaUnderPR')\n",
        "\n",
        "  grid = ParamGridBuilder()\\\n",
        "  .addGrid(estimator.max_depth, [int(params['max_depth'])])\\\n",
        "  .addGrid(estimator.min_child_weight, [params['min_child_weight']])\\\n",
        "  .addGrid(estimator.gamma, [params['gamma']])\\\n",
        "  .build()\n",
        "\n",
        "  cv = CrossValidator(\n",
        "    estimator = estimator,\n",
        "    estimatorParamMaps = grid,\n",
        "    evaluator = evaluator,\n",
        "    numFolds=5,\n",
        "    seed=42\n",
        "  )\n",
        "\n",
        "  cv_fitted = cv.fit(treino_scaled)\n",
        "  pr_auc = cv_fitted.avgMetrics[0]\n",
        "\n",
        "  return pr_auc"
      ],
      "metadata": {
        "id": "Qlbwb8t6IiLM"
      },
      "execution_count": 58,
      "outputs": []
    },
    {
      "cell_type": "code",
      "source": [
        "best = 0\n",
        "pr = []"
      ],
      "metadata": {
        "id": "yGQwDONXBbGl"
      },
      "execution_count": 61,
      "outputs": []
    },
    {
      "cell_type": "code",
      "source": [
        "def objective_function(search_space):\n",
        "    global best\n",
        "    pr_auc = prCrossValidator(search_space)\n",
        "    if pr_auc > best:\n",
        "        best = pr_auc\n",
        "        pr.append(search_space)\n",
        "    return {\"loss\": -pr_auc, \"status\": STATUS_OK}"
      ],
      "metadata": {
        "id": "YRmblwo4JlUN"
      },
      "execution_count": 55,
      "outputs": []
    },
    {
      "cell_type": "code",
      "execution_count": 60,
      "metadata": {
        "id": "fK-cbUI91aY0"
      },
      "outputs": [],
      "source": [
        "search_space = {'max_depth': hp.quniform('max_depth', 5, 20, 1),\n",
        "                'min_child_weight': hp.quniform('min_child_weight', 1, 20, 1),\n",
        "                'gamma': hp.uniform('gamma', 0, 0.5)\n",
        "                }\n",
        "trials = Trials()"
      ]
    },
    {
      "cell_type": "code",
      "execution_count": 62,
      "metadata": {
        "colab": {
          "base_uri": "https://localhost:8080/"
        },
        "id": "s7qC10ioq8Yh",
        "outputId": "daba7655-89dd-4852-87f1-ac600686740b"
      },
      "outputs": [
        {
          "output_type": "stream",
          "name": "stdout",
          "text": [
            "\r  0%|          | 0/40 [00:00<?, ?trial/s, best loss=?]"
          ]
        },
        {
          "output_type": "stream",
          "name": "stderr",
          "text": [
            "INFO:XGBoost-PySpark:Running xgboost-2.0.3 on 1 workers with\n",
            "\tbooster params: {'device': 'cpu', 'gamma': 0.04651054809910343, 'max_depth': 6, 'min_child_weight': 19.0, 'objective': 'binary:logistic', 'verbosity': 0, 'seed': 42, 'nthread': 1}\n",
            "\ttrain_call_kwargs_params: {'verbose_eval': True, 'num_boost_round': 100}\n",
            "\tdmatrix_kwargs: {'nthread': 1, 'missing': nan}\n",
            "INFO:XGBoost-PySpark:Finished xgboost training!\n",
            "INFO:XGBoost-PySpark:Running xgboost-2.0.3 on 1 workers with\n",
            "\tbooster params: {'device': 'cpu', 'gamma': 0.04651054809910343, 'max_depth': 6, 'min_child_weight': 19.0, 'objective': 'binary:logistic', 'verbosity': 0, 'seed': 42, 'nthread': 1}\n",
            "\ttrain_call_kwargs_params: {'verbose_eval': True, 'num_boost_round': 100}\n",
            "\tdmatrix_kwargs: {'nthread': 1, 'missing': nan}\n",
            "INFO:XGBoost-PySpark:Finished xgboost training!\n",
            "INFO:XGBoost-PySpark:Running xgboost-2.0.3 on 1 workers with\n",
            "\tbooster params: {'device': 'cpu', 'gamma': 0.04651054809910343, 'max_depth': 6, 'min_child_weight': 19.0, 'objective': 'binary:logistic', 'verbosity': 0, 'seed': 42, 'nthread': 1}\n",
            "\ttrain_call_kwargs_params: {'verbose_eval': True, 'num_boost_round': 100}\n",
            "\tdmatrix_kwargs: {'nthread': 1, 'missing': nan}\n",
            "INFO:XGBoost-PySpark:Finished xgboost training!\n",
            "INFO:XGBoost-PySpark:Running xgboost-2.0.3 on 1 workers with\n",
            "\tbooster params: {'device': 'cpu', 'gamma': 0.04651054809910343, 'max_depth': 6, 'min_child_weight': 19.0, 'objective': 'binary:logistic', 'verbosity': 0, 'seed': 42, 'nthread': 1}\n",
            "\ttrain_call_kwargs_params: {'verbose_eval': True, 'num_boost_round': 100}\n",
            "\tdmatrix_kwargs: {'nthread': 1, 'missing': nan}\n",
            "INFO:XGBoost-PySpark:Finished xgboost training!\n",
            "INFO:XGBoost-PySpark:Running xgboost-2.0.3 on 1 workers with\n",
            "\tbooster params: {'device': 'cpu', 'gamma': 0.04651054809910343, 'max_depth': 6, 'min_child_weight': 19.0, 'objective': 'binary:logistic', 'verbosity': 0, 'seed': 42, 'nthread': 1}\n",
            "\ttrain_call_kwargs_params: {'verbose_eval': True, 'num_boost_round': 100}\n",
            "\tdmatrix_kwargs: {'nthread': 1, 'missing': nan}\n",
            "INFO:XGBoost-PySpark:Finished xgboost training!\n",
            "INFO:XGBoost-PySpark:Running xgboost-2.0.3 on 1 workers with\n",
            "\tbooster params: {'device': 'cpu', 'gamma': 0.04651054809910343, 'max_depth': 6, 'min_child_weight': 19.0, 'objective': 'binary:logistic', 'verbosity': 0, 'seed': 42, 'nthread': 1}\n",
            "\ttrain_call_kwargs_params: {'verbose_eval': True, 'num_boost_round': 100}\n",
            "\tdmatrix_kwargs: {'nthread': 1, 'missing': nan}\n",
            "INFO:XGBoost-PySpark:Finished xgboost training!\n"
          ]
        },
        {
          "output_type": "stream",
          "name": "stdout",
          "text": [
            "\r  2%|▎         | 1/40 [00:29<19:24, 29.85s/trial, best loss: -0.870264108549154]"
          ]
        },
        {
          "output_type": "stream",
          "name": "stderr",
          "text": [
            "INFO:XGBoost-PySpark:Running xgboost-2.0.3 on 1 workers with\n",
            "\tbooster params: {'device': 'cpu', 'gamma': 0.17873822506832326, 'max_depth': 12, 'min_child_weight': 15.0, 'objective': 'binary:logistic', 'verbosity': 0, 'seed': 42, 'nthread': 1}\n",
            "\ttrain_call_kwargs_params: {'verbose_eval': True, 'num_boost_round': 100}\n",
            "\tdmatrix_kwargs: {'nthread': 1, 'missing': nan}\n",
            "INFO:XGBoost-PySpark:Finished xgboost training!\n",
            "INFO:XGBoost-PySpark:Running xgboost-2.0.3 on 1 workers with\n",
            "\tbooster params: {'device': 'cpu', 'gamma': 0.17873822506832326, 'max_depth': 12, 'min_child_weight': 15.0, 'objective': 'binary:logistic', 'verbosity': 0, 'seed': 42, 'nthread': 1}\n",
            "\ttrain_call_kwargs_params: {'verbose_eval': True, 'num_boost_round': 100}\n",
            "\tdmatrix_kwargs: {'nthread': 1, 'missing': nan}\n",
            "INFO:XGBoost-PySpark:Finished xgboost training!\n",
            "INFO:XGBoost-PySpark:Running xgboost-2.0.3 on 1 workers with\n",
            "\tbooster params: {'device': 'cpu', 'gamma': 0.17873822506832326, 'max_depth': 12, 'min_child_weight': 15.0, 'objective': 'binary:logistic', 'verbosity': 0, 'seed': 42, 'nthread': 1}\n",
            "\ttrain_call_kwargs_params: {'verbose_eval': True, 'num_boost_round': 100}\n",
            "\tdmatrix_kwargs: {'nthread': 1, 'missing': nan}\n",
            "INFO:XGBoost-PySpark:Finished xgboost training!\n",
            "INFO:XGBoost-PySpark:Running xgboost-2.0.3 on 1 workers with\n",
            "\tbooster params: {'device': 'cpu', 'gamma': 0.17873822506832326, 'max_depth': 12, 'min_child_weight': 15.0, 'objective': 'binary:logistic', 'verbosity': 0, 'seed': 42, 'nthread': 1}\n",
            "\ttrain_call_kwargs_params: {'verbose_eval': True, 'num_boost_round': 100}\n",
            "\tdmatrix_kwargs: {'nthread': 1, 'missing': nan}\n",
            "INFO:XGBoost-PySpark:Finished xgboost training!\n",
            "INFO:XGBoost-PySpark:Running xgboost-2.0.3 on 1 workers with\n",
            "\tbooster params: {'device': 'cpu', 'gamma': 0.17873822506832326, 'max_depth': 12, 'min_child_weight': 15.0, 'objective': 'binary:logistic', 'verbosity': 0, 'seed': 42, 'nthread': 1}\n",
            "\ttrain_call_kwargs_params: {'verbose_eval': True, 'num_boost_round': 100}\n",
            "\tdmatrix_kwargs: {'nthread': 1, 'missing': nan}\n",
            "INFO:XGBoost-PySpark:Finished xgboost training!\n",
            "INFO:XGBoost-PySpark:Running xgboost-2.0.3 on 1 workers with\n",
            "\tbooster params: {'device': 'cpu', 'gamma': 0.17873822506832326, 'max_depth': 12, 'min_child_weight': 15.0, 'objective': 'binary:logistic', 'verbosity': 0, 'seed': 42, 'nthread': 1}\n",
            "\ttrain_call_kwargs_params: {'verbose_eval': True, 'num_boost_round': 100}\n",
            "\tdmatrix_kwargs: {'nthread': 1, 'missing': nan}\n",
            "INFO:XGBoost-PySpark:Finished xgboost training!\n"
          ]
        },
        {
          "output_type": "stream",
          "name": "stdout",
          "text": [
            "\r  5%|▌         | 2/40 [00:59<18:51, 29.77s/trial, best loss: -0.8736838584659401]"
          ]
        },
        {
          "output_type": "stream",
          "name": "stderr",
          "text": [
            "INFO:XGBoost-PySpark:Running xgboost-2.0.3 on 1 workers with\n",
            "\tbooster params: {'device': 'cpu', 'gamma': 0.49882592824111255, 'max_depth': 13, 'min_child_weight': 2.0, 'objective': 'binary:logistic', 'verbosity': 0, 'seed': 42, 'nthread': 1}\n",
            "\ttrain_call_kwargs_params: {'verbose_eval': True, 'num_boost_round': 100}\n",
            "\tdmatrix_kwargs: {'nthread': 1, 'missing': nan}\n",
            "INFO:XGBoost-PySpark:Finished xgboost training!\n",
            "INFO:XGBoost-PySpark:Running xgboost-2.0.3 on 1 workers with\n",
            "\tbooster params: {'device': 'cpu', 'gamma': 0.49882592824111255, 'max_depth': 13, 'min_child_weight': 2.0, 'objective': 'binary:logistic', 'verbosity': 0, 'seed': 42, 'nthread': 1}\n",
            "\ttrain_call_kwargs_params: {'verbose_eval': True, 'num_boost_round': 100}\n",
            "\tdmatrix_kwargs: {'nthread': 1, 'missing': nan}\n",
            "INFO:XGBoost-PySpark:Finished xgboost training!\n",
            "INFO:XGBoost-PySpark:Running xgboost-2.0.3 on 1 workers with\n",
            "\tbooster params: {'device': 'cpu', 'gamma': 0.49882592824111255, 'max_depth': 13, 'min_child_weight': 2.0, 'objective': 'binary:logistic', 'verbosity': 0, 'seed': 42, 'nthread': 1}\n",
            "\ttrain_call_kwargs_params: {'verbose_eval': True, 'num_boost_round': 100}\n",
            "\tdmatrix_kwargs: {'nthread': 1, 'missing': nan}\n",
            "INFO:XGBoost-PySpark:Finished xgboost training!\n",
            "INFO:XGBoost-PySpark:Running xgboost-2.0.3 on 1 workers with\n",
            "\tbooster params: {'device': 'cpu', 'gamma': 0.49882592824111255, 'max_depth': 13, 'min_child_weight': 2.0, 'objective': 'binary:logistic', 'verbosity': 0, 'seed': 42, 'nthread': 1}\n",
            "\ttrain_call_kwargs_params: {'verbose_eval': True, 'num_boost_round': 100}\n",
            "\tdmatrix_kwargs: {'nthread': 1, 'missing': nan}\n",
            "INFO:XGBoost-PySpark:Finished xgboost training!\n",
            "INFO:XGBoost-PySpark:Running xgboost-2.0.3 on 1 workers with\n",
            "\tbooster params: {'device': 'cpu', 'gamma': 0.49882592824111255, 'max_depth': 13, 'min_child_weight': 2.0, 'objective': 'binary:logistic', 'verbosity': 0, 'seed': 42, 'nthread': 1}\n",
            "\ttrain_call_kwargs_params: {'verbose_eval': True, 'num_boost_round': 100}\n",
            "\tdmatrix_kwargs: {'nthread': 1, 'missing': nan}\n",
            "INFO:XGBoost-PySpark:Finished xgboost training!\n",
            "INFO:XGBoost-PySpark:Running xgboost-2.0.3 on 1 workers with\n",
            "\tbooster params: {'device': 'cpu', 'gamma': 0.49882592824111255, 'max_depth': 13, 'min_child_weight': 2.0, 'objective': 'binary:logistic', 'verbosity': 0, 'seed': 42, 'nthread': 1}\n",
            "\ttrain_call_kwargs_params: {'verbose_eval': True, 'num_boost_round': 100}\n",
            "\tdmatrix_kwargs: {'nthread': 1, 'missing': nan}\n",
            "INFO:XGBoost-PySpark:Finished xgboost training!\n"
          ]
        },
        {
          "output_type": "stream",
          "name": "stdout",
          "text": [
            "\r  8%|▊         | 3/40 [01:29<18:18, 29.69s/trial, best loss: -0.8780727341219452]"
          ]
        },
        {
          "output_type": "stream",
          "name": "stderr",
          "text": [
            "INFO:XGBoost-PySpark:Running xgboost-2.0.3 on 1 workers with\n",
            "\tbooster params: {'device': 'cpu', 'gamma': 0.2061092309465667, 'max_depth': 7, 'min_child_weight': 8.0, 'objective': 'binary:logistic', 'verbosity': 0, 'seed': 42, 'nthread': 1}\n",
            "\ttrain_call_kwargs_params: {'verbose_eval': True, 'num_boost_round': 100}\n",
            "\tdmatrix_kwargs: {'nthread': 1, 'missing': nan}\n",
            "INFO:XGBoost-PySpark:Finished xgboost training!\n",
            "INFO:XGBoost-PySpark:Running xgboost-2.0.3 on 1 workers with\n",
            "\tbooster params: {'device': 'cpu', 'gamma': 0.2061092309465667, 'max_depth': 7, 'min_child_weight': 8.0, 'objective': 'binary:logistic', 'verbosity': 0, 'seed': 42, 'nthread': 1}\n",
            "\ttrain_call_kwargs_params: {'verbose_eval': True, 'num_boost_round': 100}\n",
            "\tdmatrix_kwargs: {'nthread': 1, 'missing': nan}\n",
            "INFO:XGBoost-PySpark:Finished xgboost training!\n",
            "INFO:XGBoost-PySpark:Running xgboost-2.0.3 on 1 workers with\n",
            "\tbooster params: {'device': 'cpu', 'gamma': 0.2061092309465667, 'max_depth': 7, 'min_child_weight': 8.0, 'objective': 'binary:logistic', 'verbosity': 0, 'seed': 42, 'nthread': 1}\n",
            "\ttrain_call_kwargs_params: {'verbose_eval': True, 'num_boost_round': 100}\n",
            "\tdmatrix_kwargs: {'nthread': 1, 'missing': nan}\n",
            "INFO:XGBoost-PySpark:Finished xgboost training!\n",
            "INFO:XGBoost-PySpark:Running xgboost-2.0.3 on 1 workers with\n",
            "\tbooster params: {'device': 'cpu', 'gamma': 0.2061092309465667, 'max_depth': 7, 'min_child_weight': 8.0, 'objective': 'binary:logistic', 'verbosity': 0, 'seed': 42, 'nthread': 1}\n",
            "\ttrain_call_kwargs_params: {'verbose_eval': True, 'num_boost_round': 100}\n",
            "\tdmatrix_kwargs: {'nthread': 1, 'missing': nan}\n",
            "INFO:XGBoost-PySpark:Finished xgboost training!\n",
            "INFO:XGBoost-PySpark:Running xgboost-2.0.3 on 1 workers with\n",
            "\tbooster params: {'device': 'cpu', 'gamma': 0.2061092309465667, 'max_depth': 7, 'min_child_weight': 8.0, 'objective': 'binary:logistic', 'verbosity': 0, 'seed': 42, 'nthread': 1}\n",
            "\ttrain_call_kwargs_params: {'verbose_eval': True, 'num_boost_round': 100}\n",
            "\tdmatrix_kwargs: {'nthread': 1, 'missing': nan}\n",
            "INFO:XGBoost-PySpark:Finished xgboost training!\n",
            "INFO:XGBoost-PySpark:Running xgboost-2.0.3 on 1 workers with\n",
            "\tbooster params: {'device': 'cpu', 'gamma': 0.2061092309465667, 'max_depth': 7, 'min_child_weight': 8.0, 'objective': 'binary:logistic', 'verbosity': 0, 'seed': 42, 'nthread': 1}\n",
            "\ttrain_call_kwargs_params: {'verbose_eval': True, 'num_boost_round': 100}\n",
            "\tdmatrix_kwargs: {'nthread': 1, 'missing': nan}\n",
            "INFO:XGBoost-PySpark:Finished xgboost training!\n"
          ]
        },
        {
          "output_type": "stream",
          "name": "stdout",
          "text": [
            "\r 10%|█         | 4/40 [01:58<17:49, 29.70s/trial, best loss: -0.8780727341219452]"
          ]
        },
        {
          "output_type": "stream",
          "name": "stderr",
          "text": [
            "INFO:XGBoost-PySpark:Running xgboost-2.0.3 on 1 workers with\n",
            "\tbooster params: {'device': 'cpu', 'gamma': 0.0005646142461527837, 'max_depth': 9, 'min_child_weight': 15.0, 'objective': 'binary:logistic', 'verbosity': 0, 'seed': 42, 'nthread': 1}\n",
            "\ttrain_call_kwargs_params: {'verbose_eval': True, 'num_boost_round': 100}\n",
            "\tdmatrix_kwargs: {'nthread': 1, 'missing': nan}\n",
            "INFO:XGBoost-PySpark:Finished xgboost training!\n",
            "INFO:XGBoost-PySpark:Running xgboost-2.0.3 on 1 workers with\n",
            "\tbooster params: {'device': 'cpu', 'gamma': 0.0005646142461527837, 'max_depth': 9, 'min_child_weight': 15.0, 'objective': 'binary:logistic', 'verbosity': 0, 'seed': 42, 'nthread': 1}\n",
            "\ttrain_call_kwargs_params: {'verbose_eval': True, 'num_boost_round': 100}\n",
            "\tdmatrix_kwargs: {'nthread': 1, 'missing': nan}\n",
            "INFO:XGBoost-PySpark:Finished xgboost training!\n",
            "INFO:XGBoost-PySpark:Running xgboost-2.0.3 on 1 workers with\n",
            "\tbooster params: {'device': 'cpu', 'gamma': 0.0005646142461527837, 'max_depth': 9, 'min_child_weight': 15.0, 'objective': 'binary:logistic', 'verbosity': 0, 'seed': 42, 'nthread': 1}\n",
            "\ttrain_call_kwargs_params: {'verbose_eval': True, 'num_boost_round': 100}\n",
            "\tdmatrix_kwargs: {'nthread': 1, 'missing': nan}\n",
            "INFO:XGBoost-PySpark:Finished xgboost training!\n",
            "INFO:XGBoost-PySpark:Running xgboost-2.0.3 on 1 workers with\n",
            "\tbooster params: {'device': 'cpu', 'gamma': 0.0005646142461527837, 'max_depth': 9, 'min_child_weight': 15.0, 'objective': 'binary:logistic', 'verbosity': 0, 'seed': 42, 'nthread': 1}\n",
            "\ttrain_call_kwargs_params: {'verbose_eval': True, 'num_boost_round': 100}\n",
            "\tdmatrix_kwargs: {'nthread': 1, 'missing': nan}\n",
            "INFO:XGBoost-PySpark:Finished xgboost training!\n",
            "INFO:XGBoost-PySpark:Running xgboost-2.0.3 on 1 workers with\n",
            "\tbooster params: {'device': 'cpu', 'gamma': 0.0005646142461527837, 'max_depth': 9, 'min_child_weight': 15.0, 'objective': 'binary:logistic', 'verbosity': 0, 'seed': 42, 'nthread': 1}\n",
            "\ttrain_call_kwargs_params: {'verbose_eval': True, 'num_boost_round': 100}\n",
            "\tdmatrix_kwargs: {'nthread': 1, 'missing': nan}\n",
            "INFO:XGBoost-PySpark:Finished xgboost training!\n",
            "INFO:XGBoost-PySpark:Running xgboost-2.0.3 on 1 workers with\n",
            "\tbooster params: {'device': 'cpu', 'gamma': 0.0005646142461527837, 'max_depth': 9, 'min_child_weight': 15.0, 'objective': 'binary:logistic', 'verbosity': 0, 'seed': 42, 'nthread': 1}\n",
            "\ttrain_call_kwargs_params: {'verbose_eval': True, 'num_boost_round': 100}\n",
            "\tdmatrix_kwargs: {'nthread': 1, 'missing': nan}\n",
            "INFO:XGBoost-PySpark:Finished xgboost training!\n"
          ]
        },
        {
          "output_type": "stream",
          "name": "stdout",
          "text": [
            "\r 12%|█▎        | 5/40 [02:28<17:13, 29.52s/trial, best loss: -0.8780727341219452]"
          ]
        },
        {
          "output_type": "stream",
          "name": "stderr",
          "text": [
            "INFO:XGBoost-PySpark:Running xgboost-2.0.3 on 1 workers with\n",
            "\tbooster params: {'device': 'cpu', 'gamma': 0.3024754738283468, 'max_depth': 11, 'min_child_weight': 10.0, 'objective': 'binary:logistic', 'verbosity': 0, 'seed': 42, 'nthread': 1}\n",
            "\ttrain_call_kwargs_params: {'verbose_eval': True, 'num_boost_round': 100}\n",
            "\tdmatrix_kwargs: {'nthread': 1, 'missing': nan}\n",
            "INFO:XGBoost-PySpark:Finished xgboost training!\n",
            "INFO:XGBoost-PySpark:Running xgboost-2.0.3 on 1 workers with\n",
            "\tbooster params: {'device': 'cpu', 'gamma': 0.3024754738283468, 'max_depth': 11, 'min_child_weight': 10.0, 'objective': 'binary:logistic', 'verbosity': 0, 'seed': 42, 'nthread': 1}\n",
            "\ttrain_call_kwargs_params: {'verbose_eval': True, 'num_boost_round': 100}\n",
            "\tdmatrix_kwargs: {'nthread': 1, 'missing': nan}\n",
            "INFO:XGBoost-PySpark:Finished xgboost training!\n",
            "INFO:XGBoost-PySpark:Running xgboost-2.0.3 on 1 workers with\n",
            "\tbooster params: {'device': 'cpu', 'gamma': 0.3024754738283468, 'max_depth': 11, 'min_child_weight': 10.0, 'objective': 'binary:logistic', 'verbosity': 0, 'seed': 42, 'nthread': 1}\n",
            "\ttrain_call_kwargs_params: {'verbose_eval': True, 'num_boost_round': 100}\n",
            "\tdmatrix_kwargs: {'nthread': 1, 'missing': nan}\n",
            "INFO:XGBoost-PySpark:Finished xgboost training!\n",
            "INFO:XGBoost-PySpark:Running xgboost-2.0.3 on 1 workers with\n",
            "\tbooster params: {'device': 'cpu', 'gamma': 0.3024754738283468, 'max_depth': 11, 'min_child_weight': 10.0, 'objective': 'binary:logistic', 'verbosity': 0, 'seed': 42, 'nthread': 1}\n",
            "\ttrain_call_kwargs_params: {'verbose_eval': True, 'num_boost_round': 100}\n",
            "\tdmatrix_kwargs: {'nthread': 1, 'missing': nan}\n",
            "INFO:XGBoost-PySpark:Finished xgboost training!\n",
            "INFO:XGBoost-PySpark:Running xgboost-2.0.3 on 1 workers with\n",
            "\tbooster params: {'device': 'cpu', 'gamma': 0.3024754738283468, 'max_depth': 11, 'min_child_weight': 10.0, 'objective': 'binary:logistic', 'verbosity': 0, 'seed': 42, 'nthread': 1}\n",
            "\ttrain_call_kwargs_params: {'verbose_eval': True, 'num_boost_round': 100}\n",
            "\tdmatrix_kwargs: {'nthread': 1, 'missing': nan}\n",
            "INFO:XGBoost-PySpark:Finished xgboost training!\n",
            "INFO:XGBoost-PySpark:Running xgboost-2.0.3 on 1 workers with\n",
            "\tbooster params: {'device': 'cpu', 'gamma': 0.3024754738283468, 'max_depth': 11, 'min_child_weight': 10.0, 'objective': 'binary:logistic', 'verbosity': 0, 'seed': 42, 'nthread': 1}\n",
            "\ttrain_call_kwargs_params: {'verbose_eval': True, 'num_boost_round': 100}\n",
            "\tdmatrix_kwargs: {'nthread': 1, 'missing': nan}\n",
            "INFO:XGBoost-PySpark:Finished xgboost training!\n"
          ]
        },
        {
          "output_type": "stream",
          "name": "stdout",
          "text": [
            "\r 15%|█▌        | 6/40 [02:57<16:41, 29.45s/trial, best loss: -0.8780727341219452]"
          ]
        },
        {
          "output_type": "stream",
          "name": "stderr",
          "text": [
            "INFO:XGBoost-PySpark:Running xgboost-2.0.3 on 1 workers with\n",
            "\tbooster params: {'device': 'cpu', 'gamma': 0.29931716527013097, 'max_depth': 14, 'min_child_weight': 17.0, 'objective': 'binary:logistic', 'verbosity': 0, 'seed': 42, 'nthread': 1}\n",
            "\ttrain_call_kwargs_params: {'verbose_eval': True, 'num_boost_round': 100}\n",
            "\tdmatrix_kwargs: {'nthread': 1, 'missing': nan}\n",
            "INFO:XGBoost-PySpark:Finished xgboost training!\n",
            "INFO:XGBoost-PySpark:Running xgboost-2.0.3 on 1 workers with\n",
            "\tbooster params: {'device': 'cpu', 'gamma': 0.29931716527013097, 'max_depth': 14, 'min_child_weight': 17.0, 'objective': 'binary:logistic', 'verbosity': 0, 'seed': 42, 'nthread': 1}\n",
            "\ttrain_call_kwargs_params: {'verbose_eval': True, 'num_boost_round': 100}\n",
            "\tdmatrix_kwargs: {'nthread': 1, 'missing': nan}\n",
            "INFO:XGBoost-PySpark:Finished xgboost training!\n",
            "INFO:XGBoost-PySpark:Running xgboost-2.0.3 on 1 workers with\n",
            "\tbooster params: {'device': 'cpu', 'gamma': 0.29931716527013097, 'max_depth': 14, 'min_child_weight': 17.0, 'objective': 'binary:logistic', 'verbosity': 0, 'seed': 42, 'nthread': 1}\n",
            "\ttrain_call_kwargs_params: {'verbose_eval': True, 'num_boost_round': 100}\n",
            "\tdmatrix_kwargs: {'nthread': 1, 'missing': nan}\n",
            "INFO:XGBoost-PySpark:Finished xgboost training!\n",
            "INFO:XGBoost-PySpark:Running xgboost-2.0.3 on 1 workers with\n",
            "\tbooster params: {'device': 'cpu', 'gamma': 0.29931716527013097, 'max_depth': 14, 'min_child_weight': 17.0, 'objective': 'binary:logistic', 'verbosity': 0, 'seed': 42, 'nthread': 1}\n",
            "\ttrain_call_kwargs_params: {'verbose_eval': True, 'num_boost_round': 100}\n",
            "\tdmatrix_kwargs: {'nthread': 1, 'missing': nan}\n",
            "INFO:XGBoost-PySpark:Finished xgboost training!\n",
            "INFO:XGBoost-PySpark:Running xgboost-2.0.3 on 1 workers with\n",
            "\tbooster params: {'device': 'cpu', 'gamma': 0.29931716527013097, 'max_depth': 14, 'min_child_weight': 17.0, 'objective': 'binary:logistic', 'verbosity': 0, 'seed': 42, 'nthread': 1}\n",
            "\ttrain_call_kwargs_params: {'verbose_eval': True, 'num_boost_round': 100}\n",
            "\tdmatrix_kwargs: {'nthread': 1, 'missing': nan}\n",
            "INFO:XGBoost-PySpark:Finished xgboost training!\n",
            "INFO:XGBoost-PySpark:Running xgboost-2.0.3 on 1 workers with\n",
            "\tbooster params: {'device': 'cpu', 'gamma': 0.29931716527013097, 'max_depth': 14, 'min_child_weight': 17.0, 'objective': 'binary:logistic', 'verbosity': 0, 'seed': 42, 'nthread': 1}\n",
            "\ttrain_call_kwargs_params: {'verbose_eval': True, 'num_boost_round': 100}\n",
            "\tdmatrix_kwargs: {'nthread': 1, 'missing': nan}\n",
            "INFO:XGBoost-PySpark:Finished xgboost training!\n"
          ]
        },
        {
          "output_type": "stream",
          "name": "stdout",
          "text": [
            "\r 18%|█▊        | 7/40 [03:26<16:07, 29.31s/trial, best loss: -0.8780727341219452]"
          ]
        },
        {
          "output_type": "stream",
          "name": "stderr",
          "text": [
            "INFO:XGBoost-PySpark:Running xgboost-2.0.3 on 1 workers with\n",
            "\tbooster params: {'device': 'cpu', 'gamma': 0.09308047549517079, 'max_depth': 10, 'min_child_weight': 9.0, 'objective': 'binary:logistic', 'verbosity': 0, 'seed': 42, 'nthread': 1}\n",
            "\ttrain_call_kwargs_params: {'verbose_eval': True, 'num_boost_round': 100}\n",
            "\tdmatrix_kwargs: {'nthread': 1, 'missing': nan}\n",
            "INFO:XGBoost-PySpark:Finished xgboost training!\n",
            "INFO:XGBoost-PySpark:Running xgboost-2.0.3 on 1 workers with\n",
            "\tbooster params: {'device': 'cpu', 'gamma': 0.09308047549517079, 'max_depth': 10, 'min_child_weight': 9.0, 'objective': 'binary:logistic', 'verbosity': 0, 'seed': 42, 'nthread': 1}\n",
            "\ttrain_call_kwargs_params: {'verbose_eval': True, 'num_boost_round': 100}\n",
            "\tdmatrix_kwargs: {'nthread': 1, 'missing': nan}\n",
            "INFO:XGBoost-PySpark:Finished xgboost training!\n",
            "INFO:XGBoost-PySpark:Running xgboost-2.0.3 on 1 workers with\n",
            "\tbooster params: {'device': 'cpu', 'gamma': 0.09308047549517079, 'max_depth': 10, 'min_child_weight': 9.0, 'objective': 'binary:logistic', 'verbosity': 0, 'seed': 42, 'nthread': 1}\n",
            "\ttrain_call_kwargs_params: {'verbose_eval': True, 'num_boost_round': 100}\n",
            "\tdmatrix_kwargs: {'nthread': 1, 'missing': nan}\n",
            "INFO:XGBoost-PySpark:Finished xgboost training!\n",
            "INFO:XGBoost-PySpark:Running xgboost-2.0.3 on 1 workers with\n",
            "\tbooster params: {'device': 'cpu', 'gamma': 0.09308047549517079, 'max_depth': 10, 'min_child_weight': 9.0, 'objective': 'binary:logistic', 'verbosity': 0, 'seed': 42, 'nthread': 1}\n",
            "\ttrain_call_kwargs_params: {'verbose_eval': True, 'num_boost_round': 100}\n",
            "\tdmatrix_kwargs: {'nthread': 1, 'missing': nan}\n",
            "INFO:XGBoost-PySpark:Finished xgboost training!\n",
            "INFO:XGBoost-PySpark:Running xgboost-2.0.3 on 1 workers with\n",
            "\tbooster params: {'device': 'cpu', 'gamma': 0.09308047549517079, 'max_depth': 10, 'min_child_weight': 9.0, 'objective': 'binary:logistic', 'verbosity': 0, 'seed': 42, 'nthread': 1}\n",
            "\ttrain_call_kwargs_params: {'verbose_eval': True, 'num_boost_round': 100}\n",
            "\tdmatrix_kwargs: {'nthread': 1, 'missing': nan}\n",
            "INFO:XGBoost-PySpark:Finished xgboost training!\n",
            "INFO:XGBoost-PySpark:Running xgboost-2.0.3 on 1 workers with\n",
            "\tbooster params: {'device': 'cpu', 'gamma': 0.09308047549517079, 'max_depth': 10, 'min_child_weight': 9.0, 'objective': 'binary:logistic', 'verbosity': 0, 'seed': 42, 'nthread': 1}\n",
            "\ttrain_call_kwargs_params: {'verbose_eval': True, 'num_boost_round': 100}\n",
            "\tdmatrix_kwargs: {'nthread': 1, 'missing': nan}\n",
            "INFO:XGBoost-PySpark:Finished xgboost training!\n"
          ]
        },
        {
          "output_type": "stream",
          "name": "stdout",
          "text": [
            "\r 20%|██        | 8/40 [03:56<15:47, 29.61s/trial, best loss: -0.8780727341219452]"
          ]
        },
        {
          "output_type": "stream",
          "name": "stderr",
          "text": [
            "INFO:XGBoost-PySpark:Running xgboost-2.0.3 on 1 workers with\n",
            "\tbooster params: {'device': 'cpu', 'gamma': 0.06645297657598426, 'max_depth': 15, 'min_child_weight': 3.0, 'objective': 'binary:logistic', 'verbosity': 0, 'seed': 42, 'nthread': 1}\n",
            "\ttrain_call_kwargs_params: {'verbose_eval': True, 'num_boost_round': 100}\n",
            "\tdmatrix_kwargs: {'nthread': 1, 'missing': nan}\n",
            "INFO:XGBoost-PySpark:Finished xgboost training!\n",
            "INFO:XGBoost-PySpark:Running xgboost-2.0.3 on 1 workers with\n",
            "\tbooster params: {'device': 'cpu', 'gamma': 0.06645297657598426, 'max_depth': 15, 'min_child_weight': 3.0, 'objective': 'binary:logistic', 'verbosity': 0, 'seed': 42, 'nthread': 1}\n",
            "\ttrain_call_kwargs_params: {'verbose_eval': True, 'num_boost_round': 100}\n",
            "\tdmatrix_kwargs: {'nthread': 1, 'missing': nan}\n",
            "INFO:XGBoost-PySpark:Finished xgboost training!\n",
            "INFO:XGBoost-PySpark:Running xgboost-2.0.3 on 1 workers with\n",
            "\tbooster params: {'device': 'cpu', 'gamma': 0.06645297657598426, 'max_depth': 15, 'min_child_weight': 3.0, 'objective': 'binary:logistic', 'verbosity': 0, 'seed': 42, 'nthread': 1}\n",
            "\ttrain_call_kwargs_params: {'verbose_eval': True, 'num_boost_round': 100}\n",
            "\tdmatrix_kwargs: {'nthread': 1, 'missing': nan}\n",
            "INFO:XGBoost-PySpark:Finished xgboost training!\n",
            "INFO:XGBoost-PySpark:Running xgboost-2.0.3 on 1 workers with\n",
            "\tbooster params: {'device': 'cpu', 'gamma': 0.06645297657598426, 'max_depth': 15, 'min_child_weight': 3.0, 'objective': 'binary:logistic', 'verbosity': 0, 'seed': 42, 'nthread': 1}\n",
            "\ttrain_call_kwargs_params: {'verbose_eval': True, 'num_boost_round': 100}\n",
            "\tdmatrix_kwargs: {'nthread': 1, 'missing': nan}\n",
            "INFO:XGBoost-PySpark:Finished xgboost training!\n",
            "INFO:XGBoost-PySpark:Running xgboost-2.0.3 on 1 workers with\n",
            "\tbooster params: {'device': 'cpu', 'gamma': 0.06645297657598426, 'max_depth': 15, 'min_child_weight': 3.0, 'objective': 'binary:logistic', 'verbosity': 0, 'seed': 42, 'nthread': 1}\n",
            "\ttrain_call_kwargs_params: {'verbose_eval': True, 'num_boost_round': 100}\n",
            "\tdmatrix_kwargs: {'nthread': 1, 'missing': nan}\n",
            "INFO:XGBoost-PySpark:Finished xgboost training!\n",
            "INFO:XGBoost-PySpark:Running xgboost-2.0.3 on 1 workers with\n",
            "\tbooster params: {'device': 'cpu', 'gamma': 0.06645297657598426, 'max_depth': 15, 'min_child_weight': 3.0, 'objective': 'binary:logistic', 'verbosity': 0, 'seed': 42, 'nthread': 1}\n",
            "\ttrain_call_kwargs_params: {'verbose_eval': True, 'num_boost_round': 100}\n",
            "\tdmatrix_kwargs: {'nthread': 1, 'missing': nan}\n",
            "INFO:XGBoost-PySpark:Finished xgboost training!\n"
          ]
        },
        {
          "output_type": "stream",
          "name": "stdout",
          "text": [
            "\r 22%|██▎       | 9/40 [04:25<15:12, 29.44s/trial, best loss: -0.8780727341219452]"
          ]
        },
        {
          "output_type": "stream",
          "name": "stderr",
          "text": [
            "INFO:XGBoost-PySpark:Running xgboost-2.0.3 on 1 workers with\n",
            "\tbooster params: {'device': 'cpu', 'gamma': 0.3722751759021017, 'max_depth': 19, 'min_child_weight': 9.0, 'objective': 'binary:logistic', 'verbosity': 0, 'seed': 42, 'nthread': 1}\n",
            "\ttrain_call_kwargs_params: {'verbose_eval': True, 'num_boost_round': 100}\n",
            "\tdmatrix_kwargs: {'nthread': 1, 'missing': nan}\n",
            "INFO:XGBoost-PySpark:Finished xgboost training!\n",
            "INFO:XGBoost-PySpark:Running xgboost-2.0.3 on 1 workers with\n",
            "\tbooster params: {'device': 'cpu', 'gamma': 0.3722751759021017, 'max_depth': 19, 'min_child_weight': 9.0, 'objective': 'binary:logistic', 'verbosity': 0, 'seed': 42, 'nthread': 1}\n",
            "\ttrain_call_kwargs_params: {'verbose_eval': True, 'num_boost_round': 100}\n",
            "\tdmatrix_kwargs: {'nthread': 1, 'missing': nan}\n",
            "INFO:XGBoost-PySpark:Finished xgboost training!\n",
            "INFO:XGBoost-PySpark:Running xgboost-2.0.3 on 1 workers with\n",
            "\tbooster params: {'device': 'cpu', 'gamma': 0.3722751759021017, 'max_depth': 19, 'min_child_weight': 9.0, 'objective': 'binary:logistic', 'verbosity': 0, 'seed': 42, 'nthread': 1}\n",
            "\ttrain_call_kwargs_params: {'verbose_eval': True, 'num_boost_round': 100}\n",
            "\tdmatrix_kwargs: {'nthread': 1, 'missing': nan}\n",
            "INFO:XGBoost-PySpark:Finished xgboost training!\n",
            "INFO:XGBoost-PySpark:Running xgboost-2.0.3 on 1 workers with\n",
            "\tbooster params: {'device': 'cpu', 'gamma': 0.3722751759021017, 'max_depth': 19, 'min_child_weight': 9.0, 'objective': 'binary:logistic', 'verbosity': 0, 'seed': 42, 'nthread': 1}\n",
            "\ttrain_call_kwargs_params: {'verbose_eval': True, 'num_boost_round': 100}\n",
            "\tdmatrix_kwargs: {'nthread': 1, 'missing': nan}\n",
            "INFO:XGBoost-PySpark:Finished xgboost training!\n",
            "INFO:XGBoost-PySpark:Running xgboost-2.0.3 on 1 workers with\n",
            "\tbooster params: {'device': 'cpu', 'gamma': 0.3722751759021017, 'max_depth': 19, 'min_child_weight': 9.0, 'objective': 'binary:logistic', 'verbosity': 0, 'seed': 42, 'nthread': 1}\n",
            "\ttrain_call_kwargs_params: {'verbose_eval': True, 'num_boost_round': 100}\n",
            "\tdmatrix_kwargs: {'nthread': 1, 'missing': nan}\n",
            "INFO:XGBoost-PySpark:Finished xgboost training!\n",
            "INFO:XGBoost-PySpark:Running xgboost-2.0.3 on 1 workers with\n",
            "\tbooster params: {'device': 'cpu', 'gamma': 0.3722751759021017, 'max_depth': 19, 'min_child_weight': 9.0, 'objective': 'binary:logistic', 'verbosity': 0, 'seed': 42, 'nthread': 1}\n",
            "\ttrain_call_kwargs_params: {'verbose_eval': True, 'num_boost_round': 100}\n",
            "\tdmatrix_kwargs: {'nthread': 1, 'missing': nan}\n",
            "INFO:XGBoost-PySpark:Finished xgboost training!\n"
          ]
        },
        {
          "output_type": "stream",
          "name": "stdout",
          "text": [
            "\r 25%|██▌       | 10/40 [04:53<14:31, 29.06s/trial, best loss: -0.8780727341219452]"
          ]
        },
        {
          "output_type": "stream",
          "name": "stderr",
          "text": [
            "INFO:XGBoost-PySpark:Running xgboost-2.0.3 on 1 workers with\n",
            "\tbooster params: {'device': 'cpu', 'gamma': 0.4010165504394288, 'max_depth': 18, 'min_child_weight': 4.0, 'objective': 'binary:logistic', 'verbosity': 0, 'seed': 42, 'nthread': 1}\n",
            "\ttrain_call_kwargs_params: {'verbose_eval': True, 'num_boost_round': 100}\n",
            "\tdmatrix_kwargs: {'nthread': 1, 'missing': nan}\n",
            "INFO:XGBoost-PySpark:Finished xgboost training!\n",
            "INFO:XGBoost-PySpark:Running xgboost-2.0.3 on 1 workers with\n",
            "\tbooster params: {'device': 'cpu', 'gamma': 0.4010165504394288, 'max_depth': 18, 'min_child_weight': 4.0, 'objective': 'binary:logistic', 'verbosity': 0, 'seed': 42, 'nthread': 1}\n",
            "\ttrain_call_kwargs_params: {'verbose_eval': True, 'num_boost_round': 100}\n",
            "\tdmatrix_kwargs: {'nthread': 1, 'missing': nan}\n",
            "INFO:XGBoost-PySpark:Finished xgboost training!\n",
            "INFO:XGBoost-PySpark:Running xgboost-2.0.3 on 1 workers with\n",
            "\tbooster params: {'device': 'cpu', 'gamma': 0.4010165504394288, 'max_depth': 18, 'min_child_weight': 4.0, 'objective': 'binary:logistic', 'verbosity': 0, 'seed': 42, 'nthread': 1}\n",
            "\ttrain_call_kwargs_params: {'verbose_eval': True, 'num_boost_round': 100}\n",
            "\tdmatrix_kwargs: {'nthread': 1, 'missing': nan}\n",
            "INFO:XGBoost-PySpark:Finished xgboost training!\n",
            "INFO:XGBoost-PySpark:Running xgboost-2.0.3 on 1 workers with\n",
            "\tbooster params: {'device': 'cpu', 'gamma': 0.4010165504394288, 'max_depth': 18, 'min_child_weight': 4.0, 'objective': 'binary:logistic', 'verbosity': 0, 'seed': 42, 'nthread': 1}\n",
            "\ttrain_call_kwargs_params: {'verbose_eval': True, 'num_boost_round': 100}\n",
            "\tdmatrix_kwargs: {'nthread': 1, 'missing': nan}\n",
            "INFO:XGBoost-PySpark:Finished xgboost training!\n",
            "INFO:XGBoost-PySpark:Running xgboost-2.0.3 on 1 workers with\n",
            "\tbooster params: {'device': 'cpu', 'gamma': 0.4010165504394288, 'max_depth': 18, 'min_child_weight': 4.0, 'objective': 'binary:logistic', 'verbosity': 0, 'seed': 42, 'nthread': 1}\n",
            "\ttrain_call_kwargs_params: {'verbose_eval': True, 'num_boost_round': 100}\n",
            "\tdmatrix_kwargs: {'nthread': 1, 'missing': nan}\n",
            "INFO:XGBoost-PySpark:Finished xgboost training!\n",
            "INFO:XGBoost-PySpark:Running xgboost-2.0.3 on 1 workers with\n",
            "\tbooster params: {'device': 'cpu', 'gamma': 0.4010165504394288, 'max_depth': 18, 'min_child_weight': 4.0, 'objective': 'binary:logistic', 'verbosity': 0, 'seed': 42, 'nthread': 1}\n",
            "\ttrain_call_kwargs_params: {'verbose_eval': True, 'num_boost_round': 100}\n",
            "\tdmatrix_kwargs: {'nthread': 1, 'missing': nan}\n",
            "INFO:XGBoost-PySpark:Finished xgboost training!\n"
          ]
        },
        {
          "output_type": "stream",
          "name": "stdout",
          "text": [
            "\r 28%|██▊       | 11/40 [05:23<14:05, 29.15s/trial, best loss: -0.8801177739960174]"
          ]
        },
        {
          "output_type": "stream",
          "name": "stderr",
          "text": [
            "INFO:XGBoost-PySpark:Running xgboost-2.0.3 on 1 workers with\n",
            "\tbooster params: {'device': 'cpu', 'gamma': 0.37850151356466044, 'max_depth': 14, 'min_child_weight': 4.0, 'objective': 'binary:logistic', 'verbosity': 0, 'seed': 42, 'nthread': 1}\n",
            "\ttrain_call_kwargs_params: {'verbose_eval': True, 'num_boost_round': 100}\n",
            "\tdmatrix_kwargs: {'nthread': 1, 'missing': nan}\n",
            "INFO:XGBoost-PySpark:Finished xgboost training!\n",
            "INFO:XGBoost-PySpark:Running xgboost-2.0.3 on 1 workers with\n",
            "\tbooster params: {'device': 'cpu', 'gamma': 0.37850151356466044, 'max_depth': 14, 'min_child_weight': 4.0, 'objective': 'binary:logistic', 'verbosity': 0, 'seed': 42, 'nthread': 1}\n",
            "\ttrain_call_kwargs_params: {'verbose_eval': True, 'num_boost_round': 100}\n",
            "\tdmatrix_kwargs: {'nthread': 1, 'missing': nan}\n",
            "INFO:XGBoost-PySpark:Finished xgboost training!\n",
            "INFO:XGBoost-PySpark:Running xgboost-2.0.3 on 1 workers with\n",
            "\tbooster params: {'device': 'cpu', 'gamma': 0.37850151356466044, 'max_depth': 14, 'min_child_weight': 4.0, 'objective': 'binary:logistic', 'verbosity': 0, 'seed': 42, 'nthread': 1}\n",
            "\ttrain_call_kwargs_params: {'verbose_eval': True, 'num_boost_round': 100}\n",
            "\tdmatrix_kwargs: {'nthread': 1, 'missing': nan}\n",
            "INFO:XGBoost-PySpark:Finished xgboost training!\n",
            "INFO:XGBoost-PySpark:Running xgboost-2.0.3 on 1 workers with\n",
            "\tbooster params: {'device': 'cpu', 'gamma': 0.37850151356466044, 'max_depth': 14, 'min_child_weight': 4.0, 'objective': 'binary:logistic', 'verbosity': 0, 'seed': 42, 'nthread': 1}\n",
            "\ttrain_call_kwargs_params: {'verbose_eval': True, 'num_boost_round': 100}\n",
            "\tdmatrix_kwargs: {'nthread': 1, 'missing': nan}\n",
            "INFO:XGBoost-PySpark:Finished xgboost training!\n",
            "INFO:XGBoost-PySpark:Running xgboost-2.0.3 on 1 workers with\n",
            "\tbooster params: {'device': 'cpu', 'gamma': 0.37850151356466044, 'max_depth': 14, 'min_child_weight': 4.0, 'objective': 'binary:logistic', 'verbosity': 0, 'seed': 42, 'nthread': 1}\n",
            "\ttrain_call_kwargs_params: {'verbose_eval': True, 'num_boost_round': 100}\n",
            "\tdmatrix_kwargs: {'nthread': 1, 'missing': nan}\n",
            "INFO:XGBoost-PySpark:Finished xgboost training!\n",
            "INFO:XGBoost-PySpark:Running xgboost-2.0.3 on 1 workers with\n",
            "\tbooster params: {'device': 'cpu', 'gamma': 0.37850151356466044, 'max_depth': 14, 'min_child_weight': 4.0, 'objective': 'binary:logistic', 'verbosity': 0, 'seed': 42, 'nthread': 1}\n",
            "\ttrain_call_kwargs_params: {'verbose_eval': True, 'num_boost_round': 100}\n",
            "\tdmatrix_kwargs: {'nthread': 1, 'missing': nan}\n",
            "INFO:XGBoost-PySpark:Finished xgboost training!\n"
          ]
        },
        {
          "output_type": "stream",
          "name": "stdout",
          "text": [
            "\r 30%|███       | 12/40 [05:51<13:28, 28.89s/trial, best loss: -0.8801177739960174]"
          ]
        },
        {
          "output_type": "stream",
          "name": "stderr",
          "text": [
            "INFO:XGBoost-PySpark:Running xgboost-2.0.3 on 1 workers with\n",
            "\tbooster params: {'device': 'cpu', 'gamma': 0.4741236060205803, 'max_depth': 8, 'min_child_weight': 11.0, 'objective': 'binary:logistic', 'verbosity': 0, 'seed': 42, 'nthread': 1}\n",
            "\ttrain_call_kwargs_params: {'verbose_eval': True, 'num_boost_round': 100}\n",
            "\tdmatrix_kwargs: {'nthread': 1, 'missing': nan}\n",
            "INFO:XGBoost-PySpark:Finished xgboost training!\n",
            "INFO:XGBoost-PySpark:Running xgboost-2.0.3 on 1 workers with\n",
            "\tbooster params: {'device': 'cpu', 'gamma': 0.4741236060205803, 'max_depth': 8, 'min_child_weight': 11.0, 'objective': 'binary:logistic', 'verbosity': 0, 'seed': 42, 'nthread': 1}\n",
            "\ttrain_call_kwargs_params: {'verbose_eval': True, 'num_boost_round': 100}\n",
            "\tdmatrix_kwargs: {'nthread': 1, 'missing': nan}\n",
            "INFO:XGBoost-PySpark:Finished xgboost training!\n",
            "INFO:XGBoost-PySpark:Running xgboost-2.0.3 on 1 workers with\n",
            "\tbooster params: {'device': 'cpu', 'gamma': 0.4741236060205803, 'max_depth': 8, 'min_child_weight': 11.0, 'objective': 'binary:logistic', 'verbosity': 0, 'seed': 42, 'nthread': 1}\n",
            "\ttrain_call_kwargs_params: {'verbose_eval': True, 'num_boost_round': 100}\n",
            "\tdmatrix_kwargs: {'nthread': 1, 'missing': nan}\n",
            "INFO:XGBoost-PySpark:Finished xgboost training!\n",
            "INFO:XGBoost-PySpark:Running xgboost-2.0.3 on 1 workers with\n",
            "\tbooster params: {'device': 'cpu', 'gamma': 0.4741236060205803, 'max_depth': 8, 'min_child_weight': 11.0, 'objective': 'binary:logistic', 'verbosity': 0, 'seed': 42, 'nthread': 1}\n",
            "\ttrain_call_kwargs_params: {'verbose_eval': True, 'num_boost_round': 100}\n",
            "\tdmatrix_kwargs: {'nthread': 1, 'missing': nan}\n",
            "INFO:XGBoost-PySpark:Finished xgboost training!\n",
            "INFO:XGBoost-PySpark:Running xgboost-2.0.3 on 1 workers with\n",
            "\tbooster params: {'device': 'cpu', 'gamma': 0.4741236060205803, 'max_depth': 8, 'min_child_weight': 11.0, 'objective': 'binary:logistic', 'verbosity': 0, 'seed': 42, 'nthread': 1}\n",
            "\ttrain_call_kwargs_params: {'verbose_eval': True, 'num_boost_round': 100}\n",
            "\tdmatrix_kwargs: {'nthread': 1, 'missing': nan}\n",
            "INFO:XGBoost-PySpark:Finished xgboost training!\n",
            "INFO:XGBoost-PySpark:Running xgboost-2.0.3 on 1 workers with\n",
            "\tbooster params: {'device': 'cpu', 'gamma': 0.4741236060205803, 'max_depth': 8, 'min_child_weight': 11.0, 'objective': 'binary:logistic', 'verbosity': 0, 'seed': 42, 'nthread': 1}\n",
            "\ttrain_call_kwargs_params: {'verbose_eval': True, 'num_boost_round': 100}\n",
            "\tdmatrix_kwargs: {'nthread': 1, 'missing': nan}\n",
            "INFO:XGBoost-PySpark:Finished xgboost training!\n"
          ]
        },
        {
          "output_type": "stream",
          "name": "stdout",
          "text": [
            "\r 32%|███▎      | 13/40 [06:20<13:00, 28.90s/trial, best loss: -0.8801177739960174]"
          ]
        },
        {
          "output_type": "stream",
          "name": "stderr",
          "text": [
            "INFO:XGBoost-PySpark:Running xgboost-2.0.3 on 1 workers with\n",
            "\tbooster params: {'device': 'cpu', 'gamma': 0.21551884401447802, 'max_depth': 6, 'min_child_weight': 16.0, 'objective': 'binary:logistic', 'verbosity': 0, 'seed': 42, 'nthread': 1}\n",
            "\ttrain_call_kwargs_params: {'verbose_eval': True, 'num_boost_round': 100}\n",
            "\tdmatrix_kwargs: {'nthread': 1, 'missing': nan}\n",
            "INFO:XGBoost-PySpark:Finished xgboost training!\n",
            "INFO:XGBoost-PySpark:Running xgboost-2.0.3 on 1 workers with\n",
            "\tbooster params: {'device': 'cpu', 'gamma': 0.21551884401447802, 'max_depth': 6, 'min_child_weight': 16.0, 'objective': 'binary:logistic', 'verbosity': 0, 'seed': 42, 'nthread': 1}\n",
            "\ttrain_call_kwargs_params: {'verbose_eval': True, 'num_boost_round': 100}\n",
            "\tdmatrix_kwargs: {'nthread': 1, 'missing': nan}\n",
            "INFO:XGBoost-PySpark:Finished xgboost training!\n",
            "INFO:XGBoost-PySpark:Running xgboost-2.0.3 on 1 workers with\n",
            "\tbooster params: {'device': 'cpu', 'gamma': 0.21551884401447802, 'max_depth': 6, 'min_child_weight': 16.0, 'objective': 'binary:logistic', 'verbosity': 0, 'seed': 42, 'nthread': 1}\n",
            "\ttrain_call_kwargs_params: {'verbose_eval': True, 'num_boost_round': 100}\n",
            "\tdmatrix_kwargs: {'nthread': 1, 'missing': nan}\n",
            "INFO:XGBoost-PySpark:Finished xgboost training!\n",
            "INFO:XGBoost-PySpark:Running xgboost-2.0.3 on 1 workers with\n",
            "\tbooster params: {'device': 'cpu', 'gamma': 0.21551884401447802, 'max_depth': 6, 'min_child_weight': 16.0, 'objective': 'binary:logistic', 'verbosity': 0, 'seed': 42, 'nthread': 1}\n",
            "\ttrain_call_kwargs_params: {'verbose_eval': True, 'num_boost_round': 100}\n",
            "\tdmatrix_kwargs: {'nthread': 1, 'missing': nan}\n",
            "INFO:XGBoost-PySpark:Finished xgboost training!\n",
            "INFO:XGBoost-PySpark:Running xgboost-2.0.3 on 1 workers with\n",
            "\tbooster params: {'device': 'cpu', 'gamma': 0.21551884401447802, 'max_depth': 6, 'min_child_weight': 16.0, 'objective': 'binary:logistic', 'verbosity': 0, 'seed': 42, 'nthread': 1}\n",
            "\ttrain_call_kwargs_params: {'verbose_eval': True, 'num_boost_round': 100}\n",
            "\tdmatrix_kwargs: {'nthread': 1, 'missing': nan}\n",
            "INFO:XGBoost-PySpark:Finished xgboost training!\n",
            "INFO:XGBoost-PySpark:Running xgboost-2.0.3 on 1 workers with\n",
            "\tbooster params: {'device': 'cpu', 'gamma': 0.21551884401447802, 'max_depth': 6, 'min_child_weight': 16.0, 'objective': 'binary:logistic', 'verbosity': 0, 'seed': 42, 'nthread': 1}\n",
            "\ttrain_call_kwargs_params: {'verbose_eval': True, 'num_boost_round': 100}\n",
            "\tdmatrix_kwargs: {'nthread': 1, 'missing': nan}\n",
            "INFO:XGBoost-PySpark:Finished xgboost training!\n"
          ]
        },
        {
          "output_type": "stream",
          "name": "stdout",
          "text": [
            "\r 35%|███▌      | 14/40 [06:49<12:28, 28.80s/trial, best loss: -0.8801177739960174]"
          ]
        },
        {
          "output_type": "stream",
          "name": "stderr",
          "text": [
            "INFO:XGBoost-PySpark:Running xgboost-2.0.3 on 1 workers with\n",
            "\tbooster params: {'device': 'cpu', 'gamma': 0.18967151587866188, 'max_depth': 7, 'min_child_weight': 4.0, 'objective': 'binary:logistic', 'verbosity': 0, 'seed': 42, 'nthread': 1}\n",
            "\ttrain_call_kwargs_params: {'verbose_eval': True, 'num_boost_round': 100}\n",
            "\tdmatrix_kwargs: {'nthread': 1, 'missing': nan}\n",
            "INFO:XGBoost-PySpark:Finished xgboost training!\n",
            "INFO:XGBoost-PySpark:Running xgboost-2.0.3 on 1 workers with\n",
            "\tbooster params: {'device': 'cpu', 'gamma': 0.18967151587866188, 'max_depth': 7, 'min_child_weight': 4.0, 'objective': 'binary:logistic', 'verbosity': 0, 'seed': 42, 'nthread': 1}\n",
            "\ttrain_call_kwargs_params: {'verbose_eval': True, 'num_boost_round': 100}\n",
            "\tdmatrix_kwargs: {'nthread': 1, 'missing': nan}\n",
            "INFO:XGBoost-PySpark:Finished xgboost training!\n",
            "INFO:XGBoost-PySpark:Running xgboost-2.0.3 on 1 workers with\n",
            "\tbooster params: {'device': 'cpu', 'gamma': 0.18967151587866188, 'max_depth': 7, 'min_child_weight': 4.0, 'objective': 'binary:logistic', 'verbosity': 0, 'seed': 42, 'nthread': 1}\n",
            "\ttrain_call_kwargs_params: {'verbose_eval': True, 'num_boost_round': 100}\n",
            "\tdmatrix_kwargs: {'nthread': 1, 'missing': nan}\n",
            "INFO:XGBoost-PySpark:Finished xgboost training!\n",
            "INFO:XGBoost-PySpark:Running xgboost-2.0.3 on 1 workers with\n",
            "\tbooster params: {'device': 'cpu', 'gamma': 0.18967151587866188, 'max_depth': 7, 'min_child_weight': 4.0, 'objective': 'binary:logistic', 'verbosity': 0, 'seed': 42, 'nthread': 1}\n",
            "\ttrain_call_kwargs_params: {'verbose_eval': True, 'num_boost_round': 100}\n",
            "\tdmatrix_kwargs: {'nthread': 1, 'missing': nan}\n",
            "INFO:XGBoost-PySpark:Finished xgboost training!\n",
            "INFO:XGBoost-PySpark:Running xgboost-2.0.3 on 1 workers with\n",
            "\tbooster params: {'device': 'cpu', 'gamma': 0.18967151587866188, 'max_depth': 7, 'min_child_weight': 4.0, 'objective': 'binary:logistic', 'verbosity': 0, 'seed': 42, 'nthread': 1}\n",
            "\ttrain_call_kwargs_params: {'verbose_eval': True, 'num_boost_round': 100}\n",
            "\tdmatrix_kwargs: {'nthread': 1, 'missing': nan}\n",
            "INFO:XGBoost-PySpark:Finished xgboost training!\n",
            "INFO:XGBoost-PySpark:Running xgboost-2.0.3 on 1 workers with\n",
            "\tbooster params: {'device': 'cpu', 'gamma': 0.18967151587866188, 'max_depth': 7, 'min_child_weight': 4.0, 'objective': 'binary:logistic', 'verbosity': 0, 'seed': 42, 'nthread': 1}\n",
            "\ttrain_call_kwargs_params: {'verbose_eval': True, 'num_boost_round': 100}\n",
            "\tdmatrix_kwargs: {'nthread': 1, 'missing': nan}\n",
            "INFO:XGBoost-PySpark:Finished xgboost training!\n"
          ]
        },
        {
          "output_type": "stream",
          "name": "stdout",
          "text": [
            "\r 38%|███▊      | 15/40 [07:18<12:05, 29.04s/trial, best loss: -0.8801177739960174]"
          ]
        },
        {
          "output_type": "stream",
          "name": "stderr",
          "text": [
            "INFO:XGBoost-PySpark:Running xgboost-2.0.3 on 1 workers with\n",
            "\tbooster params: {'device': 'cpu', 'gamma': 0.43890025377197023, 'max_depth': 9, 'min_child_weight': 9.0, 'objective': 'binary:logistic', 'verbosity': 0, 'seed': 42, 'nthread': 1}\n",
            "\ttrain_call_kwargs_params: {'verbose_eval': True, 'num_boost_round': 100}\n",
            "\tdmatrix_kwargs: {'nthread': 1, 'missing': nan}\n",
            "INFO:XGBoost-PySpark:Finished xgboost training!\n",
            "INFO:XGBoost-PySpark:Running xgboost-2.0.3 on 1 workers with\n",
            "\tbooster params: {'device': 'cpu', 'gamma': 0.43890025377197023, 'max_depth': 9, 'min_child_weight': 9.0, 'objective': 'binary:logistic', 'verbosity': 0, 'seed': 42, 'nthread': 1}\n",
            "\ttrain_call_kwargs_params: {'verbose_eval': True, 'num_boost_round': 100}\n",
            "\tdmatrix_kwargs: {'nthread': 1, 'missing': nan}\n",
            "INFO:XGBoost-PySpark:Finished xgboost training!\n",
            "INFO:XGBoost-PySpark:Running xgboost-2.0.3 on 1 workers with\n",
            "\tbooster params: {'device': 'cpu', 'gamma': 0.43890025377197023, 'max_depth': 9, 'min_child_weight': 9.0, 'objective': 'binary:logistic', 'verbosity': 0, 'seed': 42, 'nthread': 1}\n",
            "\ttrain_call_kwargs_params: {'verbose_eval': True, 'num_boost_round': 100}\n",
            "\tdmatrix_kwargs: {'nthread': 1, 'missing': nan}\n",
            "INFO:XGBoost-PySpark:Finished xgboost training!\n",
            "INFO:XGBoost-PySpark:Running xgboost-2.0.3 on 1 workers with\n",
            "\tbooster params: {'device': 'cpu', 'gamma': 0.43890025377197023, 'max_depth': 9, 'min_child_weight': 9.0, 'objective': 'binary:logistic', 'verbosity': 0, 'seed': 42, 'nthread': 1}\n",
            "\ttrain_call_kwargs_params: {'verbose_eval': True, 'num_boost_round': 100}\n",
            "\tdmatrix_kwargs: {'nthread': 1, 'missing': nan}\n",
            "INFO:XGBoost-PySpark:Finished xgboost training!\n",
            "INFO:XGBoost-PySpark:Running xgboost-2.0.3 on 1 workers with\n",
            "\tbooster params: {'device': 'cpu', 'gamma': 0.43890025377197023, 'max_depth': 9, 'min_child_weight': 9.0, 'objective': 'binary:logistic', 'verbosity': 0, 'seed': 42, 'nthread': 1}\n",
            "\ttrain_call_kwargs_params: {'verbose_eval': True, 'num_boost_round': 100}\n",
            "\tdmatrix_kwargs: {'nthread': 1, 'missing': nan}\n",
            "INFO:XGBoost-PySpark:Finished xgboost training!\n",
            "INFO:XGBoost-PySpark:Running xgboost-2.0.3 on 1 workers with\n",
            "\tbooster params: {'device': 'cpu', 'gamma': 0.43890025377197023, 'max_depth': 9, 'min_child_weight': 9.0, 'objective': 'binary:logistic', 'verbosity': 0, 'seed': 42, 'nthread': 1}\n",
            "\ttrain_call_kwargs_params: {'verbose_eval': True, 'num_boost_round': 100}\n",
            "\tdmatrix_kwargs: {'nthread': 1, 'missing': nan}\n",
            "INFO:XGBoost-PySpark:Finished xgboost training!\n"
          ]
        },
        {
          "output_type": "stream",
          "name": "stdout",
          "text": [
            "\r 40%|████      | 16/40 [07:47<11:33, 28.91s/trial, best loss: -0.8801177739960174]"
          ]
        },
        {
          "output_type": "stream",
          "name": "stderr",
          "text": [
            "INFO:XGBoost-PySpark:Running xgboost-2.0.3 on 1 workers with\n",
            "\tbooster params: {'device': 'cpu', 'gamma': 0.4913482036645431, 'max_depth': 18, 'min_child_weight': 10.0, 'objective': 'binary:logistic', 'verbosity': 0, 'seed': 42, 'nthread': 1}\n",
            "\ttrain_call_kwargs_params: {'verbose_eval': True, 'num_boost_round': 100}\n",
            "\tdmatrix_kwargs: {'nthread': 1, 'missing': nan}\n",
            "INFO:XGBoost-PySpark:Finished xgboost training!\n",
            "INFO:XGBoost-PySpark:Running xgboost-2.0.3 on 1 workers with\n",
            "\tbooster params: {'device': 'cpu', 'gamma': 0.4913482036645431, 'max_depth': 18, 'min_child_weight': 10.0, 'objective': 'binary:logistic', 'verbosity': 0, 'seed': 42, 'nthread': 1}\n",
            "\ttrain_call_kwargs_params: {'verbose_eval': True, 'num_boost_round': 100}\n",
            "\tdmatrix_kwargs: {'nthread': 1, 'missing': nan}\n",
            "INFO:XGBoost-PySpark:Finished xgboost training!\n",
            "INFO:XGBoost-PySpark:Running xgboost-2.0.3 on 1 workers with\n",
            "\tbooster params: {'device': 'cpu', 'gamma': 0.4913482036645431, 'max_depth': 18, 'min_child_weight': 10.0, 'objective': 'binary:logistic', 'verbosity': 0, 'seed': 42, 'nthread': 1}\n",
            "\ttrain_call_kwargs_params: {'verbose_eval': True, 'num_boost_round': 100}\n",
            "\tdmatrix_kwargs: {'nthread': 1, 'missing': nan}\n",
            "INFO:XGBoost-PySpark:Finished xgboost training!\n",
            "INFO:XGBoost-PySpark:Running xgboost-2.0.3 on 1 workers with\n",
            "\tbooster params: {'device': 'cpu', 'gamma': 0.4913482036645431, 'max_depth': 18, 'min_child_weight': 10.0, 'objective': 'binary:logistic', 'verbosity': 0, 'seed': 42, 'nthread': 1}\n",
            "\ttrain_call_kwargs_params: {'verbose_eval': True, 'num_boost_round': 100}\n",
            "\tdmatrix_kwargs: {'nthread': 1, 'missing': nan}\n",
            "INFO:XGBoost-PySpark:Finished xgboost training!\n",
            "INFO:XGBoost-PySpark:Running xgboost-2.0.3 on 1 workers with\n",
            "\tbooster params: {'device': 'cpu', 'gamma': 0.4913482036645431, 'max_depth': 18, 'min_child_weight': 10.0, 'objective': 'binary:logistic', 'verbosity': 0, 'seed': 42, 'nthread': 1}\n",
            "\ttrain_call_kwargs_params: {'verbose_eval': True, 'num_boost_round': 100}\n",
            "\tdmatrix_kwargs: {'nthread': 1, 'missing': nan}\n",
            "INFO:XGBoost-PySpark:Finished xgboost training!\n",
            "INFO:XGBoost-PySpark:Running xgboost-2.0.3 on 1 workers with\n",
            "\tbooster params: {'device': 'cpu', 'gamma': 0.4913482036645431, 'max_depth': 18, 'min_child_weight': 10.0, 'objective': 'binary:logistic', 'verbosity': 0, 'seed': 42, 'nthread': 1}\n",
            "\ttrain_call_kwargs_params: {'verbose_eval': True, 'num_boost_round': 100}\n",
            "\tdmatrix_kwargs: {'nthread': 1, 'missing': nan}\n",
            "INFO:XGBoost-PySpark:Finished xgboost training!\n"
          ]
        },
        {
          "output_type": "stream",
          "name": "stdout",
          "text": [
            "\r 42%|████▎     | 17/40 [08:14<10:55, 28.48s/trial, best loss: -0.8801177739960174]"
          ]
        },
        {
          "output_type": "stream",
          "name": "stderr",
          "text": [
            "INFO:XGBoost-PySpark:Running xgboost-2.0.3 on 1 workers with\n",
            "\tbooster params: {'device': 'cpu', 'gamma': 0.08963101991659295, 'max_depth': 10, 'min_child_weight': 10.0, 'objective': 'binary:logistic', 'verbosity': 0, 'seed': 42, 'nthread': 1}\n",
            "\ttrain_call_kwargs_params: {'verbose_eval': True, 'num_boost_round': 100}\n",
            "\tdmatrix_kwargs: {'nthread': 1, 'missing': nan}\n",
            "INFO:XGBoost-PySpark:Finished xgboost training!\n",
            "INFO:XGBoost-PySpark:Running xgboost-2.0.3 on 1 workers with\n",
            "\tbooster params: {'device': 'cpu', 'gamma': 0.08963101991659295, 'max_depth': 10, 'min_child_weight': 10.0, 'objective': 'binary:logistic', 'verbosity': 0, 'seed': 42, 'nthread': 1}\n",
            "\ttrain_call_kwargs_params: {'verbose_eval': True, 'num_boost_round': 100}\n",
            "\tdmatrix_kwargs: {'nthread': 1, 'missing': nan}\n",
            "INFO:XGBoost-PySpark:Finished xgboost training!\n",
            "INFO:XGBoost-PySpark:Running xgboost-2.0.3 on 1 workers with\n",
            "\tbooster params: {'device': 'cpu', 'gamma': 0.08963101991659295, 'max_depth': 10, 'min_child_weight': 10.0, 'objective': 'binary:logistic', 'verbosity': 0, 'seed': 42, 'nthread': 1}\n",
            "\ttrain_call_kwargs_params: {'verbose_eval': True, 'num_boost_round': 100}\n",
            "\tdmatrix_kwargs: {'nthread': 1, 'missing': nan}\n",
            "INFO:XGBoost-PySpark:Finished xgboost training!\n",
            "INFO:XGBoost-PySpark:Running xgboost-2.0.3 on 1 workers with\n",
            "\tbooster params: {'device': 'cpu', 'gamma': 0.08963101991659295, 'max_depth': 10, 'min_child_weight': 10.0, 'objective': 'binary:logistic', 'verbosity': 0, 'seed': 42, 'nthread': 1}\n",
            "\ttrain_call_kwargs_params: {'verbose_eval': True, 'num_boost_round': 100}\n",
            "\tdmatrix_kwargs: {'nthread': 1, 'missing': nan}\n",
            "INFO:XGBoost-PySpark:Finished xgboost training!\n",
            "INFO:XGBoost-PySpark:Running xgboost-2.0.3 on 1 workers with\n",
            "\tbooster params: {'device': 'cpu', 'gamma': 0.08963101991659295, 'max_depth': 10, 'min_child_weight': 10.0, 'objective': 'binary:logistic', 'verbosity': 0, 'seed': 42, 'nthread': 1}\n",
            "\ttrain_call_kwargs_params: {'verbose_eval': True, 'num_boost_round': 100}\n",
            "\tdmatrix_kwargs: {'nthread': 1, 'missing': nan}\n",
            "INFO:XGBoost-PySpark:Finished xgboost training!\n",
            "INFO:XGBoost-PySpark:Running xgboost-2.0.3 on 1 workers with\n",
            "\tbooster params: {'device': 'cpu', 'gamma': 0.08963101991659295, 'max_depth': 10, 'min_child_weight': 10.0, 'objective': 'binary:logistic', 'verbosity': 0, 'seed': 42, 'nthread': 1}\n",
            "\ttrain_call_kwargs_params: {'verbose_eval': True, 'num_boost_round': 100}\n",
            "\tdmatrix_kwargs: {'nthread': 1, 'missing': nan}\n",
            "INFO:XGBoost-PySpark:Finished xgboost training!\n"
          ]
        },
        {
          "output_type": "stream",
          "name": "stdout",
          "text": [
            "\r 45%|████▌     | 18/40 [08:43<10:29, 28.60s/trial, best loss: -0.8801177739960174]"
          ]
        },
        {
          "output_type": "stream",
          "name": "stderr",
          "text": [
            "INFO:XGBoost-PySpark:Running xgboost-2.0.3 on 1 workers with\n",
            "\tbooster params: {'device': 'cpu', 'gamma': 0.143600239452561, 'max_depth': 18, 'min_child_weight': 6.0, 'objective': 'binary:logistic', 'verbosity': 0, 'seed': 42, 'nthread': 1}\n",
            "\ttrain_call_kwargs_params: {'verbose_eval': True, 'num_boost_round': 100}\n",
            "\tdmatrix_kwargs: {'nthread': 1, 'missing': nan}\n",
            "INFO:XGBoost-PySpark:Finished xgboost training!\n",
            "INFO:XGBoost-PySpark:Running xgboost-2.0.3 on 1 workers with\n",
            "\tbooster params: {'device': 'cpu', 'gamma': 0.143600239452561, 'max_depth': 18, 'min_child_weight': 6.0, 'objective': 'binary:logistic', 'verbosity': 0, 'seed': 42, 'nthread': 1}\n",
            "\ttrain_call_kwargs_params: {'verbose_eval': True, 'num_boost_round': 100}\n",
            "\tdmatrix_kwargs: {'nthread': 1, 'missing': nan}\n",
            "INFO:XGBoost-PySpark:Finished xgboost training!\n",
            "INFO:XGBoost-PySpark:Running xgboost-2.0.3 on 1 workers with\n",
            "\tbooster params: {'device': 'cpu', 'gamma': 0.143600239452561, 'max_depth': 18, 'min_child_weight': 6.0, 'objective': 'binary:logistic', 'verbosity': 0, 'seed': 42, 'nthread': 1}\n",
            "\ttrain_call_kwargs_params: {'verbose_eval': True, 'num_boost_round': 100}\n",
            "\tdmatrix_kwargs: {'nthread': 1, 'missing': nan}\n",
            "INFO:XGBoost-PySpark:Finished xgboost training!\n",
            "INFO:XGBoost-PySpark:Running xgboost-2.0.3 on 1 workers with\n",
            "\tbooster params: {'device': 'cpu', 'gamma': 0.143600239452561, 'max_depth': 18, 'min_child_weight': 6.0, 'objective': 'binary:logistic', 'verbosity': 0, 'seed': 42, 'nthread': 1}\n",
            "\ttrain_call_kwargs_params: {'verbose_eval': True, 'num_boost_round': 100}\n",
            "\tdmatrix_kwargs: {'nthread': 1, 'missing': nan}\n",
            "INFO:XGBoost-PySpark:Finished xgboost training!\n",
            "INFO:XGBoost-PySpark:Running xgboost-2.0.3 on 1 workers with\n",
            "\tbooster params: {'device': 'cpu', 'gamma': 0.143600239452561, 'max_depth': 18, 'min_child_weight': 6.0, 'objective': 'binary:logistic', 'verbosity': 0, 'seed': 42, 'nthread': 1}\n",
            "\ttrain_call_kwargs_params: {'verbose_eval': True, 'num_boost_round': 100}\n",
            "\tdmatrix_kwargs: {'nthread': 1, 'missing': nan}\n",
            "INFO:XGBoost-PySpark:Finished xgboost training!\n",
            "INFO:XGBoost-PySpark:Running xgboost-2.0.3 on 1 workers with\n",
            "\tbooster params: {'device': 'cpu', 'gamma': 0.143600239452561, 'max_depth': 18, 'min_child_weight': 6.0, 'objective': 'binary:logistic', 'verbosity': 0, 'seed': 42, 'nthread': 1}\n",
            "\ttrain_call_kwargs_params: {'verbose_eval': True, 'num_boost_round': 100}\n",
            "\tdmatrix_kwargs: {'nthread': 1, 'missing': nan}\n",
            "INFO:XGBoost-PySpark:Finished xgboost training!\n"
          ]
        },
        {
          "output_type": "stream",
          "name": "stdout",
          "text": [
            "\r 48%|████▊     | 19/40 [09:13<10:06, 28.89s/trial, best loss: -0.8801177739960174]"
          ]
        },
        {
          "output_type": "stream",
          "name": "stderr",
          "text": [
            "INFO:XGBoost-PySpark:Running xgboost-2.0.3 on 1 workers with\n",
            "\tbooster params: {'device': 'cpu', 'gamma': 0.0583927968981795, 'max_depth': 9, 'min_child_weight': 16.0, 'objective': 'binary:logistic', 'verbosity': 0, 'seed': 42, 'nthread': 1}\n",
            "\ttrain_call_kwargs_params: {'verbose_eval': True, 'num_boost_round': 100}\n",
            "\tdmatrix_kwargs: {'nthread': 1, 'missing': nan}\n",
            "INFO:XGBoost-PySpark:Finished xgboost training!\n",
            "INFO:XGBoost-PySpark:Running xgboost-2.0.3 on 1 workers with\n",
            "\tbooster params: {'device': 'cpu', 'gamma': 0.0583927968981795, 'max_depth': 9, 'min_child_weight': 16.0, 'objective': 'binary:logistic', 'verbosity': 0, 'seed': 42, 'nthread': 1}\n",
            "\ttrain_call_kwargs_params: {'verbose_eval': True, 'num_boost_round': 100}\n",
            "\tdmatrix_kwargs: {'nthread': 1, 'missing': nan}\n",
            "INFO:XGBoost-PySpark:Finished xgboost training!\n",
            "INFO:XGBoost-PySpark:Running xgboost-2.0.3 on 1 workers with\n",
            "\tbooster params: {'device': 'cpu', 'gamma': 0.0583927968981795, 'max_depth': 9, 'min_child_weight': 16.0, 'objective': 'binary:logistic', 'verbosity': 0, 'seed': 42, 'nthread': 1}\n",
            "\ttrain_call_kwargs_params: {'verbose_eval': True, 'num_boost_round': 100}\n",
            "\tdmatrix_kwargs: {'nthread': 1, 'missing': nan}\n",
            "INFO:XGBoost-PySpark:Finished xgboost training!\n",
            "INFO:XGBoost-PySpark:Running xgboost-2.0.3 on 1 workers with\n",
            "\tbooster params: {'device': 'cpu', 'gamma': 0.0583927968981795, 'max_depth': 9, 'min_child_weight': 16.0, 'objective': 'binary:logistic', 'verbosity': 0, 'seed': 42, 'nthread': 1}\n",
            "\ttrain_call_kwargs_params: {'verbose_eval': True, 'num_boost_round': 100}\n",
            "\tdmatrix_kwargs: {'nthread': 1, 'missing': nan}\n",
            "INFO:XGBoost-PySpark:Finished xgboost training!\n",
            "INFO:XGBoost-PySpark:Running xgboost-2.0.3 on 1 workers with\n",
            "\tbooster params: {'device': 'cpu', 'gamma': 0.0583927968981795, 'max_depth': 9, 'min_child_weight': 16.0, 'objective': 'binary:logistic', 'verbosity': 0, 'seed': 42, 'nthread': 1}\n",
            "\ttrain_call_kwargs_params: {'verbose_eval': True, 'num_boost_round': 100}\n",
            "\tdmatrix_kwargs: {'nthread': 1, 'missing': nan}\n",
            "INFO:XGBoost-PySpark:Finished xgboost training!\n",
            "INFO:XGBoost-PySpark:Running xgboost-2.0.3 on 1 workers with\n",
            "\tbooster params: {'device': 'cpu', 'gamma': 0.0583927968981795, 'max_depth': 9, 'min_child_weight': 16.0, 'objective': 'binary:logistic', 'verbosity': 0, 'seed': 42, 'nthread': 1}\n",
            "\ttrain_call_kwargs_params: {'verbose_eval': True, 'num_boost_round': 100}\n",
            "\tdmatrix_kwargs: {'nthread': 1, 'missing': nan}\n",
            "INFO:XGBoost-PySpark:Finished xgboost training!\n"
          ]
        },
        {
          "output_type": "stream",
          "name": "stdout",
          "text": [
            "\r 50%|█████     | 20/40 [09:41<09:35, 28.80s/trial, best loss: -0.8801177739960174]"
          ]
        },
        {
          "output_type": "stream",
          "name": "stderr",
          "text": [
            "INFO:XGBoost-PySpark:Running xgboost-2.0.3 on 1 workers with\n",
            "\tbooster params: {'device': 'cpu', 'gamma': 0.39194915068701774, 'max_depth': 16, 'min_child_weight': 5.0, 'objective': 'binary:logistic', 'verbosity': 0, 'seed': 42, 'nthread': 1}\n",
            "\ttrain_call_kwargs_params: {'verbose_eval': True, 'num_boost_round': 100}\n",
            "\tdmatrix_kwargs: {'nthread': 1, 'missing': nan}\n",
            "INFO:XGBoost-PySpark:Finished xgboost training!\n",
            "INFO:XGBoost-PySpark:Running xgboost-2.0.3 on 1 workers with\n",
            "\tbooster params: {'device': 'cpu', 'gamma': 0.39194915068701774, 'max_depth': 16, 'min_child_weight': 5.0, 'objective': 'binary:logistic', 'verbosity': 0, 'seed': 42, 'nthread': 1}\n",
            "\ttrain_call_kwargs_params: {'verbose_eval': True, 'num_boost_round': 100}\n",
            "\tdmatrix_kwargs: {'nthread': 1, 'missing': nan}\n",
            "INFO:XGBoost-PySpark:Finished xgboost training!\n",
            "INFO:XGBoost-PySpark:Running xgboost-2.0.3 on 1 workers with\n",
            "\tbooster params: {'device': 'cpu', 'gamma': 0.39194915068701774, 'max_depth': 16, 'min_child_weight': 5.0, 'objective': 'binary:logistic', 'verbosity': 0, 'seed': 42, 'nthread': 1}\n",
            "\ttrain_call_kwargs_params: {'verbose_eval': True, 'num_boost_round': 100}\n",
            "\tdmatrix_kwargs: {'nthread': 1, 'missing': nan}\n",
            "INFO:XGBoost-PySpark:Finished xgboost training!\n",
            "INFO:XGBoost-PySpark:Running xgboost-2.0.3 on 1 workers with\n",
            "\tbooster params: {'device': 'cpu', 'gamma': 0.39194915068701774, 'max_depth': 16, 'min_child_weight': 5.0, 'objective': 'binary:logistic', 'verbosity': 0, 'seed': 42, 'nthread': 1}\n",
            "\ttrain_call_kwargs_params: {'verbose_eval': True, 'num_boost_round': 100}\n",
            "\tdmatrix_kwargs: {'nthread': 1, 'missing': nan}\n",
            "INFO:XGBoost-PySpark:Finished xgboost training!\n",
            "INFO:XGBoost-PySpark:Running xgboost-2.0.3 on 1 workers with\n",
            "\tbooster params: {'device': 'cpu', 'gamma': 0.39194915068701774, 'max_depth': 16, 'min_child_weight': 5.0, 'objective': 'binary:logistic', 'verbosity': 0, 'seed': 42, 'nthread': 1}\n",
            "\ttrain_call_kwargs_params: {'verbose_eval': True, 'num_boost_round': 100}\n",
            "\tdmatrix_kwargs: {'nthread': 1, 'missing': nan}\n",
            "INFO:XGBoost-PySpark:Finished xgboost training!\n",
            "INFO:XGBoost-PySpark:Running xgboost-2.0.3 on 1 workers with\n",
            "\tbooster params: {'device': 'cpu', 'gamma': 0.39194915068701774, 'max_depth': 16, 'min_child_weight': 5.0, 'objective': 'binary:logistic', 'verbosity': 0, 'seed': 42, 'nthread': 1}\n",
            "\ttrain_call_kwargs_params: {'verbose_eval': True, 'num_boost_round': 100}\n",
            "\tdmatrix_kwargs: {'nthread': 1, 'missing': nan}\n",
            "INFO:XGBoost-PySpark:Finished xgboost training!\n"
          ]
        },
        {
          "output_type": "stream",
          "name": "stdout",
          "text": [
            "\r 52%|█████▎    | 21/40 [10:10<09:06, 28.78s/trial, best loss: -0.8801177739960174]"
          ]
        },
        {
          "output_type": "stream",
          "name": "stderr",
          "text": [
            "INFO:XGBoost-PySpark:Running xgboost-2.0.3 on 1 workers with\n",
            "\tbooster params: {'device': 'cpu', 'gamma': 0.34554901171387487, 'max_depth': 16, 'min_child_weight': 1.0, 'objective': 'binary:logistic', 'verbosity': 0, 'seed': 42, 'nthread': 1}\n",
            "\ttrain_call_kwargs_params: {'verbose_eval': True, 'num_boost_round': 100}\n",
            "\tdmatrix_kwargs: {'nthread': 1, 'missing': nan}\n",
            "INFO:XGBoost-PySpark:Finished xgboost training!\n",
            "INFO:XGBoost-PySpark:Running xgboost-2.0.3 on 1 workers with\n",
            "\tbooster params: {'device': 'cpu', 'gamma': 0.34554901171387487, 'max_depth': 16, 'min_child_weight': 1.0, 'objective': 'binary:logistic', 'verbosity': 0, 'seed': 42, 'nthread': 1}\n",
            "\ttrain_call_kwargs_params: {'verbose_eval': True, 'num_boost_round': 100}\n",
            "\tdmatrix_kwargs: {'nthread': 1, 'missing': nan}\n",
            "INFO:XGBoost-PySpark:Finished xgboost training!\n",
            "INFO:XGBoost-PySpark:Running xgboost-2.0.3 on 1 workers with\n",
            "\tbooster params: {'device': 'cpu', 'gamma': 0.34554901171387487, 'max_depth': 16, 'min_child_weight': 1.0, 'objective': 'binary:logistic', 'verbosity': 0, 'seed': 42, 'nthread': 1}\n",
            "\ttrain_call_kwargs_params: {'verbose_eval': True, 'num_boost_round': 100}\n",
            "\tdmatrix_kwargs: {'nthread': 1, 'missing': nan}\n",
            "INFO:XGBoost-PySpark:Finished xgboost training!\n",
            "INFO:XGBoost-PySpark:Running xgboost-2.0.3 on 1 workers with\n",
            "\tbooster params: {'device': 'cpu', 'gamma': 0.34554901171387487, 'max_depth': 16, 'min_child_weight': 1.0, 'objective': 'binary:logistic', 'verbosity': 0, 'seed': 42, 'nthread': 1}\n",
            "\ttrain_call_kwargs_params: {'verbose_eval': True, 'num_boost_round': 100}\n",
            "\tdmatrix_kwargs: {'nthread': 1, 'missing': nan}\n",
            "INFO:XGBoost-PySpark:Finished xgboost training!\n",
            "INFO:XGBoost-PySpark:Running xgboost-2.0.3 on 1 workers with\n",
            "\tbooster params: {'device': 'cpu', 'gamma': 0.34554901171387487, 'max_depth': 16, 'min_child_weight': 1.0, 'objective': 'binary:logistic', 'verbosity': 0, 'seed': 42, 'nthread': 1}\n",
            "\ttrain_call_kwargs_params: {'verbose_eval': True, 'num_boost_round': 100}\n",
            "\tdmatrix_kwargs: {'nthread': 1, 'missing': nan}\n",
            "INFO:XGBoost-PySpark:Finished xgboost training!\n",
            "INFO:XGBoost-PySpark:Running xgboost-2.0.3 on 1 workers with\n",
            "\tbooster params: {'device': 'cpu', 'gamma': 0.34554901171387487, 'max_depth': 16, 'min_child_weight': 1.0, 'objective': 'binary:logistic', 'verbosity': 0, 'seed': 42, 'nthread': 1}\n",
            "\ttrain_call_kwargs_params: {'verbose_eval': True, 'num_boost_round': 100}\n",
            "\tdmatrix_kwargs: {'nthread': 1, 'missing': nan}\n",
            "INFO:XGBoost-PySpark:Finished xgboost training!\n"
          ]
        },
        {
          "output_type": "stream",
          "name": "stdout",
          "text": [
            "\r 55%|█████▌    | 22/40 [10:40<08:41, 28.99s/trial, best loss: -0.8801177739960174]"
          ]
        },
        {
          "output_type": "stream",
          "name": "stderr",
          "text": [
            "INFO:XGBoost-PySpark:Running xgboost-2.0.3 on 1 workers with\n",
            "\tbooster params: {'device': 'cpu', 'gamma': 0.4268800715089539, 'max_depth': 20, 'min_child_weight': 6.0, 'objective': 'binary:logistic', 'verbosity': 0, 'seed': 42, 'nthread': 1}\n",
            "\ttrain_call_kwargs_params: {'verbose_eval': True, 'num_boost_round': 100}\n",
            "\tdmatrix_kwargs: {'nthread': 1, 'missing': nan}\n",
            "INFO:XGBoost-PySpark:Finished xgboost training!\n",
            "INFO:XGBoost-PySpark:Running xgboost-2.0.3 on 1 workers with\n",
            "\tbooster params: {'device': 'cpu', 'gamma': 0.4268800715089539, 'max_depth': 20, 'min_child_weight': 6.0, 'objective': 'binary:logistic', 'verbosity': 0, 'seed': 42, 'nthread': 1}\n",
            "\ttrain_call_kwargs_params: {'verbose_eval': True, 'num_boost_round': 100}\n",
            "\tdmatrix_kwargs: {'nthread': 1, 'missing': nan}\n",
            "INFO:XGBoost-PySpark:Finished xgboost training!\n",
            "INFO:XGBoost-PySpark:Running xgboost-2.0.3 on 1 workers with\n",
            "\tbooster params: {'device': 'cpu', 'gamma': 0.4268800715089539, 'max_depth': 20, 'min_child_weight': 6.0, 'objective': 'binary:logistic', 'verbosity': 0, 'seed': 42, 'nthread': 1}\n",
            "\ttrain_call_kwargs_params: {'verbose_eval': True, 'num_boost_round': 100}\n",
            "\tdmatrix_kwargs: {'nthread': 1, 'missing': nan}\n",
            "INFO:XGBoost-PySpark:Finished xgboost training!\n",
            "INFO:XGBoost-PySpark:Running xgboost-2.0.3 on 1 workers with\n",
            "\tbooster params: {'device': 'cpu', 'gamma': 0.4268800715089539, 'max_depth': 20, 'min_child_weight': 6.0, 'objective': 'binary:logistic', 'verbosity': 0, 'seed': 42, 'nthread': 1}\n",
            "\ttrain_call_kwargs_params: {'verbose_eval': True, 'num_boost_round': 100}\n",
            "\tdmatrix_kwargs: {'nthread': 1, 'missing': nan}\n",
            "INFO:XGBoost-PySpark:Finished xgboost training!\n",
            "INFO:XGBoost-PySpark:Running xgboost-2.0.3 on 1 workers with\n",
            "\tbooster params: {'device': 'cpu', 'gamma': 0.4268800715089539, 'max_depth': 20, 'min_child_weight': 6.0, 'objective': 'binary:logistic', 'verbosity': 0, 'seed': 42, 'nthread': 1}\n",
            "\ttrain_call_kwargs_params: {'verbose_eval': True, 'num_boost_round': 100}\n",
            "\tdmatrix_kwargs: {'nthread': 1, 'missing': nan}\n",
            "INFO:XGBoost-PySpark:Finished xgboost training!\n",
            "INFO:XGBoost-PySpark:Running xgboost-2.0.3 on 1 workers with\n",
            "\tbooster params: {'device': 'cpu', 'gamma': 0.4268800715089539, 'max_depth': 20, 'min_child_weight': 6.0, 'objective': 'binary:logistic', 'verbosity': 0, 'seed': 42, 'nthread': 1}\n",
            "\ttrain_call_kwargs_params: {'verbose_eval': True, 'num_boost_round': 100}\n",
            "\tdmatrix_kwargs: {'nthread': 1, 'missing': nan}\n",
            "INFO:XGBoost-PySpark:Finished xgboost training!\n"
          ]
        },
        {
          "output_type": "stream",
          "name": "stdout",
          "text": [
            "\r 57%|█████▊    | 23/40 [11:08<08:10, 28.88s/trial, best loss: -0.8801177739960174]"
          ]
        },
        {
          "output_type": "stream",
          "name": "stderr",
          "text": [
            "INFO:XGBoost-PySpark:Running xgboost-2.0.3 on 1 workers with\n",
            "\tbooster params: {'device': 'cpu', 'gamma': 0.27995690083765495, 'max_depth': 17, 'min_child_weight': 12.0, 'objective': 'binary:logistic', 'verbosity': 0, 'seed': 42, 'nthread': 1}\n",
            "\ttrain_call_kwargs_params: {'verbose_eval': True, 'num_boost_round': 100}\n",
            "\tdmatrix_kwargs: {'nthread': 1, 'missing': nan}\n",
            "INFO:XGBoost-PySpark:Finished xgboost training!\n",
            "INFO:XGBoost-PySpark:Running xgboost-2.0.3 on 1 workers with\n",
            "\tbooster params: {'device': 'cpu', 'gamma': 0.27995690083765495, 'max_depth': 17, 'min_child_weight': 12.0, 'objective': 'binary:logistic', 'verbosity': 0, 'seed': 42, 'nthread': 1}\n",
            "\ttrain_call_kwargs_params: {'verbose_eval': True, 'num_boost_round': 100}\n",
            "\tdmatrix_kwargs: {'nthread': 1, 'missing': nan}\n",
            "INFO:XGBoost-PySpark:Finished xgboost training!\n",
            "INFO:XGBoost-PySpark:Running xgboost-2.0.3 on 1 workers with\n",
            "\tbooster params: {'device': 'cpu', 'gamma': 0.27995690083765495, 'max_depth': 17, 'min_child_weight': 12.0, 'objective': 'binary:logistic', 'verbosity': 0, 'seed': 42, 'nthread': 1}\n",
            "\ttrain_call_kwargs_params: {'verbose_eval': True, 'num_boost_round': 100}\n",
            "\tdmatrix_kwargs: {'nthread': 1, 'missing': nan}\n",
            "INFO:XGBoost-PySpark:Finished xgboost training!\n",
            "INFO:XGBoost-PySpark:Running xgboost-2.0.3 on 1 workers with\n",
            "\tbooster params: {'device': 'cpu', 'gamma': 0.27995690083765495, 'max_depth': 17, 'min_child_weight': 12.0, 'objective': 'binary:logistic', 'verbosity': 0, 'seed': 42, 'nthread': 1}\n",
            "\ttrain_call_kwargs_params: {'verbose_eval': True, 'num_boost_round': 100}\n",
            "\tdmatrix_kwargs: {'nthread': 1, 'missing': nan}\n",
            "INFO:XGBoost-PySpark:Finished xgboost training!\n",
            "INFO:XGBoost-PySpark:Running xgboost-2.0.3 on 1 workers with\n",
            "\tbooster params: {'device': 'cpu', 'gamma': 0.27995690083765495, 'max_depth': 17, 'min_child_weight': 12.0, 'objective': 'binary:logistic', 'verbosity': 0, 'seed': 42, 'nthread': 1}\n",
            "\ttrain_call_kwargs_params: {'verbose_eval': True, 'num_boost_round': 100}\n",
            "\tdmatrix_kwargs: {'nthread': 1, 'missing': nan}\n",
            "INFO:XGBoost-PySpark:Finished xgboost training!\n",
            "INFO:XGBoost-PySpark:Running xgboost-2.0.3 on 1 workers with\n",
            "\tbooster params: {'device': 'cpu', 'gamma': 0.27995690083765495, 'max_depth': 17, 'min_child_weight': 12.0, 'objective': 'binary:logistic', 'verbosity': 0, 'seed': 42, 'nthread': 1}\n",
            "\ttrain_call_kwargs_params: {'verbose_eval': True, 'num_boost_round': 100}\n",
            "\tdmatrix_kwargs: {'nthread': 1, 'missing': nan}\n",
            "INFO:XGBoost-PySpark:Finished xgboost training!\n"
          ]
        },
        {
          "output_type": "stream",
          "name": "stdout",
          "text": [
            "\r 60%|██████    | 24/40 [11:37<07:43, 28.96s/trial, best loss: -0.8801177739960174]"
          ]
        },
        {
          "output_type": "stream",
          "name": "stderr",
          "text": [
            "INFO:XGBoost-PySpark:Running xgboost-2.0.3 on 1 workers with\n",
            "\tbooster params: {'device': 'cpu', 'gamma': 0.3437683528881797, 'max_depth': 14, 'min_child_weight': 7.0, 'objective': 'binary:logistic', 'verbosity': 0, 'seed': 42, 'nthread': 1}\n",
            "\ttrain_call_kwargs_params: {'verbose_eval': True, 'num_boost_round': 100}\n",
            "\tdmatrix_kwargs: {'nthread': 1, 'missing': nan}\n",
            "INFO:XGBoost-PySpark:Finished xgboost training!\n",
            "INFO:XGBoost-PySpark:Running xgboost-2.0.3 on 1 workers with\n",
            "\tbooster params: {'device': 'cpu', 'gamma': 0.3437683528881797, 'max_depth': 14, 'min_child_weight': 7.0, 'objective': 'binary:logistic', 'verbosity': 0, 'seed': 42, 'nthread': 1}\n",
            "\ttrain_call_kwargs_params: {'verbose_eval': True, 'num_boost_round': 100}\n",
            "\tdmatrix_kwargs: {'nthread': 1, 'missing': nan}\n",
            "INFO:XGBoost-PySpark:Finished xgboost training!\n",
            "INFO:XGBoost-PySpark:Running xgboost-2.0.3 on 1 workers with\n",
            "\tbooster params: {'device': 'cpu', 'gamma': 0.3437683528881797, 'max_depth': 14, 'min_child_weight': 7.0, 'objective': 'binary:logistic', 'verbosity': 0, 'seed': 42, 'nthread': 1}\n",
            "\ttrain_call_kwargs_params: {'verbose_eval': True, 'num_boost_round': 100}\n",
            "\tdmatrix_kwargs: {'nthread': 1, 'missing': nan}\n",
            "INFO:XGBoost-PySpark:Finished xgboost training!\n",
            "INFO:XGBoost-PySpark:Running xgboost-2.0.3 on 1 workers with\n",
            "\tbooster params: {'device': 'cpu', 'gamma': 0.3437683528881797, 'max_depth': 14, 'min_child_weight': 7.0, 'objective': 'binary:logistic', 'verbosity': 0, 'seed': 42, 'nthread': 1}\n",
            "\ttrain_call_kwargs_params: {'verbose_eval': True, 'num_boost_round': 100}\n",
            "\tdmatrix_kwargs: {'nthread': 1, 'missing': nan}\n",
            "INFO:XGBoost-PySpark:Finished xgboost training!\n",
            "INFO:XGBoost-PySpark:Running xgboost-2.0.3 on 1 workers with\n",
            "\tbooster params: {'device': 'cpu', 'gamma': 0.3437683528881797, 'max_depth': 14, 'min_child_weight': 7.0, 'objective': 'binary:logistic', 'verbosity': 0, 'seed': 42, 'nthread': 1}\n",
            "\ttrain_call_kwargs_params: {'verbose_eval': True, 'num_boost_round': 100}\n",
            "\tdmatrix_kwargs: {'nthread': 1, 'missing': nan}\n",
            "INFO:XGBoost-PySpark:Finished xgboost training!\n",
            "INFO:XGBoost-PySpark:Running xgboost-2.0.3 on 1 workers with\n",
            "\tbooster params: {'device': 'cpu', 'gamma': 0.3437683528881797, 'max_depth': 14, 'min_child_weight': 7.0, 'objective': 'binary:logistic', 'verbosity': 0, 'seed': 42, 'nthread': 1}\n",
            "\ttrain_call_kwargs_params: {'verbose_eval': True, 'num_boost_round': 100}\n",
            "\tdmatrix_kwargs: {'nthread': 1, 'missing': nan}\n",
            "INFO:XGBoost-PySpark:Finished xgboost training!\n"
          ]
        },
        {
          "output_type": "stream",
          "name": "stdout",
          "text": [
            "\r 62%|██████▎   | 25/40 [12:06<07:12, 28.83s/trial, best loss: -0.8801177739960174]"
          ]
        },
        {
          "output_type": "stream",
          "name": "stderr",
          "text": [
            "INFO:XGBoost-PySpark:Running xgboost-2.0.3 on 1 workers with\n",
            "\tbooster params: {'device': 'cpu', 'gamma': 0.43655314000329726, 'max_depth': 20, 'min_child_weight': 1.0, 'objective': 'binary:logistic', 'verbosity': 0, 'seed': 42, 'nthread': 1}\n",
            "\ttrain_call_kwargs_params: {'verbose_eval': True, 'num_boost_round': 100}\n",
            "\tdmatrix_kwargs: {'nthread': 1, 'missing': nan}\n",
            "INFO:XGBoost-PySpark:Finished xgboost training!\n",
            "INFO:XGBoost-PySpark:Running xgboost-2.0.3 on 1 workers with\n",
            "\tbooster params: {'device': 'cpu', 'gamma': 0.43655314000329726, 'max_depth': 20, 'min_child_weight': 1.0, 'objective': 'binary:logistic', 'verbosity': 0, 'seed': 42, 'nthread': 1}\n",
            "\ttrain_call_kwargs_params: {'verbose_eval': True, 'num_boost_round': 100}\n",
            "\tdmatrix_kwargs: {'nthread': 1, 'missing': nan}\n",
            "INFO:XGBoost-PySpark:Finished xgboost training!\n",
            "INFO:XGBoost-PySpark:Running xgboost-2.0.3 on 1 workers with\n",
            "\tbooster params: {'device': 'cpu', 'gamma': 0.43655314000329726, 'max_depth': 20, 'min_child_weight': 1.0, 'objective': 'binary:logistic', 'verbosity': 0, 'seed': 42, 'nthread': 1}\n",
            "\ttrain_call_kwargs_params: {'verbose_eval': True, 'num_boost_round': 100}\n",
            "\tdmatrix_kwargs: {'nthread': 1, 'missing': nan}\n",
            "INFO:XGBoost-PySpark:Finished xgboost training!\n",
            "INFO:XGBoost-PySpark:Running xgboost-2.0.3 on 1 workers with\n",
            "\tbooster params: {'device': 'cpu', 'gamma': 0.43655314000329726, 'max_depth': 20, 'min_child_weight': 1.0, 'objective': 'binary:logistic', 'verbosity': 0, 'seed': 42, 'nthread': 1}\n",
            "\ttrain_call_kwargs_params: {'verbose_eval': True, 'num_boost_round': 100}\n",
            "\tdmatrix_kwargs: {'nthread': 1, 'missing': nan}\n",
            "INFO:XGBoost-PySpark:Finished xgboost training!\n",
            "INFO:XGBoost-PySpark:Running xgboost-2.0.3 on 1 workers with\n",
            "\tbooster params: {'device': 'cpu', 'gamma': 0.43655314000329726, 'max_depth': 20, 'min_child_weight': 1.0, 'objective': 'binary:logistic', 'verbosity': 0, 'seed': 42, 'nthread': 1}\n",
            "\ttrain_call_kwargs_params: {'verbose_eval': True, 'num_boost_round': 100}\n",
            "\tdmatrix_kwargs: {'nthread': 1, 'missing': nan}\n",
            "INFO:XGBoost-PySpark:Finished xgboost training!\n",
            "INFO:XGBoost-PySpark:Running xgboost-2.0.3 on 1 workers with\n",
            "\tbooster params: {'device': 'cpu', 'gamma': 0.43655314000329726, 'max_depth': 20, 'min_child_weight': 1.0, 'objective': 'binary:logistic', 'verbosity': 0, 'seed': 42, 'nthread': 1}\n",
            "\ttrain_call_kwargs_params: {'verbose_eval': True, 'num_boost_round': 100}\n",
            "\tdmatrix_kwargs: {'nthread': 1, 'missing': nan}\n",
            "INFO:XGBoost-PySpark:Finished xgboost training!\n"
          ]
        },
        {
          "output_type": "stream",
          "name": "stdout",
          "text": [
            "\r 65%|██████▌   | 26/40 [12:35<06:44, 28.88s/trial, best loss: -0.8814702149542496]"
          ]
        },
        {
          "output_type": "stream",
          "name": "stderr",
          "text": [
            "INFO:XGBoost-PySpark:Running xgboost-2.0.3 on 1 workers with\n",
            "\tbooster params: {'device': 'cpu', 'gamma': 0.44812735784795593, 'max_depth': 19, 'min_child_weight': 1.0, 'objective': 'binary:logistic', 'verbosity': 0, 'seed': 42, 'nthread': 1}\n",
            "\ttrain_call_kwargs_params: {'verbose_eval': True, 'num_boost_round': 100}\n",
            "\tdmatrix_kwargs: {'nthread': 1, 'missing': nan}\n",
            "INFO:XGBoost-PySpark:Finished xgboost training!\n",
            "INFO:XGBoost-PySpark:Running xgboost-2.0.3 on 1 workers with\n",
            "\tbooster params: {'device': 'cpu', 'gamma': 0.44812735784795593, 'max_depth': 19, 'min_child_weight': 1.0, 'objective': 'binary:logistic', 'verbosity': 0, 'seed': 42, 'nthread': 1}\n",
            "\ttrain_call_kwargs_params: {'verbose_eval': True, 'num_boost_round': 100}\n",
            "\tdmatrix_kwargs: {'nthread': 1, 'missing': nan}\n",
            "INFO:XGBoost-PySpark:Finished xgboost training!\n",
            "INFO:XGBoost-PySpark:Running xgboost-2.0.3 on 1 workers with\n",
            "\tbooster params: {'device': 'cpu', 'gamma': 0.44812735784795593, 'max_depth': 19, 'min_child_weight': 1.0, 'objective': 'binary:logistic', 'verbosity': 0, 'seed': 42, 'nthread': 1}\n",
            "\ttrain_call_kwargs_params: {'verbose_eval': True, 'num_boost_round': 100}\n",
            "\tdmatrix_kwargs: {'nthread': 1, 'missing': nan}\n",
            "INFO:XGBoost-PySpark:Finished xgboost training!\n",
            "INFO:XGBoost-PySpark:Running xgboost-2.0.3 on 1 workers with\n",
            "\tbooster params: {'device': 'cpu', 'gamma': 0.44812735784795593, 'max_depth': 19, 'min_child_weight': 1.0, 'objective': 'binary:logistic', 'verbosity': 0, 'seed': 42, 'nthread': 1}\n",
            "\ttrain_call_kwargs_params: {'verbose_eval': True, 'num_boost_round': 100}\n",
            "\tdmatrix_kwargs: {'nthread': 1, 'missing': nan}\n",
            "INFO:XGBoost-PySpark:Finished xgboost training!\n",
            "INFO:XGBoost-PySpark:Running xgboost-2.0.3 on 1 workers with\n",
            "\tbooster params: {'device': 'cpu', 'gamma': 0.44812735784795593, 'max_depth': 19, 'min_child_weight': 1.0, 'objective': 'binary:logistic', 'verbosity': 0, 'seed': 42, 'nthread': 1}\n",
            "\ttrain_call_kwargs_params: {'verbose_eval': True, 'num_boost_round': 100}\n",
            "\tdmatrix_kwargs: {'nthread': 1, 'missing': nan}\n",
            "INFO:XGBoost-PySpark:Finished xgboost training!\n",
            "INFO:XGBoost-PySpark:Running xgboost-2.0.3 on 1 workers with\n",
            "\tbooster params: {'device': 'cpu', 'gamma': 0.44812735784795593, 'max_depth': 19, 'min_child_weight': 1.0, 'objective': 'binary:logistic', 'verbosity': 0, 'seed': 42, 'nthread': 1}\n",
            "\ttrain_call_kwargs_params: {'verbose_eval': True, 'num_boost_round': 100}\n",
            "\tdmatrix_kwargs: {'nthread': 1, 'missing': nan}\n",
            "INFO:XGBoost-PySpark:Finished xgboost training!\n"
          ]
        },
        {
          "output_type": "stream",
          "name": "stdout",
          "text": [
            "\r 68%|██████▊   | 27/40 [13:04<06:17, 29.06s/trial, best loss: -0.8814702149542496]"
          ]
        },
        {
          "output_type": "stream",
          "name": "stderr",
          "text": [
            "INFO:XGBoost-PySpark:Running xgboost-2.0.3 on 1 workers with\n",
            "\tbooster params: {'device': 'cpu', 'gamma': 0.46069085138897176, 'max_depth': 20, 'min_child_weight': 1.0, 'objective': 'binary:logistic', 'verbosity': 0, 'seed': 42, 'nthread': 1}\n",
            "\ttrain_call_kwargs_params: {'verbose_eval': True, 'num_boost_round': 100}\n",
            "\tdmatrix_kwargs: {'nthread': 1, 'missing': nan}\n",
            "INFO:XGBoost-PySpark:Finished xgboost training!\n",
            "INFO:XGBoost-PySpark:Running xgboost-2.0.3 on 1 workers with\n",
            "\tbooster params: {'device': 'cpu', 'gamma': 0.46069085138897176, 'max_depth': 20, 'min_child_weight': 1.0, 'objective': 'binary:logistic', 'verbosity': 0, 'seed': 42, 'nthread': 1}\n",
            "\ttrain_call_kwargs_params: {'verbose_eval': True, 'num_boost_round': 100}\n",
            "\tdmatrix_kwargs: {'nthread': 1, 'missing': nan}\n",
            "INFO:XGBoost-PySpark:Finished xgboost training!\n",
            "INFO:XGBoost-PySpark:Running xgboost-2.0.3 on 1 workers with\n",
            "\tbooster params: {'device': 'cpu', 'gamma': 0.46069085138897176, 'max_depth': 20, 'min_child_weight': 1.0, 'objective': 'binary:logistic', 'verbosity': 0, 'seed': 42, 'nthread': 1}\n",
            "\ttrain_call_kwargs_params: {'verbose_eval': True, 'num_boost_round': 100}\n",
            "\tdmatrix_kwargs: {'nthread': 1, 'missing': nan}\n",
            "INFO:XGBoost-PySpark:Finished xgboost training!\n",
            "INFO:XGBoost-PySpark:Running xgboost-2.0.3 on 1 workers with\n",
            "\tbooster params: {'device': 'cpu', 'gamma': 0.46069085138897176, 'max_depth': 20, 'min_child_weight': 1.0, 'objective': 'binary:logistic', 'verbosity': 0, 'seed': 42, 'nthread': 1}\n",
            "\ttrain_call_kwargs_params: {'verbose_eval': True, 'num_boost_round': 100}\n",
            "\tdmatrix_kwargs: {'nthread': 1, 'missing': nan}\n",
            "INFO:XGBoost-PySpark:Finished xgboost training!\n",
            "INFO:XGBoost-PySpark:Running xgboost-2.0.3 on 1 workers with\n",
            "\tbooster params: {'device': 'cpu', 'gamma': 0.46069085138897176, 'max_depth': 20, 'min_child_weight': 1.0, 'objective': 'binary:logistic', 'verbosity': 0, 'seed': 42, 'nthread': 1}\n",
            "\ttrain_call_kwargs_params: {'verbose_eval': True, 'num_boost_round': 100}\n",
            "\tdmatrix_kwargs: {'nthread': 1, 'missing': nan}\n",
            "INFO:XGBoost-PySpark:Finished xgboost training!\n",
            "INFO:XGBoost-PySpark:Running xgboost-2.0.3 on 1 workers with\n",
            "\tbooster params: {'device': 'cpu', 'gamma': 0.46069085138897176, 'max_depth': 20, 'min_child_weight': 1.0, 'objective': 'binary:logistic', 'verbosity': 0, 'seed': 42, 'nthread': 1}\n",
            "\ttrain_call_kwargs_params: {'verbose_eval': True, 'num_boost_round': 100}\n",
            "\tdmatrix_kwargs: {'nthread': 1, 'missing': nan}\n",
            "INFO:XGBoost-PySpark:Finished xgboost training!\n"
          ]
        },
        {
          "output_type": "stream",
          "name": "stdout",
          "text": [
            "\r 70%|███████   | 28/40 [13:33<05:48, 29.05s/trial, best loss: -0.8828208260425061]"
          ]
        },
        {
          "output_type": "stream",
          "name": "stderr",
          "text": [
            "INFO:XGBoost-PySpark:Running xgboost-2.0.3 on 1 workers with\n",
            "\tbooster params: {'device': 'cpu', 'gamma': 0.4652412120569982, 'max_depth': 19, 'min_child_weight': 19.0, 'objective': 'binary:logistic', 'verbosity': 0, 'seed': 42, 'nthread': 1}\n",
            "\ttrain_call_kwargs_params: {'verbose_eval': True, 'num_boost_round': 100}\n",
            "\tdmatrix_kwargs: {'nthread': 1, 'missing': nan}\n",
            "INFO:XGBoost-PySpark:Finished xgboost training!\n",
            "INFO:XGBoost-PySpark:Running xgboost-2.0.3 on 1 workers with\n",
            "\tbooster params: {'device': 'cpu', 'gamma': 0.4652412120569982, 'max_depth': 19, 'min_child_weight': 19.0, 'objective': 'binary:logistic', 'verbosity': 0, 'seed': 42, 'nthread': 1}\n",
            "\ttrain_call_kwargs_params: {'verbose_eval': True, 'num_boost_round': 100}\n",
            "\tdmatrix_kwargs: {'nthread': 1, 'missing': nan}\n",
            "INFO:XGBoost-PySpark:Finished xgboost training!\n",
            "INFO:XGBoost-PySpark:Running xgboost-2.0.3 on 1 workers with\n",
            "\tbooster params: {'device': 'cpu', 'gamma': 0.4652412120569982, 'max_depth': 19, 'min_child_weight': 19.0, 'objective': 'binary:logistic', 'verbosity': 0, 'seed': 42, 'nthread': 1}\n",
            "\ttrain_call_kwargs_params: {'verbose_eval': True, 'num_boost_round': 100}\n",
            "\tdmatrix_kwargs: {'nthread': 1, 'missing': nan}\n",
            "INFO:XGBoost-PySpark:Finished xgboost training!\n",
            "INFO:XGBoost-PySpark:Running xgboost-2.0.3 on 1 workers with\n",
            "\tbooster params: {'device': 'cpu', 'gamma': 0.4652412120569982, 'max_depth': 19, 'min_child_weight': 19.0, 'objective': 'binary:logistic', 'verbosity': 0, 'seed': 42, 'nthread': 1}\n",
            "\ttrain_call_kwargs_params: {'verbose_eval': True, 'num_boost_round': 100}\n",
            "\tdmatrix_kwargs: {'nthread': 1, 'missing': nan}\n",
            "INFO:XGBoost-PySpark:Finished xgboost training!\n",
            "INFO:XGBoost-PySpark:Running xgboost-2.0.3 on 1 workers with\n",
            "\tbooster params: {'device': 'cpu', 'gamma': 0.4652412120569982, 'max_depth': 19, 'min_child_weight': 19.0, 'objective': 'binary:logistic', 'verbosity': 0, 'seed': 42, 'nthread': 1}\n",
            "\ttrain_call_kwargs_params: {'verbose_eval': True, 'num_boost_round': 100}\n",
            "\tdmatrix_kwargs: {'nthread': 1, 'missing': nan}\n",
            "INFO:XGBoost-PySpark:Finished xgboost training!\n",
            "INFO:XGBoost-PySpark:Running xgboost-2.0.3 on 1 workers with\n",
            "\tbooster params: {'device': 'cpu', 'gamma': 0.4652412120569982, 'max_depth': 19, 'min_child_weight': 19.0, 'objective': 'binary:logistic', 'verbosity': 0, 'seed': 42, 'nthread': 1}\n",
            "\ttrain_call_kwargs_params: {'verbose_eval': True, 'num_boost_round': 100}\n",
            "\tdmatrix_kwargs: {'nthread': 1, 'missing': nan}\n",
            "INFO:XGBoost-PySpark:Finished xgboost training!\n"
          ]
        },
        {
          "output_type": "stream",
          "name": "stdout",
          "text": [
            "\r 72%|███████▎  | 29/40 [14:00<05:13, 28.47s/trial, best loss: -0.8828208260425061]"
          ]
        },
        {
          "output_type": "stream",
          "name": "stderr",
          "text": [
            "INFO:XGBoost-PySpark:Running xgboost-2.0.3 on 1 workers with\n",
            "\tbooster params: {'device': 'cpu', 'gamma': 0.24773654373288848, 'max_depth': 17, 'min_child_weight': 2.0, 'objective': 'binary:logistic', 'verbosity': 0, 'seed': 42, 'nthread': 1}\n",
            "\ttrain_call_kwargs_params: {'verbose_eval': True, 'num_boost_round': 100}\n",
            "\tdmatrix_kwargs: {'nthread': 1, 'missing': nan}\n",
            "INFO:XGBoost-PySpark:Finished xgboost training!\n",
            "INFO:XGBoost-PySpark:Running xgboost-2.0.3 on 1 workers with\n",
            "\tbooster params: {'device': 'cpu', 'gamma': 0.24773654373288848, 'max_depth': 17, 'min_child_weight': 2.0, 'objective': 'binary:logistic', 'verbosity': 0, 'seed': 42, 'nthread': 1}\n",
            "\ttrain_call_kwargs_params: {'verbose_eval': True, 'num_boost_round': 100}\n",
            "\tdmatrix_kwargs: {'nthread': 1, 'missing': nan}\n",
            "INFO:XGBoost-PySpark:Finished xgboost training!\n",
            "INFO:XGBoost-PySpark:Running xgboost-2.0.3 on 1 workers with\n",
            "\tbooster params: {'device': 'cpu', 'gamma': 0.24773654373288848, 'max_depth': 17, 'min_child_weight': 2.0, 'objective': 'binary:logistic', 'verbosity': 0, 'seed': 42, 'nthread': 1}\n",
            "\ttrain_call_kwargs_params: {'verbose_eval': True, 'num_boost_round': 100}\n",
            "\tdmatrix_kwargs: {'nthread': 1, 'missing': nan}\n",
            "INFO:XGBoost-PySpark:Finished xgboost training!\n",
            "INFO:XGBoost-PySpark:Running xgboost-2.0.3 on 1 workers with\n",
            "\tbooster params: {'device': 'cpu', 'gamma': 0.24773654373288848, 'max_depth': 17, 'min_child_weight': 2.0, 'objective': 'binary:logistic', 'verbosity': 0, 'seed': 42, 'nthread': 1}\n",
            "\ttrain_call_kwargs_params: {'verbose_eval': True, 'num_boost_round': 100}\n",
            "\tdmatrix_kwargs: {'nthread': 1, 'missing': nan}\n",
            "INFO:XGBoost-PySpark:Finished xgboost training!\n",
            "INFO:XGBoost-PySpark:Running xgboost-2.0.3 on 1 workers with\n",
            "\tbooster params: {'device': 'cpu', 'gamma': 0.24773654373288848, 'max_depth': 17, 'min_child_weight': 2.0, 'objective': 'binary:logistic', 'verbosity': 0, 'seed': 42, 'nthread': 1}\n",
            "\ttrain_call_kwargs_params: {'verbose_eval': True, 'num_boost_round': 100}\n",
            "\tdmatrix_kwargs: {'nthread': 1, 'missing': nan}\n",
            "INFO:XGBoost-PySpark:Finished xgboost training!\n",
            "INFO:XGBoost-PySpark:Running xgboost-2.0.3 on 1 workers with\n",
            "\tbooster params: {'device': 'cpu', 'gamma': 0.24773654373288848, 'max_depth': 17, 'min_child_weight': 2.0, 'objective': 'binary:logistic', 'verbosity': 0, 'seed': 42, 'nthread': 1}\n",
            "\ttrain_call_kwargs_params: {'verbose_eval': True, 'num_boost_round': 100}\n",
            "\tdmatrix_kwargs: {'nthread': 1, 'missing': nan}\n",
            "INFO:XGBoost-PySpark:Finished xgboost training!\n"
          ]
        },
        {
          "output_type": "stream",
          "name": "stdout",
          "text": [
            "\r 75%|███████▌  | 30/40 [14:30<04:48, 28.81s/trial, best loss: -0.8828208260425061]"
          ]
        },
        {
          "output_type": "stream",
          "name": "stderr",
          "text": [
            "INFO:XGBoost-PySpark:Running xgboost-2.0.3 on 1 workers with\n",
            "\tbooster params: {'device': 'cpu', 'gamma': 0.3427123962474542, 'max_depth': 20, 'min_child_weight': 13.0, 'objective': 'binary:logistic', 'verbosity': 0, 'seed': 42, 'nthread': 1}\n",
            "\ttrain_call_kwargs_params: {'verbose_eval': True, 'num_boost_round': 100}\n",
            "\tdmatrix_kwargs: {'nthread': 1, 'missing': nan}\n",
            "INFO:XGBoost-PySpark:Finished xgboost training!\n",
            "INFO:XGBoost-PySpark:Running xgboost-2.0.3 on 1 workers with\n",
            "\tbooster params: {'device': 'cpu', 'gamma': 0.3427123962474542, 'max_depth': 20, 'min_child_weight': 13.0, 'objective': 'binary:logistic', 'verbosity': 0, 'seed': 42, 'nthread': 1}\n",
            "\ttrain_call_kwargs_params: {'verbose_eval': True, 'num_boost_round': 100}\n",
            "\tdmatrix_kwargs: {'nthread': 1, 'missing': nan}\n",
            "INFO:XGBoost-PySpark:Finished xgboost training!\n",
            "INFO:XGBoost-PySpark:Running xgboost-2.0.3 on 1 workers with\n",
            "\tbooster params: {'device': 'cpu', 'gamma': 0.3427123962474542, 'max_depth': 20, 'min_child_weight': 13.0, 'objective': 'binary:logistic', 'verbosity': 0, 'seed': 42, 'nthread': 1}\n",
            "\ttrain_call_kwargs_params: {'verbose_eval': True, 'num_boost_round': 100}\n",
            "\tdmatrix_kwargs: {'nthread': 1, 'missing': nan}\n",
            "INFO:XGBoost-PySpark:Finished xgboost training!\n",
            "INFO:XGBoost-PySpark:Running xgboost-2.0.3 on 1 workers with\n",
            "\tbooster params: {'device': 'cpu', 'gamma': 0.3427123962474542, 'max_depth': 20, 'min_child_weight': 13.0, 'objective': 'binary:logistic', 'verbosity': 0, 'seed': 42, 'nthread': 1}\n",
            "\ttrain_call_kwargs_params: {'verbose_eval': True, 'num_boost_round': 100}\n",
            "\tdmatrix_kwargs: {'nthread': 1, 'missing': nan}\n",
            "INFO:XGBoost-PySpark:Finished xgboost training!\n",
            "INFO:XGBoost-PySpark:Running xgboost-2.0.3 on 1 workers with\n",
            "\tbooster params: {'device': 'cpu', 'gamma': 0.3427123962474542, 'max_depth': 20, 'min_child_weight': 13.0, 'objective': 'binary:logistic', 'verbosity': 0, 'seed': 42, 'nthread': 1}\n",
            "\ttrain_call_kwargs_params: {'verbose_eval': True, 'num_boost_round': 100}\n",
            "\tdmatrix_kwargs: {'nthread': 1, 'missing': nan}\n",
            "INFO:XGBoost-PySpark:Finished xgboost training!\n",
            "INFO:XGBoost-PySpark:Running xgboost-2.0.3 on 1 workers with\n",
            "\tbooster params: {'device': 'cpu', 'gamma': 0.3427123962474542, 'max_depth': 20, 'min_child_weight': 13.0, 'objective': 'binary:logistic', 'verbosity': 0, 'seed': 42, 'nthread': 1}\n",
            "\ttrain_call_kwargs_params: {'verbose_eval': True, 'num_boost_round': 100}\n",
            "\tdmatrix_kwargs: {'nthread': 1, 'missing': nan}\n",
            "INFO:XGBoost-PySpark:Finished xgboost training!\n"
          ]
        },
        {
          "output_type": "stream",
          "name": "stdout",
          "text": [
            "\r 78%|███████▊  | 31/40 [14:59<04:18, 28.72s/trial, best loss: -0.8828208260425061]"
          ]
        },
        {
          "output_type": "stream",
          "name": "stderr",
          "text": [
            "INFO:XGBoost-PySpark:Running xgboost-2.0.3 on 1 workers with\n",
            "\tbooster params: {'device': 'cpu', 'gamma': 0.4992188475842293, 'max_depth': 20, 'min_child_weight': 2.0, 'objective': 'binary:logistic', 'verbosity': 0, 'seed': 42, 'nthread': 1}\n",
            "\ttrain_call_kwargs_params: {'verbose_eval': True, 'num_boost_round': 100}\n",
            "\tdmatrix_kwargs: {'nthread': 1, 'missing': nan}\n",
            "INFO:XGBoost-PySpark:Finished xgboost training!\n",
            "INFO:XGBoost-PySpark:Running xgboost-2.0.3 on 1 workers with\n",
            "\tbooster params: {'device': 'cpu', 'gamma': 0.4992188475842293, 'max_depth': 20, 'min_child_weight': 2.0, 'objective': 'binary:logistic', 'verbosity': 0, 'seed': 42, 'nthread': 1}\n",
            "\ttrain_call_kwargs_params: {'verbose_eval': True, 'num_boost_round': 100}\n",
            "\tdmatrix_kwargs: {'nthread': 1, 'missing': nan}\n",
            "INFO:XGBoost-PySpark:Finished xgboost training!\n",
            "INFO:XGBoost-PySpark:Running xgboost-2.0.3 on 1 workers with\n",
            "\tbooster params: {'device': 'cpu', 'gamma': 0.4992188475842293, 'max_depth': 20, 'min_child_weight': 2.0, 'objective': 'binary:logistic', 'verbosity': 0, 'seed': 42, 'nthread': 1}\n",
            "\ttrain_call_kwargs_params: {'verbose_eval': True, 'num_boost_round': 100}\n",
            "\tdmatrix_kwargs: {'nthread': 1, 'missing': nan}\n",
            "INFO:XGBoost-PySpark:Finished xgboost training!\n",
            "INFO:XGBoost-PySpark:Running xgboost-2.0.3 on 1 workers with\n",
            "\tbooster params: {'device': 'cpu', 'gamma': 0.4992188475842293, 'max_depth': 20, 'min_child_weight': 2.0, 'objective': 'binary:logistic', 'verbosity': 0, 'seed': 42, 'nthread': 1}\n",
            "\ttrain_call_kwargs_params: {'verbose_eval': True, 'num_boost_round': 100}\n",
            "\tdmatrix_kwargs: {'nthread': 1, 'missing': nan}\n",
            "INFO:XGBoost-PySpark:Finished xgboost training!\n",
            "INFO:XGBoost-PySpark:Running xgboost-2.0.3 on 1 workers with\n",
            "\tbooster params: {'device': 'cpu', 'gamma': 0.4992188475842293, 'max_depth': 20, 'min_child_weight': 2.0, 'objective': 'binary:logistic', 'verbosity': 0, 'seed': 42, 'nthread': 1}\n",
            "\ttrain_call_kwargs_params: {'verbose_eval': True, 'num_boost_round': 100}\n",
            "\tdmatrix_kwargs: {'nthread': 1, 'missing': nan}\n",
            "INFO:XGBoost-PySpark:Finished xgboost training!\n",
            "INFO:XGBoost-PySpark:Running xgboost-2.0.3 on 1 workers with\n",
            "\tbooster params: {'device': 'cpu', 'gamma': 0.4992188475842293, 'max_depth': 20, 'min_child_weight': 2.0, 'objective': 'binary:logistic', 'verbosity': 0, 'seed': 42, 'nthread': 1}\n",
            "\ttrain_call_kwargs_params: {'verbose_eval': True, 'num_boost_round': 100}\n",
            "\tdmatrix_kwargs: {'nthread': 1, 'missing': nan}\n",
            "INFO:XGBoost-PySpark:Finished xgboost training!\n"
          ]
        },
        {
          "output_type": "stream",
          "name": "stdout",
          "text": [
            "\r 80%|████████  | 32/40 [15:26<03:47, 28.45s/trial, best loss: -0.8828208260425061]"
          ]
        },
        {
          "output_type": "stream",
          "name": "stderr",
          "text": [
            "INFO:XGBoost-PySpark:Running xgboost-2.0.3 on 1 workers with\n",
            "\tbooster params: {'device': 'cpu', 'gamma': 0.43449993329757747, 'max_depth': 12, 'min_child_weight': 1.0, 'objective': 'binary:logistic', 'verbosity': 0, 'seed': 42, 'nthread': 1}\n",
            "\ttrain_call_kwargs_params: {'verbose_eval': True, 'num_boost_round': 100}\n",
            "\tdmatrix_kwargs: {'nthread': 1, 'missing': nan}\n",
            "INFO:XGBoost-PySpark:Finished xgboost training!\n",
            "INFO:XGBoost-PySpark:Running xgboost-2.0.3 on 1 workers with\n",
            "\tbooster params: {'device': 'cpu', 'gamma': 0.43449993329757747, 'max_depth': 12, 'min_child_weight': 1.0, 'objective': 'binary:logistic', 'verbosity': 0, 'seed': 42, 'nthread': 1}\n",
            "\ttrain_call_kwargs_params: {'verbose_eval': True, 'num_boost_round': 100}\n",
            "\tdmatrix_kwargs: {'nthread': 1, 'missing': nan}\n",
            "INFO:XGBoost-PySpark:Finished xgboost training!\n",
            "INFO:XGBoost-PySpark:Running xgboost-2.0.3 on 1 workers with\n",
            "\tbooster params: {'device': 'cpu', 'gamma': 0.43449993329757747, 'max_depth': 12, 'min_child_weight': 1.0, 'objective': 'binary:logistic', 'verbosity': 0, 'seed': 42, 'nthread': 1}\n",
            "\ttrain_call_kwargs_params: {'verbose_eval': True, 'num_boost_round': 100}\n",
            "\tdmatrix_kwargs: {'nthread': 1, 'missing': nan}\n",
            "INFO:XGBoost-PySpark:Finished xgboost training!\n",
            "INFO:XGBoost-PySpark:Running xgboost-2.0.3 on 1 workers with\n",
            "\tbooster params: {'device': 'cpu', 'gamma': 0.43449993329757747, 'max_depth': 12, 'min_child_weight': 1.0, 'objective': 'binary:logistic', 'verbosity': 0, 'seed': 42, 'nthread': 1}\n",
            "\ttrain_call_kwargs_params: {'verbose_eval': True, 'num_boost_round': 100}\n",
            "\tdmatrix_kwargs: {'nthread': 1, 'missing': nan}\n",
            "INFO:XGBoost-PySpark:Finished xgboost training!\n",
            "INFO:XGBoost-PySpark:Running xgboost-2.0.3 on 1 workers with\n",
            "\tbooster params: {'device': 'cpu', 'gamma': 0.43449993329757747, 'max_depth': 12, 'min_child_weight': 1.0, 'objective': 'binary:logistic', 'verbosity': 0, 'seed': 42, 'nthread': 1}\n",
            "\ttrain_call_kwargs_params: {'verbose_eval': True, 'num_boost_round': 100}\n",
            "\tdmatrix_kwargs: {'nthread': 1, 'missing': nan}\n",
            "INFO:XGBoost-PySpark:Finished xgboost training!\n",
            "INFO:XGBoost-PySpark:Running xgboost-2.0.3 on 1 workers with\n",
            "\tbooster params: {'device': 'cpu', 'gamma': 0.43449993329757747, 'max_depth': 12, 'min_child_weight': 1.0, 'objective': 'binary:logistic', 'verbosity': 0, 'seed': 42, 'nthread': 1}\n",
            "\ttrain_call_kwargs_params: {'verbose_eval': True, 'num_boost_round': 100}\n",
            "\tdmatrix_kwargs: {'nthread': 1, 'missing': nan}\n",
            "INFO:XGBoost-PySpark:Finished xgboost training!\n"
          ]
        },
        {
          "output_type": "stream",
          "name": "stdout",
          "text": [
            "\r 82%|████████▎ | 33/40 [15:55<03:19, 28.53s/trial, best loss: -0.8834443662700473]"
          ]
        },
        {
          "output_type": "stream",
          "name": "stderr",
          "text": [
            "INFO:XGBoost-PySpark:Running xgboost-2.0.3 on 1 workers with\n",
            "\tbooster params: {'device': 'cpu', 'gamma': 0.4168546413753719, 'max_depth': 12, 'min_child_weight': 20.0, 'objective': 'binary:logistic', 'verbosity': 0, 'seed': 42, 'nthread': 1}\n",
            "\ttrain_call_kwargs_params: {'verbose_eval': True, 'num_boost_round': 100}\n",
            "\tdmatrix_kwargs: {'nthread': 1, 'missing': nan}\n",
            "INFO:XGBoost-PySpark:Finished xgboost training!\n",
            "INFO:XGBoost-PySpark:Running xgboost-2.0.3 on 1 workers with\n",
            "\tbooster params: {'device': 'cpu', 'gamma': 0.4168546413753719, 'max_depth': 12, 'min_child_weight': 20.0, 'objective': 'binary:logistic', 'verbosity': 0, 'seed': 42, 'nthread': 1}\n",
            "\ttrain_call_kwargs_params: {'verbose_eval': True, 'num_boost_round': 100}\n",
            "\tdmatrix_kwargs: {'nthread': 1, 'missing': nan}\n",
            "INFO:XGBoost-PySpark:Finished xgboost training!\n",
            "INFO:XGBoost-PySpark:Running xgboost-2.0.3 on 1 workers with\n",
            "\tbooster params: {'device': 'cpu', 'gamma': 0.4168546413753719, 'max_depth': 12, 'min_child_weight': 20.0, 'objective': 'binary:logistic', 'verbosity': 0, 'seed': 42, 'nthread': 1}\n",
            "\ttrain_call_kwargs_params: {'verbose_eval': True, 'num_boost_round': 100}\n",
            "\tdmatrix_kwargs: {'nthread': 1, 'missing': nan}\n",
            "INFO:XGBoost-PySpark:Finished xgboost training!\n",
            "INFO:XGBoost-PySpark:Running xgboost-2.0.3 on 1 workers with\n",
            "\tbooster params: {'device': 'cpu', 'gamma': 0.4168546413753719, 'max_depth': 12, 'min_child_weight': 20.0, 'objective': 'binary:logistic', 'verbosity': 0, 'seed': 42, 'nthread': 1}\n",
            "\ttrain_call_kwargs_params: {'verbose_eval': True, 'num_boost_round': 100}\n",
            "\tdmatrix_kwargs: {'nthread': 1, 'missing': nan}\n",
            "INFO:XGBoost-PySpark:Finished xgboost training!\n",
            "INFO:XGBoost-PySpark:Running xgboost-2.0.3 on 1 workers with\n",
            "\tbooster params: {'device': 'cpu', 'gamma': 0.4168546413753719, 'max_depth': 12, 'min_child_weight': 20.0, 'objective': 'binary:logistic', 'verbosity': 0, 'seed': 42, 'nthread': 1}\n",
            "\ttrain_call_kwargs_params: {'verbose_eval': True, 'num_boost_round': 100}\n",
            "\tdmatrix_kwargs: {'nthread': 1, 'missing': nan}\n",
            "INFO:XGBoost-PySpark:Finished xgboost training!\n",
            "INFO:XGBoost-PySpark:Running xgboost-2.0.3 on 1 workers with\n",
            "\tbooster params: {'device': 'cpu', 'gamma': 0.4168546413753719, 'max_depth': 12, 'min_child_weight': 20.0, 'objective': 'binary:logistic', 'verbosity': 0, 'seed': 42, 'nthread': 1}\n",
            "\ttrain_call_kwargs_params: {'verbose_eval': True, 'num_boost_round': 100}\n",
            "\tdmatrix_kwargs: {'nthread': 1, 'missing': nan}\n",
            "INFO:XGBoost-PySpark:Finished xgboost training!\n"
          ]
        },
        {
          "output_type": "stream",
          "name": "stdout",
          "text": [
            "\r 85%|████████▌ | 34/40 [16:23<02:50, 28.37s/trial, best loss: -0.8834443662700473]"
          ]
        },
        {
          "output_type": "stream",
          "name": "stderr",
          "text": [
            "INFO:XGBoost-PySpark:Running xgboost-2.0.3 on 1 workers with\n",
            "\tbooster params: {'device': 'cpu', 'gamma': 0.26749615268147114, 'max_depth': 13, 'min_child_weight': 3.0, 'objective': 'binary:logistic', 'verbosity': 0, 'seed': 42, 'nthread': 1}\n",
            "\ttrain_call_kwargs_params: {'verbose_eval': True, 'num_boost_round': 100}\n",
            "\tdmatrix_kwargs: {'nthread': 1, 'missing': nan}\n",
            "INFO:XGBoost-PySpark:Finished xgboost training!\n",
            "INFO:XGBoost-PySpark:Running xgboost-2.0.3 on 1 workers with\n",
            "\tbooster params: {'device': 'cpu', 'gamma': 0.26749615268147114, 'max_depth': 13, 'min_child_weight': 3.0, 'objective': 'binary:logistic', 'verbosity': 0, 'seed': 42, 'nthread': 1}\n",
            "\ttrain_call_kwargs_params: {'verbose_eval': True, 'num_boost_round': 100}\n",
            "\tdmatrix_kwargs: {'nthread': 1, 'missing': nan}\n",
            "INFO:XGBoost-PySpark:Finished xgboost training!\n",
            "INFO:XGBoost-PySpark:Running xgboost-2.0.3 on 1 workers with\n",
            "\tbooster params: {'device': 'cpu', 'gamma': 0.26749615268147114, 'max_depth': 13, 'min_child_weight': 3.0, 'objective': 'binary:logistic', 'verbosity': 0, 'seed': 42, 'nthread': 1}\n",
            "\ttrain_call_kwargs_params: {'verbose_eval': True, 'num_boost_round': 100}\n",
            "\tdmatrix_kwargs: {'nthread': 1, 'missing': nan}\n",
            "INFO:XGBoost-PySpark:Finished xgboost training!\n",
            "INFO:XGBoost-PySpark:Running xgboost-2.0.3 on 1 workers with\n",
            "\tbooster params: {'device': 'cpu', 'gamma': 0.26749615268147114, 'max_depth': 13, 'min_child_weight': 3.0, 'objective': 'binary:logistic', 'verbosity': 0, 'seed': 42, 'nthread': 1}\n",
            "\ttrain_call_kwargs_params: {'verbose_eval': True, 'num_boost_round': 100}\n",
            "\tdmatrix_kwargs: {'nthread': 1, 'missing': nan}\n",
            "INFO:XGBoost-PySpark:Finished xgboost training!\n",
            "INFO:XGBoost-PySpark:Running xgboost-2.0.3 on 1 workers with\n",
            "\tbooster params: {'device': 'cpu', 'gamma': 0.26749615268147114, 'max_depth': 13, 'min_child_weight': 3.0, 'objective': 'binary:logistic', 'verbosity': 0, 'seed': 42, 'nthread': 1}\n",
            "\ttrain_call_kwargs_params: {'verbose_eval': True, 'num_boost_round': 100}\n",
            "\tdmatrix_kwargs: {'nthread': 1, 'missing': nan}\n",
            "INFO:XGBoost-PySpark:Finished xgboost training!\n",
            "INFO:XGBoost-PySpark:Running xgboost-2.0.3 on 1 workers with\n",
            "\tbooster params: {'device': 'cpu', 'gamma': 0.26749615268147114, 'max_depth': 13, 'min_child_weight': 3.0, 'objective': 'binary:logistic', 'verbosity': 0, 'seed': 42, 'nthread': 1}\n",
            "\ttrain_call_kwargs_params: {'verbose_eval': True, 'num_boost_round': 100}\n",
            "\tdmatrix_kwargs: {'nthread': 1, 'missing': nan}\n",
            "INFO:XGBoost-PySpark:Finished xgboost training!\n"
          ]
        },
        {
          "output_type": "stream",
          "name": "stdout",
          "text": [
            "\r 88%|████████▊ | 35/40 [16:51<02:21, 28.36s/trial, best loss: -0.8834443662700473]"
          ]
        },
        {
          "output_type": "stream",
          "name": "stderr",
          "text": [
            "INFO:XGBoost-PySpark:Running xgboost-2.0.3 on 1 workers with\n",
            "\tbooster params: {'device': 'cpu', 'gamma': 0.012214823674758513, 'max_depth': 11, 'min_child_weight': 6.0, 'objective': 'binary:logistic', 'verbosity': 0, 'seed': 42, 'nthread': 1}\n",
            "\ttrain_call_kwargs_params: {'verbose_eval': True, 'num_boost_round': 100}\n",
            "\tdmatrix_kwargs: {'nthread': 1, 'missing': nan}\n",
            "INFO:XGBoost-PySpark:Finished xgboost training!\n",
            "INFO:XGBoost-PySpark:Running xgboost-2.0.3 on 1 workers with\n",
            "\tbooster params: {'device': 'cpu', 'gamma': 0.012214823674758513, 'max_depth': 11, 'min_child_weight': 6.0, 'objective': 'binary:logistic', 'verbosity': 0, 'seed': 42, 'nthread': 1}\n",
            "\ttrain_call_kwargs_params: {'verbose_eval': True, 'num_boost_round': 100}\n",
            "\tdmatrix_kwargs: {'nthread': 1, 'missing': nan}\n",
            "INFO:XGBoost-PySpark:Finished xgboost training!\n",
            "INFO:XGBoost-PySpark:Running xgboost-2.0.3 on 1 workers with\n",
            "\tbooster params: {'device': 'cpu', 'gamma': 0.012214823674758513, 'max_depth': 11, 'min_child_weight': 6.0, 'objective': 'binary:logistic', 'verbosity': 0, 'seed': 42, 'nthread': 1}\n",
            "\ttrain_call_kwargs_params: {'verbose_eval': True, 'num_boost_round': 100}\n",
            "\tdmatrix_kwargs: {'nthread': 1, 'missing': nan}\n",
            "INFO:XGBoost-PySpark:Finished xgboost training!\n",
            "INFO:XGBoost-PySpark:Running xgboost-2.0.3 on 1 workers with\n",
            "\tbooster params: {'device': 'cpu', 'gamma': 0.012214823674758513, 'max_depth': 11, 'min_child_weight': 6.0, 'objective': 'binary:logistic', 'verbosity': 0, 'seed': 42, 'nthread': 1}\n",
            "\ttrain_call_kwargs_params: {'verbose_eval': True, 'num_boost_round': 100}\n",
            "\tdmatrix_kwargs: {'nthread': 1, 'missing': nan}\n",
            "INFO:XGBoost-PySpark:Finished xgboost training!\n",
            "INFO:XGBoost-PySpark:Running xgboost-2.0.3 on 1 workers with\n",
            "\tbooster params: {'device': 'cpu', 'gamma': 0.012214823674758513, 'max_depth': 11, 'min_child_weight': 6.0, 'objective': 'binary:logistic', 'verbosity': 0, 'seed': 42, 'nthread': 1}\n",
            "\ttrain_call_kwargs_params: {'verbose_eval': True, 'num_boost_round': 100}\n",
            "\tdmatrix_kwargs: {'nthread': 1, 'missing': nan}\n",
            "INFO:XGBoost-PySpark:Finished xgboost training!\n",
            "INFO:XGBoost-PySpark:Running xgboost-2.0.3 on 1 workers with\n",
            "\tbooster params: {'device': 'cpu', 'gamma': 0.012214823674758513, 'max_depth': 11, 'min_child_weight': 6.0, 'objective': 'binary:logistic', 'verbosity': 0, 'seed': 42, 'nthread': 1}\n",
            "\ttrain_call_kwargs_params: {'verbose_eval': True, 'num_boost_round': 100}\n",
            "\tdmatrix_kwargs: {'nthread': 1, 'missing': nan}\n",
            "INFO:XGBoost-PySpark:Finished xgboost training!\n"
          ]
        },
        {
          "output_type": "stream",
          "name": "stdout",
          "text": [
            "\r 90%|█████████ | 36/40 [17:21<01:54, 28.66s/trial, best loss: -0.8834443662700473]"
          ]
        },
        {
          "output_type": "stream",
          "name": "stderr",
          "text": [
            "INFO:XGBoost-PySpark:Running xgboost-2.0.3 on 1 workers with\n",
            "\tbooster params: {'device': 'cpu', 'gamma': 0.316094521943171, 'max_depth': 12, 'min_child_weight': 14.0, 'objective': 'binary:logistic', 'verbosity': 0, 'seed': 42, 'nthread': 1}\n",
            "\ttrain_call_kwargs_params: {'verbose_eval': True, 'num_boost_round': 100}\n",
            "\tdmatrix_kwargs: {'nthread': 1, 'missing': nan}\n",
            "INFO:XGBoost-PySpark:Finished xgboost training!\n",
            "INFO:XGBoost-PySpark:Running xgboost-2.0.3 on 1 workers with\n",
            "\tbooster params: {'device': 'cpu', 'gamma': 0.316094521943171, 'max_depth': 12, 'min_child_weight': 14.0, 'objective': 'binary:logistic', 'verbosity': 0, 'seed': 42, 'nthread': 1}\n",
            "\ttrain_call_kwargs_params: {'verbose_eval': True, 'num_boost_round': 100}\n",
            "\tdmatrix_kwargs: {'nthread': 1, 'missing': nan}\n",
            "INFO:XGBoost-PySpark:Finished xgboost training!\n",
            "INFO:XGBoost-PySpark:Running xgboost-2.0.3 on 1 workers with\n",
            "\tbooster params: {'device': 'cpu', 'gamma': 0.316094521943171, 'max_depth': 12, 'min_child_weight': 14.0, 'objective': 'binary:logistic', 'verbosity': 0, 'seed': 42, 'nthread': 1}\n",
            "\ttrain_call_kwargs_params: {'verbose_eval': True, 'num_boost_round': 100}\n",
            "\tdmatrix_kwargs: {'nthread': 1, 'missing': nan}\n",
            "INFO:XGBoost-PySpark:Finished xgboost training!\n",
            "INFO:XGBoost-PySpark:Running xgboost-2.0.3 on 1 workers with\n",
            "\tbooster params: {'device': 'cpu', 'gamma': 0.316094521943171, 'max_depth': 12, 'min_child_weight': 14.0, 'objective': 'binary:logistic', 'verbosity': 0, 'seed': 42, 'nthread': 1}\n",
            "\ttrain_call_kwargs_params: {'verbose_eval': True, 'num_boost_round': 100}\n",
            "\tdmatrix_kwargs: {'nthread': 1, 'missing': nan}\n",
            "INFO:XGBoost-PySpark:Finished xgboost training!\n",
            "INFO:XGBoost-PySpark:Running xgboost-2.0.3 on 1 workers with\n",
            "\tbooster params: {'device': 'cpu', 'gamma': 0.316094521943171, 'max_depth': 12, 'min_child_weight': 14.0, 'objective': 'binary:logistic', 'verbosity': 0, 'seed': 42, 'nthread': 1}\n",
            "\ttrain_call_kwargs_params: {'verbose_eval': True, 'num_boost_round': 100}\n",
            "\tdmatrix_kwargs: {'nthread': 1, 'missing': nan}\n",
            "INFO:XGBoost-PySpark:Finished xgboost training!\n",
            "INFO:XGBoost-PySpark:Running xgboost-2.0.3 on 1 workers with\n",
            "\tbooster params: {'device': 'cpu', 'gamma': 0.316094521943171, 'max_depth': 12, 'min_child_weight': 14.0, 'objective': 'binary:logistic', 'verbosity': 0, 'seed': 42, 'nthread': 1}\n",
            "\ttrain_call_kwargs_params: {'verbose_eval': True, 'num_boost_round': 100}\n",
            "\tdmatrix_kwargs: {'nthread': 1, 'missing': nan}\n",
            "INFO:XGBoost-PySpark:Finished xgboost training!\n"
          ]
        },
        {
          "output_type": "stream",
          "name": "stdout",
          "text": [
            "\r 92%|█████████▎| 37/40 [17:49<01:25, 28.53s/trial, best loss: -0.8834443662700473]"
          ]
        },
        {
          "output_type": "stream",
          "name": "stderr",
          "text": [
            "INFO:XGBoost-PySpark:Running xgboost-2.0.3 on 1 workers with\n",
            "\tbooster params: {'device': 'cpu', 'gamma': 0.49999987479011043, 'max_depth': 11, 'min_child_weight': 7.0, 'objective': 'binary:logistic', 'verbosity': 0, 'seed': 42, 'nthread': 1}\n",
            "\ttrain_call_kwargs_params: {'verbose_eval': True, 'num_boost_round': 100}\n",
            "\tdmatrix_kwargs: {'nthread': 1, 'missing': nan}\n",
            "INFO:XGBoost-PySpark:Finished xgboost training!\n",
            "INFO:XGBoost-PySpark:Running xgboost-2.0.3 on 1 workers with\n",
            "\tbooster params: {'device': 'cpu', 'gamma': 0.49999987479011043, 'max_depth': 11, 'min_child_weight': 7.0, 'objective': 'binary:logistic', 'verbosity': 0, 'seed': 42, 'nthread': 1}\n",
            "\ttrain_call_kwargs_params: {'verbose_eval': True, 'num_boost_round': 100}\n",
            "\tdmatrix_kwargs: {'nthread': 1, 'missing': nan}\n",
            "INFO:XGBoost-PySpark:Finished xgboost training!\n",
            "INFO:XGBoost-PySpark:Running xgboost-2.0.3 on 1 workers with\n",
            "\tbooster params: {'device': 'cpu', 'gamma': 0.49999987479011043, 'max_depth': 11, 'min_child_weight': 7.0, 'objective': 'binary:logistic', 'verbosity': 0, 'seed': 42, 'nthread': 1}\n",
            "\ttrain_call_kwargs_params: {'verbose_eval': True, 'num_boost_round': 100}\n",
            "\tdmatrix_kwargs: {'nthread': 1, 'missing': nan}\n",
            "INFO:XGBoost-PySpark:Finished xgboost training!\n",
            "INFO:XGBoost-PySpark:Running xgboost-2.0.3 on 1 workers with\n",
            "\tbooster params: {'device': 'cpu', 'gamma': 0.49999987479011043, 'max_depth': 11, 'min_child_weight': 7.0, 'objective': 'binary:logistic', 'verbosity': 0, 'seed': 42, 'nthread': 1}\n",
            "\ttrain_call_kwargs_params: {'verbose_eval': True, 'num_boost_round': 100}\n",
            "\tdmatrix_kwargs: {'nthread': 1, 'missing': nan}\n",
            "INFO:XGBoost-PySpark:Finished xgboost training!\n",
            "INFO:XGBoost-PySpark:Running xgboost-2.0.3 on 1 workers with\n",
            "\tbooster params: {'device': 'cpu', 'gamma': 0.49999987479011043, 'max_depth': 11, 'min_child_weight': 7.0, 'objective': 'binary:logistic', 'verbosity': 0, 'seed': 42, 'nthread': 1}\n",
            "\ttrain_call_kwargs_params: {'verbose_eval': True, 'num_boost_round': 100}\n",
            "\tdmatrix_kwargs: {'nthread': 1, 'missing': nan}\n",
            "INFO:XGBoost-PySpark:Finished xgboost training!\n",
            "INFO:XGBoost-PySpark:Running xgboost-2.0.3 on 1 workers with\n",
            "\tbooster params: {'device': 'cpu', 'gamma': 0.49999987479011043, 'max_depth': 11, 'min_child_weight': 7.0, 'objective': 'binary:logistic', 'verbosity': 0, 'seed': 42, 'nthread': 1}\n",
            "\ttrain_call_kwargs_params: {'verbose_eval': True, 'num_boost_round': 100}\n",
            "\tdmatrix_kwargs: {'nthread': 1, 'missing': nan}\n",
            "INFO:XGBoost-PySpark:Finished xgboost training!\n"
          ]
        },
        {
          "output_type": "stream",
          "name": "stdout",
          "text": [
            "\r 95%|█████████▌| 38/40 [18:18<00:57, 28.61s/trial, best loss: -0.8834443662700473]"
          ]
        },
        {
          "output_type": "stream",
          "name": "stderr",
          "text": [
            "INFO:XGBoost-PySpark:Running xgboost-2.0.3 on 1 workers with\n",
            "\tbooster params: {'device': 'cpu', 'gamma': 0.15816204773857778, 'max_depth': 15, 'min_child_weight': 3.0, 'objective': 'binary:logistic', 'verbosity': 0, 'seed': 42, 'nthread': 1}\n",
            "\ttrain_call_kwargs_params: {'verbose_eval': True, 'num_boost_round': 100}\n",
            "\tdmatrix_kwargs: {'nthread': 1, 'missing': nan}\n",
            "INFO:XGBoost-PySpark:Finished xgboost training!\n",
            "INFO:XGBoost-PySpark:Running xgboost-2.0.3 on 1 workers with\n",
            "\tbooster params: {'device': 'cpu', 'gamma': 0.15816204773857778, 'max_depth': 15, 'min_child_weight': 3.0, 'objective': 'binary:logistic', 'verbosity': 0, 'seed': 42, 'nthread': 1}\n",
            "\ttrain_call_kwargs_params: {'verbose_eval': True, 'num_boost_round': 100}\n",
            "\tdmatrix_kwargs: {'nthread': 1, 'missing': nan}\n",
            "INFO:XGBoost-PySpark:Finished xgboost training!\n",
            "INFO:XGBoost-PySpark:Running xgboost-2.0.3 on 1 workers with\n",
            "\tbooster params: {'device': 'cpu', 'gamma': 0.15816204773857778, 'max_depth': 15, 'min_child_weight': 3.0, 'objective': 'binary:logistic', 'verbosity': 0, 'seed': 42, 'nthread': 1}\n",
            "\ttrain_call_kwargs_params: {'verbose_eval': True, 'num_boost_round': 100}\n",
            "\tdmatrix_kwargs: {'nthread': 1, 'missing': nan}\n",
            "INFO:XGBoost-PySpark:Finished xgboost training!\n",
            "INFO:XGBoost-PySpark:Running xgboost-2.0.3 on 1 workers with\n",
            "\tbooster params: {'device': 'cpu', 'gamma': 0.15816204773857778, 'max_depth': 15, 'min_child_weight': 3.0, 'objective': 'binary:logistic', 'verbosity': 0, 'seed': 42, 'nthread': 1}\n",
            "\ttrain_call_kwargs_params: {'verbose_eval': True, 'num_boost_round': 100}\n",
            "\tdmatrix_kwargs: {'nthread': 1, 'missing': nan}\n",
            "INFO:XGBoost-PySpark:Finished xgboost training!\n",
            "INFO:XGBoost-PySpark:Running xgboost-2.0.3 on 1 workers with\n",
            "\tbooster params: {'device': 'cpu', 'gamma': 0.15816204773857778, 'max_depth': 15, 'min_child_weight': 3.0, 'objective': 'binary:logistic', 'verbosity': 0, 'seed': 42, 'nthread': 1}\n",
            "\ttrain_call_kwargs_params: {'verbose_eval': True, 'num_boost_round': 100}\n",
            "\tdmatrix_kwargs: {'nthread': 1, 'missing': nan}\n",
            "INFO:XGBoost-PySpark:Finished xgboost training!\n",
            "INFO:XGBoost-PySpark:Running xgboost-2.0.3 on 1 workers with\n",
            "\tbooster params: {'device': 'cpu', 'gamma': 0.15816204773857778, 'max_depth': 15, 'min_child_weight': 3.0, 'objective': 'binary:logistic', 'verbosity': 0, 'seed': 42, 'nthread': 1}\n",
            "\ttrain_call_kwargs_params: {'verbose_eval': True, 'num_boost_round': 100}\n",
            "\tdmatrix_kwargs: {'nthread': 1, 'missing': nan}\n",
            "INFO:XGBoost-PySpark:Finished xgboost training!\n"
          ]
        },
        {
          "output_type": "stream",
          "name": "stdout",
          "text": [
            "\r 98%|█████████▊| 39/40 [18:46<00:28, 28.39s/trial, best loss: -0.8834443662700473]"
          ]
        },
        {
          "output_type": "stream",
          "name": "stderr",
          "text": [
            "INFO:XGBoost-PySpark:Running xgboost-2.0.3 on 1 workers with\n",
            "\tbooster params: {'device': 'cpu', 'gamma': 0.2409241061866138, 'max_depth': 13, 'min_child_weight': 5.0, 'objective': 'binary:logistic', 'verbosity': 0, 'seed': 42, 'nthread': 1}\n",
            "\ttrain_call_kwargs_params: {'verbose_eval': True, 'num_boost_round': 100}\n",
            "\tdmatrix_kwargs: {'nthread': 1, 'missing': nan}\n",
            "INFO:XGBoost-PySpark:Finished xgboost training!\n",
            "INFO:XGBoost-PySpark:Running xgboost-2.0.3 on 1 workers with\n",
            "\tbooster params: {'device': 'cpu', 'gamma': 0.2409241061866138, 'max_depth': 13, 'min_child_weight': 5.0, 'objective': 'binary:logistic', 'verbosity': 0, 'seed': 42, 'nthread': 1}\n",
            "\ttrain_call_kwargs_params: {'verbose_eval': True, 'num_boost_round': 100}\n",
            "\tdmatrix_kwargs: {'nthread': 1, 'missing': nan}\n",
            "INFO:XGBoost-PySpark:Finished xgboost training!\n",
            "INFO:XGBoost-PySpark:Running xgboost-2.0.3 on 1 workers with\n",
            "\tbooster params: {'device': 'cpu', 'gamma': 0.2409241061866138, 'max_depth': 13, 'min_child_weight': 5.0, 'objective': 'binary:logistic', 'verbosity': 0, 'seed': 42, 'nthread': 1}\n",
            "\ttrain_call_kwargs_params: {'verbose_eval': True, 'num_boost_round': 100}\n",
            "\tdmatrix_kwargs: {'nthread': 1, 'missing': nan}\n",
            "INFO:XGBoost-PySpark:Finished xgboost training!\n",
            "INFO:XGBoost-PySpark:Running xgboost-2.0.3 on 1 workers with\n",
            "\tbooster params: {'device': 'cpu', 'gamma': 0.2409241061866138, 'max_depth': 13, 'min_child_weight': 5.0, 'objective': 'binary:logistic', 'verbosity': 0, 'seed': 42, 'nthread': 1}\n",
            "\ttrain_call_kwargs_params: {'verbose_eval': True, 'num_boost_round': 100}\n",
            "\tdmatrix_kwargs: {'nthread': 1, 'missing': nan}\n",
            "INFO:XGBoost-PySpark:Finished xgboost training!\n",
            "INFO:XGBoost-PySpark:Running xgboost-2.0.3 on 1 workers with\n",
            "\tbooster params: {'device': 'cpu', 'gamma': 0.2409241061866138, 'max_depth': 13, 'min_child_weight': 5.0, 'objective': 'binary:logistic', 'verbosity': 0, 'seed': 42, 'nthread': 1}\n",
            "\ttrain_call_kwargs_params: {'verbose_eval': True, 'num_boost_round': 100}\n",
            "\tdmatrix_kwargs: {'nthread': 1, 'missing': nan}\n",
            "INFO:XGBoost-PySpark:Finished xgboost training!\n",
            "INFO:XGBoost-PySpark:Running xgboost-2.0.3 on 1 workers with\n",
            "\tbooster params: {'device': 'cpu', 'gamma': 0.2409241061866138, 'max_depth': 13, 'min_child_weight': 5.0, 'objective': 'binary:logistic', 'verbosity': 0, 'seed': 42, 'nthread': 1}\n",
            "\ttrain_call_kwargs_params: {'verbose_eval': True, 'num_boost_round': 100}\n",
            "\tdmatrix_kwargs: {'nthread': 1, 'missing': nan}\n",
            "INFO:XGBoost-PySpark:Finished xgboost training!\n"
          ]
        },
        {
          "output_type": "stream",
          "name": "stdout",
          "text": [
            "100%|██████████| 40/40 [19:14<00:00, 28.87s/trial, best loss: -0.8834443662700473]\n"
          ]
        }
      ],
      "source": [
        "best_hyperparam = fmin(\n",
        "    fn = objective_function,\n",
        "    space = search_space,\n",
        "    algo = tpe.suggest,\n",
        "    max_evals = 40,\n",
        "    trials = trials,\n",
        "    early_stop_fn = no_progress_loss(15)\n",
        "    )"
      ]
    },
    {
      "cell_type": "code",
      "execution_count": 63,
      "metadata": {
        "colab": {
          "base_uri": "https://localhost:8080/"
        },
        "id": "W9_AchZa52FA",
        "outputId": "99a50048-d774-4ea5-db35-f910ba4a22d7"
      },
      "outputs": [
        {
          "output_type": "stream",
          "name": "stdout",
          "text": [
            "Best: {'gamma': 0.43449993329757747, 'max_depth': 12.0, 'min_child_weight': 1.0}\n"
          ]
        }
      ],
      "source": [
        "print(\"Best: {}\".format(best_hyperparam))"
      ]
    },
    {
      "cell_type": "code",
      "source": [
        "xgb_params = {'max_depth': int(best_hyperparam['max_depth']), 'min_child_weight': 1, 'gamma': 0}\n",
        "xgb_hopt = SparkXGBClassifier(features_col = 'features_scaled', label_col='target', seed = 42, verbosity = 0, **xgb_params)"
      ],
      "metadata": {
        "id": "AmsUCNWJKrp6"
      },
      "execution_count": 66,
      "outputs": []
    },
    {
      "cell_type": "code",
      "source": [
        "xgb_hopt_fitted = xgb_hopt.fit(treino_scaled)"
      ],
      "metadata": {
        "id": "WqBwC3jEKrp6",
        "colab": {
          "base_uri": "https://localhost:8080/"
        },
        "outputId": "e014cdcf-dc32-4c96-9a15-c29f27a10eca"
      },
      "execution_count": 67,
      "outputs": [
        {
          "output_type": "stream",
          "name": "stderr",
          "text": [
            "INFO:XGBoost-PySpark:Running xgboost-2.0.3 on 1 workers with\n",
            "\tbooster params: {'objective': 'binary:logistic', 'device': 'cpu', 'gamma': 0, 'max_depth': 12, 'min_child_weight': 1, 'verbosity': 0, 'seed': 42, 'nthread': 1}\n",
            "\ttrain_call_kwargs_params: {'verbose_eval': True, 'num_boost_round': 100}\n",
            "\tdmatrix_kwargs: {'nthread': 1, 'missing': nan}\n",
            "INFO:XGBoost-PySpark:Finished xgboost training!\n"
          ]
        }
      ]
    },
    {
      "cell_type": "code",
      "source": [
        "models = [logReg_fitted, tree_fitted, xgb_fitted, xgb_hopt_fitted]\n",
        "results_treino = []\n",
        "\n",
        "for model in models:\n",
        "  model_report = classification_report(model, treino_scaled)[1]\n",
        "  results_treino.append(model_report)"
      ],
      "metadata": {
        "id": "8rK8Shv-IDEk"
      },
      "execution_count": 70,
      "outputs": []
    },
    {
      "cell_type": "code",
      "source": [
        "pd.DataFrame(results_treino, index = ['logReg', 'tree', 'xgb', 'xgb_hopt'])"
      ],
      "metadata": {
        "colab": {
          "base_uri": "https://localhost:8080/",
          "height": 175
        },
        "outputId": "c7d2f2ef-0cb2-4ffb-9b3d-573eba302818",
        "id": "rkp6LdUcIDEm"
      },
      "execution_count": 71,
      "outputs": [
        {
          "output_type": "execute_result",
          "data": {
            "text/plain": [
              "               acc        f1      prec       rec\n",
              "logReg    0.786609  0.786450  0.807316  0.757158\n",
              "tree      0.790147  0.790074  0.805603  0.769044\n",
              "xgb       0.935901  0.935850  0.966234  0.904376\n",
              "xgb_hopt  0.988977  0.988976  0.997800  0.980281"
            ],
            "text/html": [
              "\n",
              "  <div id=\"df-1779eb44-1823-49f0-9886-cd7661ffc4e6\" class=\"colab-df-container\">\n",
              "    <div>\n",
              "<style scoped>\n",
              "    .dataframe tbody tr th:only-of-type {\n",
              "        vertical-align: middle;\n",
              "    }\n",
              "\n",
              "    .dataframe tbody tr th {\n",
              "        vertical-align: top;\n",
              "    }\n",
              "\n",
              "    .dataframe thead th {\n",
              "        text-align: right;\n",
              "    }\n",
              "</style>\n",
              "<table border=\"1\" class=\"dataframe\">\n",
              "  <thead>\n",
              "    <tr style=\"text-align: right;\">\n",
              "      <th></th>\n",
              "      <th>acc</th>\n",
              "      <th>f1</th>\n",
              "      <th>prec</th>\n",
              "      <th>rec</th>\n",
              "    </tr>\n",
              "  </thead>\n",
              "  <tbody>\n",
              "    <tr>\n",
              "      <th>logReg</th>\n",
              "      <td>0.786609</td>\n",
              "      <td>0.786450</td>\n",
              "      <td>0.807316</td>\n",
              "      <td>0.757158</td>\n",
              "    </tr>\n",
              "    <tr>\n",
              "      <th>tree</th>\n",
              "      <td>0.790147</td>\n",
              "      <td>0.790074</td>\n",
              "      <td>0.805603</td>\n",
              "      <td>0.769044</td>\n",
              "    </tr>\n",
              "    <tr>\n",
              "      <th>xgb</th>\n",
              "      <td>0.935901</td>\n",
              "      <td>0.935850</td>\n",
              "      <td>0.966234</td>\n",
              "      <td>0.904376</td>\n",
              "    </tr>\n",
              "    <tr>\n",
              "      <th>xgb_hopt</th>\n",
              "      <td>0.988977</td>\n",
              "      <td>0.988976</td>\n",
              "      <td>0.997800</td>\n",
              "      <td>0.980281</td>\n",
              "    </tr>\n",
              "  </tbody>\n",
              "</table>\n",
              "</div>\n",
              "    <div class=\"colab-df-buttons\">\n",
              "\n",
              "  <div class=\"colab-df-container\">\n",
              "    <button class=\"colab-df-convert\" onclick=\"convertToInteractive('df-1779eb44-1823-49f0-9886-cd7661ffc4e6')\"\n",
              "            title=\"Convert this dataframe to an interactive table.\"\n",
              "            style=\"display:none;\">\n",
              "\n",
              "  <svg xmlns=\"http://www.w3.org/2000/svg\" height=\"24px\" viewBox=\"0 -960 960 960\">\n",
              "    <path d=\"M120-120v-720h720v720H120Zm60-500h600v-160H180v160Zm220 220h160v-160H400v160Zm0 220h160v-160H400v160ZM180-400h160v-160H180v160Zm440 0h160v-160H620v160ZM180-180h160v-160H180v160Zm440 0h160v-160H620v160Z\"/>\n",
              "  </svg>\n",
              "    </button>\n",
              "\n",
              "  <style>\n",
              "    .colab-df-container {\n",
              "      display:flex;\n",
              "      gap: 12px;\n",
              "    }\n",
              "\n",
              "    .colab-df-convert {\n",
              "      background-color: #E8F0FE;\n",
              "      border: none;\n",
              "      border-radius: 50%;\n",
              "      cursor: pointer;\n",
              "      display: none;\n",
              "      fill: #1967D2;\n",
              "      height: 32px;\n",
              "      padding: 0 0 0 0;\n",
              "      width: 32px;\n",
              "    }\n",
              "\n",
              "    .colab-df-convert:hover {\n",
              "      background-color: #E2EBFA;\n",
              "      box-shadow: 0px 1px 2px rgba(60, 64, 67, 0.3), 0px 1px 3px 1px rgba(60, 64, 67, 0.15);\n",
              "      fill: #174EA6;\n",
              "    }\n",
              "\n",
              "    .colab-df-buttons div {\n",
              "      margin-bottom: 4px;\n",
              "    }\n",
              "\n",
              "    [theme=dark] .colab-df-convert {\n",
              "      background-color: #3B4455;\n",
              "      fill: #D2E3FC;\n",
              "    }\n",
              "\n",
              "    [theme=dark] .colab-df-convert:hover {\n",
              "      background-color: #434B5C;\n",
              "      box-shadow: 0px 1px 3px 1px rgba(0, 0, 0, 0.15);\n",
              "      filter: drop-shadow(0px 1px 2px rgba(0, 0, 0, 0.3));\n",
              "      fill: #FFFFFF;\n",
              "    }\n",
              "  </style>\n",
              "\n",
              "    <script>\n",
              "      const buttonEl =\n",
              "        document.querySelector('#df-1779eb44-1823-49f0-9886-cd7661ffc4e6 button.colab-df-convert');\n",
              "      buttonEl.style.display =\n",
              "        google.colab.kernel.accessAllowed ? 'block' : 'none';\n",
              "\n",
              "      async function convertToInteractive(key) {\n",
              "        const element = document.querySelector('#df-1779eb44-1823-49f0-9886-cd7661ffc4e6');\n",
              "        const dataTable =\n",
              "          await google.colab.kernel.invokeFunction('convertToInteractive',\n",
              "                                                    [key], {});\n",
              "        if (!dataTable) return;\n",
              "\n",
              "        const docLinkHtml = 'Like what you see? Visit the ' +\n",
              "          '<a target=\"_blank\" href=https://colab.research.google.com/notebooks/data_table.ipynb>data table notebook</a>'\n",
              "          + ' to learn more about interactive tables.';\n",
              "        element.innerHTML = '';\n",
              "        dataTable['output_type'] = 'display_data';\n",
              "        await google.colab.output.renderOutput(dataTable, element);\n",
              "        const docLink = document.createElement('div');\n",
              "        docLink.innerHTML = docLinkHtml;\n",
              "        element.appendChild(docLink);\n",
              "      }\n",
              "    </script>\n",
              "  </div>\n",
              "\n",
              "\n",
              "<div id=\"df-0bb8a03b-c7e4-47e8-951e-6b4eae20f8d1\">\n",
              "  <button class=\"colab-df-quickchart\" onclick=\"quickchart('df-0bb8a03b-c7e4-47e8-951e-6b4eae20f8d1')\"\n",
              "            title=\"Suggest charts\"\n",
              "            style=\"display:none;\">\n",
              "\n",
              "<svg xmlns=\"http://www.w3.org/2000/svg\" height=\"24px\"viewBox=\"0 0 24 24\"\n",
              "     width=\"24px\">\n",
              "    <g>\n",
              "        <path d=\"M19 3H5c-1.1 0-2 .9-2 2v14c0 1.1.9 2 2 2h14c1.1 0 2-.9 2-2V5c0-1.1-.9-2-2-2zM9 17H7v-7h2v7zm4 0h-2V7h2v10zm4 0h-2v-4h2v4z\"/>\n",
              "    </g>\n",
              "</svg>\n",
              "  </button>\n",
              "\n",
              "<style>\n",
              "  .colab-df-quickchart {\n",
              "      --bg-color: #E8F0FE;\n",
              "      --fill-color: #1967D2;\n",
              "      --hover-bg-color: #E2EBFA;\n",
              "      --hover-fill-color: #174EA6;\n",
              "      --disabled-fill-color: #AAA;\n",
              "      --disabled-bg-color: #DDD;\n",
              "  }\n",
              "\n",
              "  [theme=dark] .colab-df-quickchart {\n",
              "      --bg-color: #3B4455;\n",
              "      --fill-color: #D2E3FC;\n",
              "      --hover-bg-color: #434B5C;\n",
              "      --hover-fill-color: #FFFFFF;\n",
              "      --disabled-bg-color: #3B4455;\n",
              "      --disabled-fill-color: #666;\n",
              "  }\n",
              "\n",
              "  .colab-df-quickchart {\n",
              "    background-color: var(--bg-color);\n",
              "    border: none;\n",
              "    border-radius: 50%;\n",
              "    cursor: pointer;\n",
              "    display: none;\n",
              "    fill: var(--fill-color);\n",
              "    height: 32px;\n",
              "    padding: 0;\n",
              "    width: 32px;\n",
              "  }\n",
              "\n",
              "  .colab-df-quickchart:hover {\n",
              "    background-color: var(--hover-bg-color);\n",
              "    box-shadow: 0 1px 2px rgba(60, 64, 67, 0.3), 0 1px 3px 1px rgba(60, 64, 67, 0.15);\n",
              "    fill: var(--button-hover-fill-color);\n",
              "  }\n",
              "\n",
              "  .colab-df-quickchart-complete:disabled,\n",
              "  .colab-df-quickchart-complete:disabled:hover {\n",
              "    background-color: var(--disabled-bg-color);\n",
              "    fill: var(--disabled-fill-color);\n",
              "    box-shadow: none;\n",
              "  }\n",
              "\n",
              "  .colab-df-spinner {\n",
              "    border: 2px solid var(--fill-color);\n",
              "    border-color: transparent;\n",
              "    border-bottom-color: var(--fill-color);\n",
              "    animation:\n",
              "      spin 1s steps(1) infinite;\n",
              "  }\n",
              "\n",
              "  @keyframes spin {\n",
              "    0% {\n",
              "      border-color: transparent;\n",
              "      border-bottom-color: var(--fill-color);\n",
              "      border-left-color: var(--fill-color);\n",
              "    }\n",
              "    20% {\n",
              "      border-color: transparent;\n",
              "      border-left-color: var(--fill-color);\n",
              "      border-top-color: var(--fill-color);\n",
              "    }\n",
              "    30% {\n",
              "      border-color: transparent;\n",
              "      border-left-color: var(--fill-color);\n",
              "      border-top-color: var(--fill-color);\n",
              "      border-right-color: var(--fill-color);\n",
              "    }\n",
              "    40% {\n",
              "      border-color: transparent;\n",
              "      border-right-color: var(--fill-color);\n",
              "      border-top-color: var(--fill-color);\n",
              "    }\n",
              "    60% {\n",
              "      border-color: transparent;\n",
              "      border-right-color: var(--fill-color);\n",
              "    }\n",
              "    80% {\n",
              "      border-color: transparent;\n",
              "      border-right-color: var(--fill-color);\n",
              "      border-bottom-color: var(--fill-color);\n",
              "    }\n",
              "    90% {\n",
              "      border-color: transparent;\n",
              "      border-bottom-color: var(--fill-color);\n",
              "    }\n",
              "  }\n",
              "</style>\n",
              "\n",
              "  <script>\n",
              "    async function quickchart(key) {\n",
              "      const quickchartButtonEl =\n",
              "        document.querySelector('#' + key + ' button');\n",
              "      quickchartButtonEl.disabled = true;  // To prevent multiple clicks.\n",
              "      quickchartButtonEl.classList.add('colab-df-spinner');\n",
              "      try {\n",
              "        const charts = await google.colab.kernel.invokeFunction(\n",
              "            'suggestCharts', [key], {});\n",
              "      } catch (error) {\n",
              "        console.error('Error during call to suggestCharts:', error);\n",
              "      }\n",
              "      quickchartButtonEl.classList.remove('colab-df-spinner');\n",
              "      quickchartButtonEl.classList.add('colab-df-quickchart-complete');\n",
              "    }\n",
              "    (() => {\n",
              "      let quickchartButtonEl =\n",
              "        document.querySelector('#df-0bb8a03b-c7e4-47e8-951e-6b4eae20f8d1 button');\n",
              "      quickchartButtonEl.style.display =\n",
              "        google.colab.kernel.accessAllowed ? 'block' : 'none';\n",
              "    })();\n",
              "  </script>\n",
              "</div>\n",
              "\n",
              "    </div>\n",
              "  </div>\n"
            ],
            "application/vnd.google.colaboratory.intrinsic+json": {
              "type": "dataframe",
              "summary": "{\n  \"name\": \"pd\",\n  \"rows\": 4,\n  \"fields\": [\n    {\n      \"column\": \"acc\",\n      \"properties\": {\n        \"dtype\": \"number\",\n        \"std\": 0.10281373803072802,\n        \"min\": 0.7866086009798585,\n        \"max\": 0.9889765922700055,\n        \"num_unique_values\": 4,\n        \"samples\": [\n          0.7901469787697333,\n          0.9889765922700055,\n          0.7866086009798585\n        ],\n        \"semantic_type\": \"\",\n        \"description\": \"\"\n      }\n    },\n    {\n      \"column\": \"f1\",\n      \"properties\": {\n        \"dtype\": \"number\",\n        \"std\": 0.10286948789143965,\n        \"min\": 0.7864503453045113,\n        \"max\": 0.9889764728343236,\n        \"num_unique_values\": 4,\n        \"samples\": [\n          0.7900738303168927,\n          0.9889764728343236,\n          0.7864503453045113\n        ],\n        \"semantic_type\": \"\",\n        \"description\": \"\"\n      }\n    },\n    {\n      \"column\": \"prec\",\n      \"properties\": {\n        \"dtype\": \"number\",\n        \"std\": 0.10217674748560762,\n        \"min\": 0.8056027164685908,\n        \"max\": 0.9978003849326368,\n        \"num_unique_values\": 4,\n        \"samples\": [\n          0.8056027164685908,\n          0.9978003849326368,\n          0.807315668202765\n        ],\n        \"semantic_type\": \"\",\n        \"description\": \"\"\n      }\n    },\n    {\n      \"column\": \"rec\",\n      \"properties\": {\n        \"dtype\": \"number\",\n        \"std\": 0.10812629533654415,\n        \"min\": 0.7571582928146947,\n        \"max\": 0.9802809292274446,\n        \"num_unique_values\": 4,\n        \"samples\": [\n          0.7690437601296597,\n          0.9802809292274446,\n          0.7571582928146947\n        ],\n        \"semantic_type\": \"\",\n        \"description\": \"\"\n      }\n    }\n  ]\n}"
            }
          },
          "metadata": {},
          "execution_count": 71
        }
      ]
    },
    {
      "cell_type": "code",
      "source": [
        "models = [logReg_fitted, tree_fitted, xgb_fitted, xgb_hopt_fitted]\n",
        "results_teste = []\n",
        "\n",
        "for model in models:\n",
        "  model_report = classification_report(model, teste_scaled)[1]\n",
        "  results_teste.append(model_report)"
      ],
      "metadata": {
        "id": "bXM5DguuIS6z"
      },
      "execution_count": 72,
      "outputs": []
    },
    {
      "cell_type": "code",
      "source": [
        "pd.DataFrame(results_teste, index = ['logReg', 'tree', 'xgb', 'xgb_hopt'])"
      ],
      "metadata": {
        "colab": {
          "base_uri": "https://localhost:8080/",
          "height": 175
        },
        "outputId": "8356431b-a477-4465-cd64-eb0114876143",
        "id": "ZX0WQ9IsIS60"
      },
      "execution_count": 73,
      "outputs": [
        {
          "output_type": "execute_result",
          "data": {
            "text/plain": [
              "               acc        f1      prec       rec\n",
              "logReg    0.788333  0.788197  0.794926  0.766304\n",
              "tree      0.792000  0.791940  0.794036  0.777853\n",
              "xgb       0.817000  0.816945  0.820264  0.802989\n",
              "xgb_hopt  0.826333  0.826309  0.826804  0.817255"
            ],
            "text/html": [
              "\n",
              "  <div id=\"df-2dd7be8f-c747-422b-86fa-82ed46452a9d\" class=\"colab-df-container\">\n",
              "    <div>\n",
              "<style scoped>\n",
              "    .dataframe tbody tr th:only-of-type {\n",
              "        vertical-align: middle;\n",
              "    }\n",
              "\n",
              "    .dataframe tbody tr th {\n",
              "        vertical-align: top;\n",
              "    }\n",
              "\n",
              "    .dataframe thead th {\n",
              "        text-align: right;\n",
              "    }\n",
              "</style>\n",
              "<table border=\"1\" class=\"dataframe\">\n",
              "  <thead>\n",
              "    <tr style=\"text-align: right;\">\n",
              "      <th></th>\n",
              "      <th>acc</th>\n",
              "      <th>f1</th>\n",
              "      <th>prec</th>\n",
              "      <th>rec</th>\n",
              "    </tr>\n",
              "  </thead>\n",
              "  <tbody>\n",
              "    <tr>\n",
              "      <th>logReg</th>\n",
              "      <td>0.788333</td>\n",
              "      <td>0.788197</td>\n",
              "      <td>0.794926</td>\n",
              "      <td>0.766304</td>\n",
              "    </tr>\n",
              "    <tr>\n",
              "      <th>tree</th>\n",
              "      <td>0.792000</td>\n",
              "      <td>0.791940</td>\n",
              "      <td>0.794036</td>\n",
              "      <td>0.777853</td>\n",
              "    </tr>\n",
              "    <tr>\n",
              "      <th>xgb</th>\n",
              "      <td>0.817000</td>\n",
              "      <td>0.816945</td>\n",
              "      <td>0.820264</td>\n",
              "      <td>0.802989</td>\n",
              "    </tr>\n",
              "    <tr>\n",
              "      <th>xgb_hopt</th>\n",
              "      <td>0.826333</td>\n",
              "      <td>0.826309</td>\n",
              "      <td>0.826804</td>\n",
              "      <td>0.817255</td>\n",
              "    </tr>\n",
              "  </tbody>\n",
              "</table>\n",
              "</div>\n",
              "    <div class=\"colab-df-buttons\">\n",
              "\n",
              "  <div class=\"colab-df-container\">\n",
              "    <button class=\"colab-df-convert\" onclick=\"convertToInteractive('df-2dd7be8f-c747-422b-86fa-82ed46452a9d')\"\n",
              "            title=\"Convert this dataframe to an interactive table.\"\n",
              "            style=\"display:none;\">\n",
              "\n",
              "  <svg xmlns=\"http://www.w3.org/2000/svg\" height=\"24px\" viewBox=\"0 -960 960 960\">\n",
              "    <path d=\"M120-120v-720h720v720H120Zm60-500h600v-160H180v160Zm220 220h160v-160H400v160Zm0 220h160v-160H400v160ZM180-400h160v-160H180v160Zm440 0h160v-160H620v160ZM180-180h160v-160H180v160Zm440 0h160v-160H620v160Z\"/>\n",
              "  </svg>\n",
              "    </button>\n",
              "\n",
              "  <style>\n",
              "    .colab-df-container {\n",
              "      display:flex;\n",
              "      gap: 12px;\n",
              "    }\n",
              "\n",
              "    .colab-df-convert {\n",
              "      background-color: #E8F0FE;\n",
              "      border: none;\n",
              "      border-radius: 50%;\n",
              "      cursor: pointer;\n",
              "      display: none;\n",
              "      fill: #1967D2;\n",
              "      height: 32px;\n",
              "      padding: 0 0 0 0;\n",
              "      width: 32px;\n",
              "    }\n",
              "\n",
              "    .colab-df-convert:hover {\n",
              "      background-color: #E2EBFA;\n",
              "      box-shadow: 0px 1px 2px rgba(60, 64, 67, 0.3), 0px 1px 3px 1px rgba(60, 64, 67, 0.15);\n",
              "      fill: #174EA6;\n",
              "    }\n",
              "\n",
              "    .colab-df-buttons div {\n",
              "      margin-bottom: 4px;\n",
              "    }\n",
              "\n",
              "    [theme=dark] .colab-df-convert {\n",
              "      background-color: #3B4455;\n",
              "      fill: #D2E3FC;\n",
              "    }\n",
              "\n",
              "    [theme=dark] .colab-df-convert:hover {\n",
              "      background-color: #434B5C;\n",
              "      box-shadow: 0px 1px 3px 1px rgba(0, 0, 0, 0.15);\n",
              "      filter: drop-shadow(0px 1px 2px rgba(0, 0, 0, 0.3));\n",
              "      fill: #FFFFFF;\n",
              "    }\n",
              "  </style>\n",
              "\n",
              "    <script>\n",
              "      const buttonEl =\n",
              "        document.querySelector('#df-2dd7be8f-c747-422b-86fa-82ed46452a9d button.colab-df-convert');\n",
              "      buttonEl.style.display =\n",
              "        google.colab.kernel.accessAllowed ? 'block' : 'none';\n",
              "\n",
              "      async function convertToInteractive(key) {\n",
              "        const element = document.querySelector('#df-2dd7be8f-c747-422b-86fa-82ed46452a9d');\n",
              "        const dataTable =\n",
              "          await google.colab.kernel.invokeFunction('convertToInteractive',\n",
              "                                                    [key], {});\n",
              "        if (!dataTable) return;\n",
              "\n",
              "        const docLinkHtml = 'Like what you see? Visit the ' +\n",
              "          '<a target=\"_blank\" href=https://colab.research.google.com/notebooks/data_table.ipynb>data table notebook</a>'\n",
              "          + ' to learn more about interactive tables.';\n",
              "        element.innerHTML = '';\n",
              "        dataTable['output_type'] = 'display_data';\n",
              "        await google.colab.output.renderOutput(dataTable, element);\n",
              "        const docLink = document.createElement('div');\n",
              "        docLink.innerHTML = docLinkHtml;\n",
              "        element.appendChild(docLink);\n",
              "      }\n",
              "    </script>\n",
              "  </div>\n",
              "\n",
              "\n",
              "<div id=\"df-1d878dc4-9a43-4699-8f9a-ca5bf3e31bee\">\n",
              "  <button class=\"colab-df-quickchart\" onclick=\"quickchart('df-1d878dc4-9a43-4699-8f9a-ca5bf3e31bee')\"\n",
              "            title=\"Suggest charts\"\n",
              "            style=\"display:none;\">\n",
              "\n",
              "<svg xmlns=\"http://www.w3.org/2000/svg\" height=\"24px\"viewBox=\"0 0 24 24\"\n",
              "     width=\"24px\">\n",
              "    <g>\n",
              "        <path d=\"M19 3H5c-1.1 0-2 .9-2 2v14c0 1.1.9 2 2 2h14c1.1 0 2-.9 2-2V5c0-1.1-.9-2-2-2zM9 17H7v-7h2v7zm4 0h-2V7h2v10zm4 0h-2v-4h2v4z\"/>\n",
              "    </g>\n",
              "</svg>\n",
              "  </button>\n",
              "\n",
              "<style>\n",
              "  .colab-df-quickchart {\n",
              "      --bg-color: #E8F0FE;\n",
              "      --fill-color: #1967D2;\n",
              "      --hover-bg-color: #E2EBFA;\n",
              "      --hover-fill-color: #174EA6;\n",
              "      --disabled-fill-color: #AAA;\n",
              "      --disabled-bg-color: #DDD;\n",
              "  }\n",
              "\n",
              "  [theme=dark] .colab-df-quickchart {\n",
              "      --bg-color: #3B4455;\n",
              "      --fill-color: #D2E3FC;\n",
              "      --hover-bg-color: #434B5C;\n",
              "      --hover-fill-color: #FFFFFF;\n",
              "      --disabled-bg-color: #3B4455;\n",
              "      --disabled-fill-color: #666;\n",
              "  }\n",
              "\n",
              "  .colab-df-quickchart {\n",
              "    background-color: var(--bg-color);\n",
              "    border: none;\n",
              "    border-radius: 50%;\n",
              "    cursor: pointer;\n",
              "    display: none;\n",
              "    fill: var(--fill-color);\n",
              "    height: 32px;\n",
              "    padding: 0;\n",
              "    width: 32px;\n",
              "  }\n",
              "\n",
              "  .colab-df-quickchart:hover {\n",
              "    background-color: var(--hover-bg-color);\n",
              "    box-shadow: 0 1px 2px rgba(60, 64, 67, 0.3), 0 1px 3px 1px rgba(60, 64, 67, 0.15);\n",
              "    fill: var(--button-hover-fill-color);\n",
              "  }\n",
              "\n",
              "  .colab-df-quickchart-complete:disabled,\n",
              "  .colab-df-quickchart-complete:disabled:hover {\n",
              "    background-color: var(--disabled-bg-color);\n",
              "    fill: var(--disabled-fill-color);\n",
              "    box-shadow: none;\n",
              "  }\n",
              "\n",
              "  .colab-df-spinner {\n",
              "    border: 2px solid var(--fill-color);\n",
              "    border-color: transparent;\n",
              "    border-bottom-color: var(--fill-color);\n",
              "    animation:\n",
              "      spin 1s steps(1) infinite;\n",
              "  }\n",
              "\n",
              "  @keyframes spin {\n",
              "    0% {\n",
              "      border-color: transparent;\n",
              "      border-bottom-color: var(--fill-color);\n",
              "      border-left-color: var(--fill-color);\n",
              "    }\n",
              "    20% {\n",
              "      border-color: transparent;\n",
              "      border-left-color: var(--fill-color);\n",
              "      border-top-color: var(--fill-color);\n",
              "    }\n",
              "    30% {\n",
              "      border-color: transparent;\n",
              "      border-left-color: var(--fill-color);\n",
              "      border-top-color: var(--fill-color);\n",
              "      border-right-color: var(--fill-color);\n",
              "    }\n",
              "    40% {\n",
              "      border-color: transparent;\n",
              "      border-right-color: var(--fill-color);\n",
              "      border-top-color: var(--fill-color);\n",
              "    }\n",
              "    60% {\n",
              "      border-color: transparent;\n",
              "      border-right-color: var(--fill-color);\n",
              "    }\n",
              "    80% {\n",
              "      border-color: transparent;\n",
              "      border-right-color: var(--fill-color);\n",
              "      border-bottom-color: var(--fill-color);\n",
              "    }\n",
              "    90% {\n",
              "      border-color: transparent;\n",
              "      border-bottom-color: var(--fill-color);\n",
              "    }\n",
              "  }\n",
              "</style>\n",
              "\n",
              "  <script>\n",
              "    async function quickchart(key) {\n",
              "      const quickchartButtonEl =\n",
              "        document.querySelector('#' + key + ' button');\n",
              "      quickchartButtonEl.disabled = true;  // To prevent multiple clicks.\n",
              "      quickchartButtonEl.classList.add('colab-df-spinner');\n",
              "      try {\n",
              "        const charts = await google.colab.kernel.invokeFunction(\n",
              "            'suggestCharts', [key], {});\n",
              "      } catch (error) {\n",
              "        console.error('Error during call to suggestCharts:', error);\n",
              "      }\n",
              "      quickchartButtonEl.classList.remove('colab-df-spinner');\n",
              "      quickchartButtonEl.classList.add('colab-df-quickchart-complete');\n",
              "    }\n",
              "    (() => {\n",
              "      let quickchartButtonEl =\n",
              "        document.querySelector('#df-1d878dc4-9a43-4699-8f9a-ca5bf3e31bee button');\n",
              "      quickchartButtonEl.style.display =\n",
              "        google.colab.kernel.accessAllowed ? 'block' : 'none';\n",
              "    })();\n",
              "  </script>\n",
              "</div>\n",
              "\n",
              "    </div>\n",
              "  </div>\n"
            ],
            "application/vnd.google.colaboratory.intrinsic+json": {
              "type": "dataframe",
              "summary": "{\n  \"name\": \"pd\",\n  \"rows\": 4,\n  \"fields\": [\n    {\n      \"column\": \"acc\",\n      \"properties\": {\n        \"dtype\": \"number\",\n        \"std\": 0.01864160023332919,\n        \"min\": 0.7883333333333333,\n        \"max\": 0.8263333333333334,\n        \"num_unique_values\": 4,\n        \"samples\": [\n          0.792,\n          0.8263333333333334,\n          0.7883333333333333\n        ],\n        \"semantic_type\": \"\",\n        \"description\": \"\"\n      }\n    },\n    {\n      \"column\": \"f1\",\n      \"properties\": {\n        \"dtype\": \"number\",\n        \"std\": 0.018679621908742724,\n        \"min\": 0.7881972872559133,\n        \"max\": 0.8263093724421198,\n        \"num_unique_values\": 4,\n        \"samples\": [\n          0.7919403242931635,\n          0.8263093724421198,\n          0.7881972872559133\n        ],\n        \"semantic_type\": \"\",\n        \"description\": \"\"\n      }\n    },\n    {\n      \"column\": \"prec\",\n      \"properties\": {\n        \"dtype\": \"number\",\n        \"std\": 0.016988765814879396,\n        \"min\": 0.7940360610263523,\n        \"max\": 0.8268041237113402,\n        \"num_unique_values\": 4,\n        \"samples\": [\n          0.7940360610263523,\n          0.8268041237113402,\n          0.7949260042283298\n        ],\n        \"semantic_type\": \"\",\n        \"description\": \"\"\n      }\n    },\n    {\n      \"column\": \"rec\",\n      \"properties\": {\n        \"dtype\": \"number\",\n        \"std\": 0.02320746039747109,\n        \"min\": 0.7663043478260869,\n        \"max\": 0.8172554347826086,\n        \"num_unique_values\": 4,\n        \"samples\": [\n          0.7778532608695652,\n          0.8172554347826086,\n          0.7663043478260869\n        ],\n        \"semantic_type\": \"\",\n        \"description\": \"\"\n      }\n    }\n  ]\n}"
            }
          },
          "metadata": {},
          "execution_count": 73
        }
      ]
    }
  ]
}